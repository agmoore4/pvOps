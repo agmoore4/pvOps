{
 "cells": [
  {
   "cell_type": "code",
   "execution_count": 57,
   "metadata": {},
   "outputs": [],
   "source": [
    "# for reading in data\n",
    "import pandas as pd\n",
    "\n",
    "# data preprocessing\n",
    "from pvops.text.preprocess import text_remove_numbers_stopwords\n",
    "from nltk import corpus\n",
    "\n",
    "# machine learning pipeline: vectorizer, model definitions, and scoring\n",
    "from pvops.text.classify import classification_deployer\n",
    "from pvops.text.defaults import supervised_classifier_defs\n",
    "from sklearn.feature_extraction.text import TfidfVectorizer\n",
    "from sklearn.metrics import accuracy_score, make_scorer"
   ]
  },
  {
   "cell_type": "markdown",
   "metadata": {},
   "source": [
    "\n",
    "### Read in data"
   ]
  },
  {
   "cell_type": "markdown",
   "metadata": {},
   "source": [
    "First, we'll read in the data and take a look at it. We would like to identify inverter-related records, so our column of interest is `Asset`."
   ]
  },
  {
   "cell_type": "code",
   "execution_count": 58,
   "metadata": {},
   "outputs": [
    {
     "data": {
      "text/plain": [
       "0    NaN\n",
       "1    NaN\n",
       "2    NaN\n",
       "3    NaN\n",
       "4    NaN\n",
       "5    NaN\n",
       "6    NaN\n",
       "7    NaN\n",
       "8    NaN\n",
       "9    NaN\n",
       "Name: Asset, dtype: object"
      ]
     },
     "execution_count": 58,
     "metadata": {},
     "output_type": "execute_result"
    }
   ],
   "source": [
    "CM_df = pd.read_csv('example_data/example_CM_records.csv')\n",
    "CM_df['Asset'].head(10)"
   ]
  },
  {
   "cell_type": "markdown",
   "metadata": {},
   "source": [
    "We can see that many records have a missing `Asset` field. Let's see how many records are missing it."
   ]
  },
  {
   "cell_type": "code",
   "execution_count": 59,
   "metadata": {},
   "outputs": [
    {
     "name": "stdout",
     "output_type": "stream",
     "text": [
      "66/1093 records have a missing asset (6.0%).\n"
     ]
    }
   ],
   "source": [
    "count_null = CM_df['Asset'].isnull().sum()\n",
    "print(f'{count_null}/{len(CM_df)} records have a missing asset ({count_null/len(CM_df)*100 :.1f}%).')"
   ]
  },
  {
   "cell_type": "markdown",
   "metadata": {},
   "source": [
    "We would like to leverage as much of the data as we can for later analysis, so it would help to find a way to gap-fill these records that are missing the asset. We can do so by leveraging the plain-text event description in the `GeneralDesc` column. Let's pull out the data of interest."
   ]
  },
  {
   "cell_type": "code",
   "execution_count": 60,
   "metadata": {},
   "outputs": [
    {
     "data": {
      "text/html": [
       "<div>\n",
       "<style scoped>\n",
       "    .dataframe tbody tr th:only-of-type {\n",
       "        vertical-align: middle;\n",
       "    }\n",
       "\n",
       "    .dataframe tbody tr th {\n",
       "        vertical-align: top;\n",
       "    }\n",
       "\n",
       "    .dataframe thead th {\n",
       "        text-align: right;\n",
       "    }\n",
       "</style>\n",
       "<table border=\"1\" class=\"dataframe\">\n",
       "  <thead>\n",
       "    <tr style=\"text-align: right;\">\n",
       "      <th></th>\n",
       "      <th>Asset</th>\n",
       "      <th>GeneralDesc</th>\n",
       "    </tr>\n",
       "  </thead>\n",
       "  <tbody>\n",
       "    <tr>\n",
       "      <th>20</th>\n",
       "      <td>Inverter</td>\n",
       "      <td>Inverter underperforming due to unknown</td>\n",
       "    </tr>\n",
       "    <tr>\n",
       "      <th>21</th>\n",
       "      <td>Inverter</td>\n",
       "      <td>Inverter not producing due to Unknown</td>\n",
       "    </tr>\n",
       "    <tr>\n",
       "      <th>22</th>\n",
       "      <td>Inverter</td>\n",
       "      <td>Inverter Faulted Due Hardware Malfunction</td>\n",
       "    </tr>\n",
       "    <tr>\n",
       "      <th>24</th>\n",
       "      <td>Tracking System</td>\n",
       "      <td>Tracker repair.</td>\n",
       "    </tr>\n",
       "    <tr>\n",
       "      <th>27</th>\n",
       "      <td>Tracking System</td>\n",
       "      <td>Motor 1 registering encoder feedback error.. E...</td>\n",
       "    </tr>\n",
       "  </tbody>\n",
       "</table>\n",
       "</div>"
      ],
      "text/plain": [
       "              Asset                                        GeneralDesc\n",
       "20         Inverter            Inverter underperforming due to unknown\n",
       "21         Inverter              Inverter not producing due to Unknown\n",
       "22         Inverter          Inverter Faulted Due Hardware Malfunction\n",
       "24  Tracking System                                   Tracker repair. \n",
       "27  Tracking System  Motor 1 registering encoder feedback error.. E..."
      ]
     },
     "execution_count": 60,
     "metadata": {},
     "output_type": "execute_result"
    }
   ],
   "source": [
    "# pull out the Asset and GeneralDesc columns, and any rows with nulls in either column\n",
    "CM_nonnull = CM_df[['Asset','GeneralDesc']].dropna()\n",
    "CM_nonnull.head(5)"
   ]
  },
  {
   "cell_type": "markdown",
   "metadata": {},
   "source": [
    "For good measure, we can also look to see how many of the non-null records have an inverter-related asset:"
   ]
  },
  {
   "cell_type": "code",
   "execution_count": 61,
   "metadata": {},
   "outputs": [
    {
     "name": "stdout",
     "output_type": "stream",
     "text": [
      "384/1027 records have an inverter-related asset (37.4%).\n"
     ]
    }
   ],
   "source": [
    "count_inverter = CM_nonnull['Asset'].str.contains('Inverter').sum()\n",
    "print(f'{count_inverter}/{len(CM_nonnull)} records have an inverter-related asset ({count_inverter/len(CM_nonnull)*100 :.1f}%).')"
   ]
  },
  {
   "cell_type": "markdown",
   "metadata": {},
   "source": [
    "### Naive approach: keyword method"
   ]
  },
  {
   "cell_type": "markdown",
   "metadata": {},
   "source": [
    "As a first approach, we can perform a simple keyword-based method. We make a prediction of the asset based on whether the word \"inverter\" is present in the description."
   ]
  },
  {
   "cell_type": "code",
   "execution_count": 62,
   "metadata": {},
   "outputs": [
    {
     "name": "stdout",
     "output_type": "stream",
     "text": [
      "835/1027 records predicted correctly from keyword search (81.3%).\n"
     ]
    }
   ],
   "source": [
    "# check if the event description contains the word 'inverter'; this is our prediction\n",
    "prediction = CM_nonnull['GeneralDesc'].str.lower().str.contains('inverter')\n",
    "# check if the asset itself contains the word 'inverter'; this is the true label\n",
    "true_label = CM_nonnull['Asset'].str.lower().str.contains('inverter')\n",
    "\n",
    "naive_num_correct = (prediction == true_label).sum()\n",
    "print(f'{naive_num_correct}/{len(CM_nonnull)} records predicted correctly from keyword search '\n",
    "      + f'({naive_num_correct/len(CM_nonnull)*100 :.1f}%).')"
   ]
  },
  {
   "cell_type": "markdown",
   "metadata": {},
   "source": [
    "This already does decently well. Let's see if we can improve our results via a more robust machine learning approach."
   ]
  },
  {
   "cell_type": "markdown",
   "metadata": {},
   "source": [
    "### Prepare data for supervised classification"
   ]
  },
  {
   "cell_type": "markdown",
   "metadata": {},
   "source": [
    "First, we need to clean our text data. We can use `nltk`'s english stopwords list to remove common words that won't have much bearing on the true content of the records. All we need to do is pass this into the `text_remove_numbers_stopwords()` function from `pvops.text.preprocess`, which will handle all of this for us.\n",
    "\n",
    "From there, we can make everything lowercase, and we're basically done. "
   ]
  },
  {
   "cell_type": "code",
   "execution_count": 63,
   "metadata": {},
   "outputs": [
    {
     "data": {
      "text/html": [
       "<div>\n",
       "<style scoped>\n",
       "    .dataframe tbody tr th:only-of-type {\n",
       "        vertical-align: middle;\n",
       "    }\n",
       "\n",
       "    .dataframe tbody tr th {\n",
       "        vertical-align: top;\n",
       "    }\n",
       "\n",
       "    .dataframe thead th {\n",
       "        text-align: right;\n",
       "    }\n",
       "</style>\n",
       "<table border=\"1\" class=\"dataframe\">\n",
       "  <thead>\n",
       "    <tr style=\"text-align: right;\">\n",
       "      <th></th>\n",
       "      <th>Asset</th>\n",
       "      <th>GeneralDesc</th>\n",
       "      <th>GeneralDescCleaned</th>\n",
       "      <th>GeneralDescLower</th>\n",
       "    </tr>\n",
       "  </thead>\n",
       "  <tbody>\n",
       "    <tr>\n",
       "      <th>20</th>\n",
       "      <td>Inverter</td>\n",
       "      <td>Inverter underperforming due to unknown</td>\n",
       "      <td>Inverter underperforming due unknown</td>\n",
       "      <td>inverter underperforming due unknown</td>\n",
       "    </tr>\n",
       "    <tr>\n",
       "      <th>21</th>\n",
       "      <td>Inverter</td>\n",
       "      <td>Inverter not producing due to Unknown</td>\n",
       "      <td>Inverter producing due Unknown</td>\n",
       "      <td>inverter producing due unknown</td>\n",
       "    </tr>\n",
       "    <tr>\n",
       "      <th>22</th>\n",
       "      <td>Inverter</td>\n",
       "      <td>Inverter Faulted Due Hardware Malfunction</td>\n",
       "      <td>Inverter Faulted Due Hardware Malfunction</td>\n",
       "      <td>inverter faulted due hardware malfunction</td>\n",
       "    </tr>\n",
       "    <tr>\n",
       "      <th>24</th>\n",
       "      <td>Tracking System</td>\n",
       "      <td>Tracker repair.</td>\n",
       "      <td>Tracker repair</td>\n",
       "      <td>tracker repair</td>\n",
       "    </tr>\n",
       "    <tr>\n",
       "      <th>27</th>\n",
       "      <td>Tracking System</td>\n",
       "      <td>Motor 1 registering encoder feedback error.. E...</td>\n",
       "      <td>Motor registering encoder feedback error Encod...</td>\n",
       "      <td>motor registering encoder feedback error encod...</td>\n",
       "    </tr>\n",
       "  </tbody>\n",
       "</table>\n",
       "</div>"
      ],
      "text/plain": [
       "              Asset                                        GeneralDesc  \\\n",
       "20         Inverter            Inverter underperforming due to unknown   \n",
       "21         Inverter              Inverter not producing due to Unknown   \n",
       "22         Inverter          Inverter Faulted Due Hardware Malfunction   \n",
       "24  Tracking System                                   Tracker repair.    \n",
       "27  Tracking System  Motor 1 registering encoder feedback error.. E...   \n",
       "\n",
       "                                   GeneralDescCleaned  \\\n",
       "20               Inverter underperforming due unknown   \n",
       "21                     Inverter producing due Unknown   \n",
       "22          Inverter Faulted Due Hardware Malfunction   \n",
       "24                                     Tracker repair   \n",
       "27  Motor registering encoder feedback error Encod...   \n",
       "\n",
       "                                     GeneralDescLower  \n",
       "20               inverter underperforming due unknown  \n",
       "21                     inverter producing due unknown  \n",
       "22          inverter faulted due hardware malfunction  \n",
       "24                                     tracker repair  \n",
       "27  motor registering encoder feedback error encod...  "
      ]
     },
     "execution_count": 63,
     "metadata": {},
     "output_type": "execute_result"
    }
   ],
   "source": [
    "# clean the event description\n",
    "stopwords = corpus.stopwords.words('english')\n",
    "CM_nonnull['GeneralDescCleaned'] = CM_nonnull.apply(lambda x: text_remove_numbers_stopwords(x['GeneralDesc'], stopwords),\n",
    "                                                    axis='columns')\n",
    "\n",
    "# set event description to be lowercase\n",
    "CM_nonnull['GeneralDescLower'] = CM_nonnull['GeneralDescCleaned'].str.lower()\n",
    "\n",
    "CM_nonnull.head(5)"
   ]
  },
  {
   "cell_type": "markdown",
   "metadata": {},
   "source": [
    "Finally, we would like to have our response be a binary value: whether the asset relates to inverters or not. We can use the `remappings_asset.csv` file to help us with this."
   ]
  },
  {
   "cell_type": "code",
   "execution_count": 64,
   "metadata": {},
   "outputs": [
    {
     "data": {
      "text/html": [
       "<div>\n",
       "<style scoped>\n",
       "    .dataframe tbody tr th:only-of-type {\n",
       "        vertical-align: middle;\n",
       "    }\n",
       "\n",
       "    .dataframe tbody tr th {\n",
       "        vertical-align: top;\n",
       "    }\n",
       "\n",
       "    .dataframe thead th {\n",
       "        text-align: right;\n",
       "    }\n",
       "</style>\n",
       "<table border=\"1\" class=\"dataframe\">\n",
       "  <thead>\n",
       "    <tr style=\"text-align: right;\">\n",
       "      <th></th>\n",
       "      <th>in</th>\n",
       "      <th>out_</th>\n",
       "    </tr>\n",
       "  </thead>\n",
       "  <tbody>\n",
       "    <tr>\n",
       "      <th>44</th>\n",
       "      <td>Point of Interconnection</td>\n",
       "      <td>other</td>\n",
       "    </tr>\n",
       "    <tr>\n",
       "      <th>45</th>\n",
       "      <td>Racking/Trackers</td>\n",
       "      <td>tracker</td>\n",
       "    </tr>\n",
       "    <tr>\n",
       "      <th>46</th>\n",
       "      <td>Rooftop PV System</td>\n",
       "      <td>other</td>\n",
       "    </tr>\n",
       "    <tr>\n",
       "      <th>47</th>\n",
       "      <td>Site</td>\n",
       "      <td>other</td>\n",
       "    </tr>\n",
       "    <tr>\n",
       "      <th>48</th>\n",
       "      <td>String</td>\n",
       "      <td>other</td>\n",
       "    </tr>\n",
       "    <tr>\n",
       "      <th>49</th>\n",
       "      <td>String Inverter</td>\n",
       "      <td>inverter</td>\n",
       "    </tr>\n",
       "    <tr>\n",
       "      <th>50</th>\n",
       "      <td>Subarray</td>\n",
       "      <td>other</td>\n",
       "    </tr>\n",
       "    <tr>\n",
       "      <th>51</th>\n",
       "      <td>Summary</td>\n",
       "      <td>other</td>\n",
       "    </tr>\n",
       "    <tr>\n",
       "      <th>52</th>\n",
       "      <td>Tracker control unit</td>\n",
       "      <td>tracker</td>\n",
       "    </tr>\n",
       "    <tr>\n",
       "      <th>53</th>\n",
       "      <td>Tracking System</td>\n",
       "      <td>tracker</td>\n",
       "    </tr>\n",
       "  </tbody>\n",
       "</table>\n",
       "</div>"
      ],
      "text/plain": [
       "                          in      out_\n",
       "44  Point of Interconnection     other\n",
       "45          Racking/Trackers   tracker\n",
       "46         Rooftop PV System     other\n",
       "47                      Site     other\n",
       "48                    String     other\n",
       "49           String Inverter  inverter\n",
       "50                  Subarray     other\n",
       "51                   Summary     other\n",
       "52      Tracker control unit   tracker\n",
       "53           Tracking System   tracker"
      ]
     },
     "execution_count": 64,
     "metadata": {},
     "output_type": "execute_result"
    }
   ],
   "source": [
    "remappings_df = pd.read_csv('example_data/remappings_asset.csv')\n",
    "remappings_df[-10:] # end of the dataframe is more clear on what it is doing"
   ]
  },
  {
   "cell_type": "markdown",
   "metadata": {},
   "source": [
    "All we need to do is put together a dictionary that will let us map the asset in our dataframe to a more general asset description."
   ]
  },
  {
   "cell_type": "code",
   "execution_count": 65,
   "metadata": {},
   "outputs": [],
   "source": [
    "remapping_dict = {row['in'].lower() : row['out_'].lower() for _, row in remappings_df.iterrows()}\n",
    "CM_nonnull['SimpleAsset'] = CM_nonnull['Asset'].apply(lambda x : remapping_dict[x.lower()])\n",
    "\n",
    "# define our x as the general event description, and y as whether the asset is related to inverters\n",
    "x = CM_nonnull['GeneralDescLower']\n",
    "y = CM_nonnull['SimpleAsset'] == 'inverter'"
   ]
  },
  {
   "cell_type": "markdown",
   "metadata": {},
   "source": [
    "### Model training and selection"
   ]
  },
  {
   "cell_type": "markdown",
   "metadata": {},
   "source": [
    "Now, it's time to begin the model training. First, we need to turn our `x` into numerical data, which we can do via tf-idf vectorization. We'd like our vectorization to include the entire corpus of our event descriptions, even those where the asset is null. This is so we can use our exact same pipeline to predict the missing asset labels in the final step."
   ]
  },
  {
   "cell_type": "code",
   "execution_count": 66,
   "metadata": {},
   "outputs": [],
   "source": [
    "# fit the tf-idf vectorizer on the whole corpus, including the rows w/o asset that we plan to gapfill using our model\n",
    "all_descr = CM_df.dropna(subset='GeneralDesc')['GeneralDesc']\n",
    "all_descr = all_descr.str.lower().astype('str')\n",
    "vectorizer = TfidfVectorizer(min_df=1, stop_words=stopwords, ngram_range=(1,2), sublinear_tf=True)\n",
    "vectorizer.fit(all_descr);"
   ]
  },
  {
   "cell_type": "markdown",
   "metadata": {},
   "source": [
    "Now, we can fit models across various parameters using the `classification_deployer()` function from `pvops.text.classify`. All we need to do is define our pipeline, our models, our parameters, and our scoring function.\n",
    "\n",
    "The pipeline and scoring function are easy enough. We can get a good set of model parameters to search over from `pvops.text.defaults`, as shown below:"
   ]
  },
  {
   "cell_type": "code",
   "execution_count": 67,
   "metadata": {},
   "outputs": [],
   "source": [
    "# first do vectorization, then classification\n",
    "pipeline_steps = [('tfidf', vectorizer),\n",
    "                  ('clf', None)]\n",
    "\n",
    "# basic accuracy score metric\n",
    "scorer = make_scorer(accuracy_score)\n",
    "\n",
    "# models that we will use\n",
    "model_names = ['LinearSVC', 'LogisticRegression', 'PassiveAggressiveClassifier']\n",
    "\n",
    "# get the default parameter grid from pvops for these models\n",
    "(params, model_instances) = supervised_classifier_defs('detailed')\n",
    "classifiers = {model_name : model_instances[model_name] for model_name in model_names}\n",
    "param_grid = {model_name : params[model_name] for model_name in model_names}"
   ]
  },
  {
   "cell_type": "markdown",
   "metadata": {},
   "source": [
    "We can see below what our resulting `classifiers` and `param_grid` variables look like:"
   ]
  },
  {
   "cell_type": "code",
   "execution_count": 68,
   "metadata": {},
   "outputs": [
    {
     "name": "stdout",
     "output_type": "stream",
     "text": [
      "{'LinearSVC': LinearSVC(), 'LogisticRegression': LogisticRegression(), 'PassiveAggressiveClassifier': PassiveAggressiveClassifier()}\n"
     ]
    },
    {
     "data": {
      "text/plain": [
       "{'LinearSVC': {'clf__C': [0.01, 0.1, 1, 10.0, 100.0, 1000.0],\n",
       "  'clf__max_iter': [800, 1000, 1200, 1500, 2000]},\n",
       " 'LogisticRegression': {'clf__solver': ['newton-cg', 'lbfgs', 'sag'],\n",
       "  'clf__C': array([1.00000000e+00, 2.78255940e+00, 7.74263683e+00, 2.15443469e+01,\n",
       "         5.99484250e+01, 1.66810054e+02, 4.64158883e+02, 1.29154967e+03,\n",
       "         3.59381366e+03, 1.00000000e+04])},\n",
       " 'PassiveAggressiveClassifier': {'clf__C': [0.001, 0.01, 0.1, 1.0],\n",
       "  'clf__loss': ['hinge', 'squared_hinge']}}"
      ]
     },
     "execution_count": 68,
     "metadata": {},
     "output_type": "execute_result"
    }
   ],
   "source": [
    "print(classifiers)\n",
    "param_grid"
   ]
  },
  {
   "cell_type": "markdown",
   "metadata": {},
   "source": [
    "Finally, all we need to do is pass everything into `classification_deployer()`:"
   ]
  },
  {
   "cell_type": "code",
   "execution_count": 69,
   "metadata": {},
   "outputs": [
    {
     "name": "stdout",
     "output_type": "stream",
     "text": [
      "Fitting 5 folds for each of 30 candidates, totalling 150 fits\n"
     ]
    },
    {
     "name": "stderr",
     "output_type": "stream",
     "text": [
      "c:\\Users\\agmoore\\AppData\\Local\\anaconda3\\envs\\pvops_bare_with_tweaks\\Lib\\site-packages\\sklearn\\svm\\_base.py:1235: ConvergenceWarning: Liblinear failed to converge, increase the number of iterations.\n",
      "  warnings.warn(\n"
     ]
    },
    {
     "name": "stdout",
     "output_type": "stream",
     "text": [
      "Better score (0.891) found on classifier: LinearSVC\n",
      "Fitting 5 folds for each of 30 candidates, totalling 150 fits\n"
     ]
    },
    {
     "name": "stderr",
     "output_type": "stream",
     "text": [
      "c:\\Users\\agmoore\\AppData\\Local\\anaconda3\\envs\\pvops_bare_with_tweaks\\Lib\\site-packages\\sklearn\\linear_model\\_sag.py:349: ConvergenceWarning: The max_iter was reached which means the coef_ did not converge\n",
      "  warnings.warn(\n"
     ]
    },
    {
     "name": "stdout",
     "output_type": "stream",
     "text": [
      "Better score (0.897) found on classifier: LogisticRegression\n",
      "Fitting 5 folds for each of 8 candidates, totalling 40 fits\n",
      "Better score (0.898) found on classifier: PassiveAggressiveClassifier\n"
     ]
    }
   ],
   "source": [
    "summary_table, best_model = classification_deployer(x,\n",
    "                                                    y,\n",
    "                                                    n_splits=5,\n",
    "                                                    classifiers=classifiers,\n",
    "                                                    search_space=param_grid,\n",
    "                                                    pipeline_steps=pipeline_steps,\n",
    "                                                    scoring=scorer)"
   ]
  },
  {
   "cell_type": "markdown",
   "metadata": {},
   "source": [
    "And below, we can see a summary of how the models performed."
   ]
  },
  {
   "cell_type": "code",
   "execution_count": 71,
   "metadata": {},
   "outputs": [
    {
     "data": {
      "text/html": [
       "<div>\n",
       "<style scoped>\n",
       "    .dataframe tbody tr th:only-of-type {\n",
       "        vertical-align: middle;\n",
       "    }\n",
       "\n",
       "    .dataframe tbody tr th {\n",
       "        vertical-align: top;\n",
       "    }\n",
       "\n",
       "    .dataframe thead th {\n",
       "        text-align: right;\n",
       "    }\n",
       "</style>\n",
       "<table border=\"1\" class=\"dataframe\">\n",
       "  <thead>\n",
       "    <tr style=\"text-align: right;\">\n",
       "      <th></th>\n",
       "      <th>clf__C</th>\n",
       "      <th>clf__max_iter</th>\n",
       "      <th>mean_fit_time</th>\n",
       "      <th>estimator</th>\n",
       "      <th>min_score</th>\n",
       "      <th>max_score</th>\n",
       "      <th>mean_score</th>\n",
       "      <th>std_score</th>\n",
       "      <th>clf__solver</th>\n",
       "      <th>clf__loss</th>\n",
       "    </tr>\n",
       "  </thead>\n",
       "  <tbody>\n",
       "    <tr>\n",
       "      <th>63</th>\n",
       "      <td>0.01</td>\n",
       "      <td>NaN</td>\n",
       "      <td>0.259973</td>\n",
       "      <td>PassiveAggressiveClassifier</td>\n",
       "      <td>0.765854</td>\n",
       "      <td>0.956098</td>\n",
       "      <td>0.897703</td>\n",
       "      <td>0.068552</td>\n",
       "      <td>NaN</td>\n",
       "      <td>squared_hinge</td>\n",
       "    </tr>\n",
       "    <tr>\n",
       "      <th>56</th>\n",
       "      <td>3593.813664</td>\n",
       "      <td>NaN</td>\n",
       "      <td>0.366188</td>\n",
       "      <td>LogisticRegression</td>\n",
       "      <td>0.760976</td>\n",
       "      <td>0.956098</td>\n",
       "      <td>0.896732</td>\n",
       "      <td>0.070559</td>\n",
       "      <td>sag</td>\n",
       "      <td>NaN</td>\n",
       "    </tr>\n",
       "    <tr>\n",
       "      <th>62</th>\n",
       "      <td>0.01</td>\n",
       "      <td>NaN</td>\n",
       "      <td>0.304948</td>\n",
       "      <td>PassiveAggressiveClassifier</td>\n",
       "      <td>0.760976</td>\n",
       "      <td>0.956098</td>\n",
       "      <td>0.893815</td>\n",
       "      <td>0.070214</td>\n",
       "      <td>NaN</td>\n",
       "      <td>hinge</td>\n",
       "    </tr>\n",
       "    <tr>\n",
       "      <th>50</th>\n",
       "      <td>464.158883</td>\n",
       "      <td>NaN</td>\n",
       "      <td>0.486903</td>\n",
       "      <td>LogisticRegression</td>\n",
       "      <td>0.765854</td>\n",
       "      <td>0.95122</td>\n",
       "      <td>0.892839</td>\n",
       "      <td>0.066008</td>\n",
       "      <td>sag</td>\n",
       "      <td>NaN</td>\n",
       "    </tr>\n",
       "    <tr>\n",
       "      <th>53</th>\n",
       "      <td>1291.549665</td>\n",
       "      <td>NaN</td>\n",
       "      <td>0.412428</td>\n",
       "      <td>LogisticRegression</td>\n",
       "      <td>0.756098</td>\n",
       "      <td>0.95122</td>\n",
       "      <td>0.892834</td>\n",
       "      <td>0.070207</td>\n",
       "      <td>sag</td>\n",
       "      <td>NaN</td>\n",
       "    </tr>\n",
       "    <tr>\n",
       "      <th>66</th>\n",
       "      <td>1.0</td>\n",
       "      <td>NaN</td>\n",
       "      <td>0.254419</td>\n",
       "      <td>PassiveAggressiveClassifier</td>\n",
       "      <td>0.760976</td>\n",
       "      <td>0.95122</td>\n",
       "      <td>0.891849</td>\n",
       "      <td>0.069144</td>\n",
       "      <td>NaN</td>\n",
       "      <td>hinge</td>\n",
       "    </tr>\n",
       "    <tr>\n",
       "      <th>59</th>\n",
       "      <td>10000.0</td>\n",
       "      <td>NaN</td>\n",
       "      <td>0.384808</td>\n",
       "      <td>LogisticRegression</td>\n",
       "      <td>0.765854</td>\n",
       "      <td>0.95122</td>\n",
       "      <td>0.890893</td>\n",
       "      <td>0.065184</td>\n",
       "      <td>sag</td>\n",
       "      <td>NaN</td>\n",
       "    </tr>\n",
       "    <tr>\n",
       "      <th>24</th>\n",
       "      <td>100.0</td>\n",
       "      <td>2000</td>\n",
       "      <td>0.584124</td>\n",
       "      <td>LinearSVC</td>\n",
       "      <td>0.770732</td>\n",
       "      <td>0.946341</td>\n",
       "      <td>0.890888</td>\n",
       "      <td>0.062957</td>\n",
       "      <td>NaN</td>\n",
       "      <td>NaN</td>\n",
       "    </tr>\n",
       "    <tr>\n",
       "      <th>22</th>\n",
       "      <td>100.0</td>\n",
       "      <td>1200</td>\n",
       "      <td>0.514852</td>\n",
       "      <td>LinearSVC</td>\n",
       "      <td>0.770732</td>\n",
       "      <td>0.946341</td>\n",
       "      <td>0.890888</td>\n",
       "      <td>0.062957</td>\n",
       "      <td>NaN</td>\n",
       "      <td>NaN</td>\n",
       "    </tr>\n",
       "    <tr>\n",
       "      <th>21</th>\n",
       "      <td>100.0</td>\n",
       "      <td>1000</td>\n",
       "      <td>0.422944</td>\n",
       "      <td>LinearSVC</td>\n",
       "      <td>0.770732</td>\n",
       "      <td>0.946341</td>\n",
       "      <td>0.890888</td>\n",
       "      <td>0.062957</td>\n",
       "      <td>NaN</td>\n",
       "      <td>NaN</td>\n",
       "    </tr>\n",
       "  </tbody>\n",
       "</table>\n",
       "</div>"
      ],
      "text/plain": [
       "         clf__C clf__max_iter mean_fit_time                    estimator  \\\n",
       "63         0.01           NaN      0.259973  PassiveAggressiveClassifier   \n",
       "56  3593.813664           NaN      0.366188           LogisticRegression   \n",
       "62         0.01           NaN      0.304948  PassiveAggressiveClassifier   \n",
       "50   464.158883           NaN      0.486903           LogisticRegression   \n",
       "53  1291.549665           NaN      0.412428           LogisticRegression   \n",
       "66          1.0           NaN      0.254419  PassiveAggressiveClassifier   \n",
       "59      10000.0           NaN      0.384808           LogisticRegression   \n",
       "24        100.0          2000      0.584124                    LinearSVC   \n",
       "22        100.0          1200      0.514852                    LinearSVC   \n",
       "21        100.0          1000      0.422944                    LinearSVC   \n",
       "\n",
       "   min_score max_score mean_score std_score clf__solver      clf__loss  \n",
       "63  0.765854  0.956098   0.897703  0.068552         NaN  squared_hinge  \n",
       "56  0.760976  0.956098   0.896732  0.070559         sag            NaN  \n",
       "62  0.760976  0.956098   0.893815  0.070214         NaN          hinge  \n",
       "50  0.765854   0.95122   0.892839  0.066008         sag            NaN  \n",
       "53  0.756098   0.95122   0.892834  0.070207         sag            NaN  \n",
       "66  0.760976   0.95122   0.891849  0.069144         NaN          hinge  \n",
       "59  0.765854   0.95122   0.890893  0.065184         sag            NaN  \n",
       "24  0.770732  0.946341   0.890888  0.062957         NaN            NaN  \n",
       "22  0.770732  0.946341   0.890888  0.062957         NaN            NaN  \n",
       "21  0.770732  0.946341   0.890888  0.062957         NaN            NaN  "
      ]
     },
     "execution_count": 71,
     "metadata": {},
     "output_type": "execute_result"
    }
   ],
   "source": [
    "sorted_table = summary_table.sort_values('mean_score').iloc[::-1].head(10)\n",
    "sorted_table"
   ]
  },
  {
   "cell_type": "markdown",
   "metadata": {},
   "source": [
    "So we got that a `PassiveAggressiveClassifier` did the best, although many models seemed to have performed about the same, around 90% accuracy. It could be argued then that the increased complexity of a `PassiveAggressiveClassifier` isn't worth the very small model improvement over the simpler `LogisticRegression`.\n",
    "\n",
    "Note that our best-performing models did perform notably better than our naive approach, so we do gain something by using machine learning methods.\n",
    "\n",
    "`classification_deployer()` only returns the best model, but we can easily refit using just the parameters we want."
   ]
  },
  {
   "cell_type": "code",
   "execution_count": 72,
   "metadata": {},
   "outputs": [
    {
     "data": {
      "text/plain": [
       "({'LogisticRegression': LogisticRegression()},\n",
       " {'LogisticRegression': {'clf__solver': ['sag'],\n",
       "   'clf__C': [3593.813663804626]}})"
      ]
     },
     "execution_count": 72,
     "metadata": {},
     "output_type": "execute_result"
    }
   ],
   "source": [
    "# get the row for the model we want to use\n",
    "model_row = sorted_table.iloc[1,:]\n",
    "\n",
    "# pull out the model name and parameters\n",
    "model_name = model_row['estimator']\n",
    "model_params = model_row[list(param_grid[model_name].keys())].to_dict()\n",
    "\n",
    "# parameter values have to be in a list, even if there is just one\n",
    "model_params = {param_name: [param_val] for param_name, param_val in model_params.items()}\n",
    "\n",
    "# get into the form used by classification_deployer()\n",
    "single_classifier = {model_name : model_instances[model_name]}\n",
    "single_param_grid = {model_name : model_params}\n",
    "single_classifier, single_param_grid"
   ]
  },
  {
   "cell_type": "markdown",
   "metadata": {},
   "source": [
    "Now that we have what we need, we can quickly rerun the fit and save the final model."
   ]
  },
  {
   "cell_type": "code",
   "execution_count": 73,
   "metadata": {},
   "outputs": [
    {
     "name": "stdout",
     "output_type": "stream",
     "text": [
      "Fitting 5 folds for each of 1 candidates, totalling 5 fits\n",
      "Better score (0.895) found on classifier: LogisticRegression\n"
     ]
    },
    {
     "name": "stderr",
     "output_type": "stream",
     "text": [
      "c:\\Users\\agmoore\\AppData\\Local\\anaconda3\\envs\\pvops_bare_with_tweaks\\Lib\\site-packages\\sklearn\\linear_model\\_sag.py:349: ConvergenceWarning: The max_iter was reached which means the coef_ did not converge\n",
      "  warnings.warn(\n"
     ]
    }
   ],
   "source": [
    "_, final_model = classification_deployer(x, y,\n",
    "                                            n_splits=5,\n",
    "                                            classifiers=single_classifier,\n",
    "                                            search_space=single_param_grid,\n",
    "                                            pipeline_steps=pipeline_steps,\n",
    "                                            scoring=scorer)"
   ]
  },
  {
   "cell_type": "markdown",
   "metadata": {},
   "source": [
    "### Gap-filling the asset using our final model"
   ]
  },
  {
   "cell_type": "markdown",
   "metadata": {},
   "source": [
    "Now, we can use our model to make predictions on the rows with a missing `Asset` (but with a `GeneralDesc`). First, we can pull out the data we need to feed into the model."
   ]
  },
  {
   "cell_type": "code",
   "execution_count": 74,
   "metadata": {},
   "outputs": [],
   "source": [
    "records_to_gapfill = CM_df[CM_df['Asset'].isnull()\n",
    "                           & ~CM_df['GeneralDesc'].isnull()].copy()\n",
    "# only need to keep around the GeneralDesc field\n",
    "records_to_gapfill = records_to_gapfill['GeneralDesc']"
   ]
  },
  {
   "cell_type": "markdown",
   "metadata": {},
   "source": [
    "Now, we follow the same cleaning procedure as before, and finally use our model to predict the asset."
   ]
  },
  {
   "cell_type": "code",
   "execution_count": 75,
   "metadata": {},
   "outputs": [],
   "source": [
    "records_to_gapfill = records_to_gapfill.apply(lambda x: text_remove_numbers_stopwords(x, stopwords))\n",
    "records_to_gapfill = records_to_gapfill.str.lower()\n",
    "pred_is_inverter = final_model.predict(records_to_gapfill)"
   ]
  },
  {
   "cell_type": "markdown",
   "metadata": {},
   "source": [
    "Now, we can use our prediction as a mask to pull out a list of indices where the asset is predicted to be an inverter."
   ]
  },
  {
   "cell_type": "code",
   "execution_count": 76,
   "metadata": {},
   "outputs": [
    {
     "data": {
      "text/plain": [
       "Index([  1,   4,   5,   6,   7,   9,  10,  12,  14,  15,  17,  19,  60,  98,\n",
       "       109, 135, 137, 168, 170, 177, 179, 180, 185, 188, 199, 200, 202, 203],\n",
       "      dtype='int64')"
      ]
     },
     "execution_count": 76,
     "metadata": {},
     "output_type": "execute_result"
    }
   ],
   "source": [
    "pred_inverter_indices = records_to_gapfill.index[pred_is_inverter.astype(bool)]\n",
    "pred_inverter_indices"
   ]
  },
  {
   "cell_type": "markdown",
   "metadata": {},
   "source": [
    "We can also construct a mask for the datapoints without null values for the asset. By combining these two masks, we get a final set of inverter-related records that can be used for other analysis."
   ]
  },
  {
   "cell_type": "code",
   "execution_count": 77,
   "metadata": {},
   "outputs": [
    {
     "data": {
      "text/html": [
       "<div>\n",
       "<style scoped>\n",
       "    .dataframe tbody tr th:only-of-type {\n",
       "        vertical-align: middle;\n",
       "    }\n",
       "\n",
       "    .dataframe tbody tr th {\n",
       "        vertical-align: top;\n",
       "    }\n",
       "\n",
       "    .dataframe thead th {\n",
       "        text-align: right;\n",
       "    }\n",
       "</style>\n",
       "<table border=\"1\" class=\"dataframe\">\n",
       "  <thead>\n",
       "    <tr style=\"text-align: right;\">\n",
       "      <th></th>\n",
       "      <th>randid</th>\n",
       "      <th>Date_EventStart_Consistent</th>\n",
       "      <th>Date_EventEnd_Consistent</th>\n",
       "      <th>GeneralDesc</th>\n",
       "      <th>CompletionDesc</th>\n",
       "      <th>Asset</th>\n",
       "      <th>states</th>\n",
       "      <th>Commissioning_Date</th>\n",
       "      <th>DC_Size_kW</th>\n",
       "      <th>AC_Size_kW</th>\n",
       "      <th>PlantType</th>\n",
       "      <th>ArrayType</th>\n",
       "      <th>InverterType</th>\n",
       "      <th>InverterOEM</th>\n",
       "    </tr>\n",
       "  </thead>\n",
       "  <tbody>\n",
       "    <tr>\n",
       "      <th>20</th>\n",
       "      <td>C2S54</td>\n",
       "      <td>2018-03-16 11:55:00</td>\n",
       "      <td>2018-03-29 13:40:00</td>\n",
       "      <td>Inverter underperforming due to unknown</td>\n",
       "      <td>Power Cycle. Hardware Replaced:</td>\n",
       "      <td>Inverter</td>\n",
       "      <td>CA</td>\n",
       "      <td>2012-07-23</td>\n",
       "      <td>181.0</td>\n",
       "      <td>250.0</td>\n",
       "      <td>Distributed Generation</td>\n",
       "      <td>NaN</td>\n",
       "      <td>central</td>\n",
       "      <td>NaN</td>\n",
       "    </tr>\n",
       "    <tr>\n",
       "      <th>21</th>\n",
       "      <td>C2S54</td>\n",
       "      <td>2017-09-22 14:40:00</td>\n",
       "      <td>2017-09-26 10:30:00</td>\n",
       "      <td>Inverter not producing due to Unknown</td>\n",
       "      <td>Field Wiring Repair. Hardware Replaced:</td>\n",
       "      <td>Inverter</td>\n",
       "      <td>CA</td>\n",
       "      <td>2012-07-23</td>\n",
       "      <td>181.0</td>\n",
       "      <td>250.0</td>\n",
       "      <td>Distributed Generation</td>\n",
       "      <td>NaN</td>\n",
       "      <td>central</td>\n",
       "      <td>NaN</td>\n",
       "    </tr>\n",
       "    <tr>\n",
       "      <th>22</th>\n",
       "      <td>C2S54</td>\n",
       "      <td>2017-02-01 08:00:00</td>\n",
       "      <td>2017-02-10 14:25:00</td>\n",
       "      <td>Inverter Faulted Due Hardware Malfunction</td>\n",
       "      <td>Power Cycle. Hardware Replaced:</td>\n",
       "      <td>Inverter</td>\n",
       "      <td>CA</td>\n",
       "      <td>2012-07-23</td>\n",
       "      <td>181.0</td>\n",
       "      <td>250.0</td>\n",
       "      <td>Distributed Generation</td>\n",
       "      <td>NaN</td>\n",
       "      <td>central</td>\n",
       "      <td>NaN</td>\n",
       "    </tr>\n",
       "    <tr>\n",
       "      <th>32</th>\n",
       "      <td>C3S300</td>\n",
       "      <td>2017-07-25 09:00:00</td>\n",
       "      <td>2017-07-25 15:01:00</td>\n",
       "      <td>All inverters not communcating but still produ...</td>\n",
       "      <td>SOLV remotely fixed comms.</td>\n",
       "      <td>Central Inverter</td>\n",
       "      <td>OR</td>\n",
       "      <td>2016-12-03</td>\n",
       "      <td>5891.0</td>\n",
       "      <td>6600.0</td>\n",
       "      <td>Utility-scale</td>\n",
       "      <td>Tracker</td>\n",
       "      <td>NaN</td>\n",
       "      <td>SMA America</td>\n",
       "    </tr>\n",
       "    <tr>\n",
       "      <th>42</th>\n",
       "      <td>C3S300</td>\n",
       "      <td>2018-06-04 09:00:00</td>\n",
       "      <td>2018-06-05 00:45:00</td>\n",
       "      <td>WO created for support on retrofit for SMA inv...</td>\n",
       "      <td>Displays replaced on all inverters on site.</td>\n",
       "      <td>Central Inverter</td>\n",
       "      <td>OR</td>\n",
       "      <td>2016-12-03</td>\n",
       "      <td>5891.0</td>\n",
       "      <td>6600.0</td>\n",
       "      <td>Utility-scale</td>\n",
       "      <td>Tracker</td>\n",
       "      <td>NaN</td>\n",
       "      <td>SMA America</td>\n",
       "    </tr>\n",
       "    <tr>\n",
       "      <th>...</th>\n",
       "      <td>...</td>\n",
       "      <td>...</td>\n",
       "      <td>...</td>\n",
       "      <td>...</td>\n",
       "      <td>...</td>\n",
       "      <td>...</td>\n",
       "      <td>...</td>\n",
       "      <td>...</td>\n",
       "      <td>...</td>\n",
       "      <td>...</td>\n",
       "      <td>...</td>\n",
       "      <td>...</td>\n",
       "      <td>...</td>\n",
       "      <td>...</td>\n",
       "    </tr>\n",
       "    <tr>\n",
       "      <th>188</th>\n",
       "      <td>C3S211</td>\n",
       "      <td>2017-03-29 09:00:00</td>\n",
       "      <td>2017-03-29 17:14:00</td>\n",
       "      <td>Site comms down. Modem is reachable, datalogge...</td>\n",
       "      <td>troubleshot site comm issue.</td>\n",
       "      <td>Inverter</td>\n",
       "      <td>NC</td>\n",
       "      <td>2015-12-10</td>\n",
       "      <td>6326.0</td>\n",
       "      <td>5550.0</td>\n",
       "      <td>Utility-scale</td>\n",
       "      <td>Fixed</td>\n",
       "      <td>central</td>\n",
       "      <td>SMA America</td>\n",
       "    </tr>\n",
       "    <tr>\n",
       "      <th>199</th>\n",
       "      <td>C3S80</td>\n",
       "      <td>2017-06-07 09:00:00</td>\n",
       "      <td>2017-06-27 16:10:00</td>\n",
       "      <td>All inverters not producing. B Voltage spike b...</td>\n",
       "      <td>DSI Replaced the phase B dip pole fuse. No CCR...</td>\n",
       "      <td>Inverter</td>\n",
       "      <td>NC</td>\n",
       "      <td>2016-09-20</td>\n",
       "      <td>7008.0</td>\n",
       "      <td>5280.0</td>\n",
       "      <td>Utility-scale</td>\n",
       "      <td>Fixed</td>\n",
       "      <td>central</td>\n",
       "      <td>SMA America</td>\n",
       "    </tr>\n",
       "    <tr>\n",
       "      <th>200</th>\n",
       "      <td>C3S80</td>\n",
       "      <td>2016-11-14 09:00:00</td>\n",
       "      <td>NaN</td>\n",
       "      <td>11/04/16 Maxton Inverter-2.3 Low on Production...</td>\n",
       "      <td>Reconfigured inv 1's ip. Checked string perfor...</td>\n",
       "      <td>Inverter</td>\n",
       "      <td>NC</td>\n",
       "      <td>2016-09-20</td>\n",
       "      <td>7008.0</td>\n",
       "      <td>5280.0</td>\n",
       "      <td>Utility-scale</td>\n",
       "      <td>Fixed</td>\n",
       "      <td>central</td>\n",
       "      <td>SMA America</td>\n",
       "    </tr>\n",
       "    <tr>\n",
       "      <th>202</th>\n",
       "      <td>C3S80</td>\n",
       "      <td>2017-01-06 09:00:00</td>\n",
       "      <td>2017-02-13 12:05:00</td>\n",
       "      <td>MEC is at Maxton working on labeling the inver...</td>\n",
       "      <td>.</td>\n",
       "      <td>Inverter</td>\n",
       "      <td>NC</td>\n",
       "      <td>2016-09-20</td>\n",
       "      <td>7008.0</td>\n",
       "      <td>5280.0</td>\n",
       "      <td>Utility-scale</td>\n",
       "      <td>Fixed</td>\n",
       "      <td>central</td>\n",
       "      <td>SMA America</td>\n",
       "    </tr>\n",
       "    <tr>\n",
       "      <th>203</th>\n",
       "      <td>C3S80</td>\n",
       "      <td>2017-04-24 09:00:00</td>\n",
       "      <td>2017-04-24 11:56:00</td>\n",
       "      <td>All inverters not producing.</td>\n",
       "      <td>Inverters had a delayed start up that self res...</td>\n",
       "      <td>Inverter</td>\n",
       "      <td>NC</td>\n",
       "      <td>2016-09-20</td>\n",
       "      <td>7008.0</td>\n",
       "      <td>5280.0</td>\n",
       "      <td>Utility-scale</td>\n",
       "      <td>Fixed</td>\n",
       "      <td>central</td>\n",
       "      <td>SMA America</td>\n",
       "    </tr>\n",
       "  </tbody>\n",
       "</table>\n",
       "<p>412 rows × 14 columns</p>\n",
       "</div>"
      ],
      "text/plain": [
       "     randid Date_EventStart_Consistent Date_EventEnd_Consistent  \\\n",
       "20    C2S54        2018-03-16 11:55:00      2018-03-29 13:40:00   \n",
       "21    C2S54        2017-09-22 14:40:00      2017-09-26 10:30:00   \n",
       "22    C2S54        2017-02-01 08:00:00      2017-02-10 14:25:00   \n",
       "32   C3S300        2017-07-25 09:00:00      2017-07-25 15:01:00   \n",
       "42   C3S300        2018-06-04 09:00:00      2018-06-05 00:45:00   \n",
       "..      ...                        ...                      ...   \n",
       "188  C3S211        2017-03-29 09:00:00      2017-03-29 17:14:00   \n",
       "199   C3S80        2017-06-07 09:00:00      2017-06-27 16:10:00   \n",
       "200   C3S80        2016-11-14 09:00:00                      NaN   \n",
       "202   C3S80        2017-01-06 09:00:00      2017-02-13 12:05:00   \n",
       "203   C3S80        2017-04-24 09:00:00      2017-04-24 11:56:00   \n",
       "\n",
       "                                           GeneralDesc  \\\n",
       "20             Inverter underperforming due to unknown   \n",
       "21               Inverter not producing due to Unknown   \n",
       "22           Inverter Faulted Due Hardware Malfunction   \n",
       "32   All inverters not communcating but still produ...   \n",
       "42   WO created for support on retrofit for SMA inv...   \n",
       "..                                                 ...   \n",
       "188  Site comms down. Modem is reachable, datalogge...   \n",
       "199  All inverters not producing. B Voltage spike b...   \n",
       "200  11/04/16 Maxton Inverter-2.3 Low on Production...   \n",
       "202  MEC is at Maxton working on labeling the inver...   \n",
       "203                      All inverters not producing.    \n",
       "\n",
       "                                        CompletionDesc             Asset  \\\n",
       "20                    Power Cycle. Hardware Replaced:           Inverter   \n",
       "21            Field Wiring Repair. Hardware Replaced:           Inverter   \n",
       "22                    Power Cycle. Hardware Replaced:           Inverter   \n",
       "32                         SOLV remotely fixed comms.   Central Inverter   \n",
       "42        Displays replaced on all inverters on site.   Central Inverter   \n",
       "..                                                 ...               ...   \n",
       "188                      troubleshot site comm issue.           Inverter   \n",
       "199  DSI Replaced the phase B dip pole fuse. No CCR...          Inverter   \n",
       "200  Reconfigured inv 1's ip. Checked string perfor...          Inverter   \n",
       "202                                                 .           Inverter   \n",
       "203  Inverters had a delayed start up that self res...          Inverter   \n",
       "\n",
       "    states Commissioning_Date  DC_Size_kW  AC_Size_kW               PlantType  \\\n",
       "20      CA         2012-07-23       181.0       250.0  Distributed Generation   \n",
       "21      CA         2012-07-23       181.0       250.0  Distributed Generation   \n",
       "22      CA         2012-07-23       181.0       250.0  Distributed Generation   \n",
       "32      OR         2016-12-03      5891.0      6600.0           Utility-scale   \n",
       "42      OR         2016-12-03      5891.0      6600.0           Utility-scale   \n",
       "..     ...                ...         ...         ...                     ...   \n",
       "188     NC         2015-12-10      6326.0      5550.0           Utility-scale   \n",
       "199     NC         2016-09-20      7008.0      5280.0           Utility-scale   \n",
       "200     NC         2016-09-20      7008.0      5280.0           Utility-scale   \n",
       "202     NC         2016-09-20      7008.0      5280.0           Utility-scale   \n",
       "203     NC         2016-09-20      7008.0      5280.0           Utility-scale   \n",
       "\n",
       "    ArrayType InverterType  InverterOEM  \n",
       "20        NaN      central          NaN  \n",
       "21        NaN      central          NaN  \n",
       "22        NaN      central          NaN  \n",
       "32    Tracker          NaN  SMA America  \n",
       "42    Tracker          NaN  SMA America  \n",
       "..        ...          ...          ...  \n",
       "188     Fixed      central  SMA America  \n",
       "199     Fixed      central  SMA America  \n",
       "200     Fixed      central  SMA America  \n",
       "202     Fixed      central  SMA America  \n",
       "203     Fixed      central  SMA America  \n",
       "\n",
       "[412 rows x 14 columns]"
      ]
     },
     "execution_count": 77,
     "metadata": {},
     "output_type": "execute_result"
    }
   ],
   "source": [
    "inverter_indices = CM_df.index[~CM_df['Asset'].isnull()\n",
    "                               & CM_df['Asset'].str.contains('Inverter')]\n",
    "\n",
    "inverter_CM_df = CM_df.loc[list(inverter_indices) + list(pred_inverter_indices), :]\n",
    "inverter_CM_df.loc[pred_inverter_indices, 'Asset'] = 'Inverter'\n",
    "inverter_CM_df"
   ]
  },
  {
   "cell_type": "code",
   "execution_count": 78,
   "metadata": {},
   "outputs": [],
   "source": [
    "inverter_CM_df.to_csv('example_data/example_CM_inverter_records.csv', index=False)"
   ]
  }
 ],
 "metadata": {
  "kernelspec": {
   "display_name": "pvops_bare_with_tweaks",
   "language": "python",
   "name": "python3"
  },
  "language_info": {
   "codemirror_mode": {
    "name": "ipython",
    "version": 3
   },
   "file_extension": ".py",
   "mimetype": "text/x-python",
   "name": "python",
   "nbconvert_exporter": "python",
   "pygments_lexer": "ipython3",
   "version": "3.11.10"
  }
 },
 "nbformat": 4,
 "nbformat_minor": 2
}
