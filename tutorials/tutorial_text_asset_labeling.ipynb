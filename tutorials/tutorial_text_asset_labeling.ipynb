{
 "cells": [
  {
   "cell_type": "code",
   "execution_count": 1,
   "metadata": {},
   "outputs": [],
   "source": [
    "# for reading in data\n",
    "import pandas as pd\n",
    "\n",
    "# data preprocessing\n",
    "from pvops.text.preprocess import text_remove_numbers_stopwords\n",
    "from nltk import corpus\n",
    "\n",
    "# machine learning pipeline: vectorizer, model definitions, and scoring\n",
    "from pvops.text.classify import classification_deployer\n",
    "from pvops.text.defaults import supervised_classifier_defs\n",
    "from sklearn.feature_extraction.text import TfidfVectorizer\n",
    "from sklearn.metrics import accuracy_score, make_scorer"
   ]
  },
  {
   "cell_type": "markdown",
   "metadata": {},
   "source": [
    "\n",
    "### Read in data"
   ]
  },
  {
   "cell_type": "markdown",
   "metadata": {},
   "source": [
    "First, we'll read in the data and take a look at it. We would like to identify inverter-related records, so our column of interest is `Asset`."
   ]
  },
  {
   "cell_type": "code",
   "execution_count": 2,
   "metadata": {},
   "outputs": [
    {
     "data": {
      "text/plain": [
       "0    Combiner\n",
       "1         Pad\n",
       "2    Facility\n",
       "3    Inverter\n",
       "4    Facility\n",
       "5         NaN\n",
       "6         NaN\n",
       "7         NaN\n",
       "8         NaN\n",
       "9    Facility\n",
       "Name: Asset, dtype: object"
      ]
     },
     "execution_count": 2,
     "metadata": {},
     "output_type": "execute_result"
    }
   ],
   "source": [
    "CM_df = pd.read_csv('example_data/example_ML_ticket_data_missing_assets.csv')\n",
    "CM_df['Asset'].head(10)"
   ]
  },
  {
   "cell_type": "markdown",
   "metadata": {},
   "source": [
    "We can see that many records have a missing `Asset` field. Let's see how many records are missing it."
   ]
  },
  {
   "cell_type": "code",
   "execution_count": 3,
   "metadata": {},
   "outputs": [
    {
     "name": "stdout",
     "output_type": "stream",
     "text": [
      "15/100 records have a missing asset (15.0%).\n"
     ]
    }
   ],
   "source": [
    "count_null = CM_df['Asset'].isnull().sum()\n",
    "print(f'{count_null}/{len(CM_df)} records have a missing asset ({count_null/len(CM_df)*100 :.1f}%).')"
   ]
  },
  {
   "cell_type": "markdown",
   "metadata": {},
   "source": [
    "We would like to leverage as much of the data as we can for later analysis, so it would help to find a way to gap-fill these records that are missing the asset. We can do so by leveraging the plain-text event description in the `GeneralDesc` column. Let's pull out the data of interest."
   ]
  },
  {
   "cell_type": "code",
   "execution_count": 4,
   "metadata": {},
   "outputs": [
    {
     "data": {
      "text/html": [
       "<div>\n",
       "<style scoped>\n",
       "    .dataframe tbody tr th:only-of-type {\n",
       "        vertical-align: middle;\n",
       "    }\n",
       "\n",
       "    .dataframe tbody tr th {\n",
       "        vertical-align: top;\n",
       "    }\n",
       "\n",
       "    .dataframe thead th {\n",
       "        text-align: right;\n",
       "    }\n",
       "</style>\n",
       "<table border=\"1\" class=\"dataframe\">\n",
       "  <thead>\n",
       "    <tr style=\"text-align: right;\">\n",
       "      <th></th>\n",
       "      <th>Asset</th>\n",
       "      <th>CompletionDesc</th>\n",
       "    </tr>\n",
       "  </thead>\n",
       "  <tbody>\n",
       "    <tr>\n",
       "      <th>0</th>\n",
       "      <td>Combiner</td>\n",
       "      <td>cb 1.18 was found to have contactor issue woul...</td>\n",
       "    </tr>\n",
       "    <tr>\n",
       "      <th>1</th>\n",
       "      <td>Pad</td>\n",
       "      <td>self resolved. techdispatched: no</td>\n",
       "    </tr>\n",
       "    <tr>\n",
       "      <th>2</th>\n",
       "      <td>Facility</td>\n",
       "      <td>all module rows washed, waiting for final repo...</td>\n",
       "    </tr>\n",
       "    <tr>\n",
       "      <th>3</th>\n",
       "      <td>Inverter</td>\n",
       "      <td>14 nov: we were alerted that e-c3-1 had faulte...</td>\n",
       "    </tr>\n",
       "    <tr>\n",
       "      <th>4</th>\n",
       "      <td>Facility</td>\n",
       "      <td>assessed condition filters all inverters. litt...</td>\n",
       "    </tr>\n",
       "  </tbody>\n",
       "</table>\n",
       "</div>"
      ],
      "text/plain": [
       "      Asset                                     CompletionDesc\n",
       "0  Combiner  cb 1.18 was found to have contactor issue woul...\n",
       "1       Pad                  self resolved. techdispatched: no\n",
       "2  Facility  all module rows washed, waiting for final repo...\n",
       "3  Inverter  14 nov: we were alerted that e-c3-1 had faulte...\n",
       "4  Facility  assessed condition filters all inverters. litt..."
      ]
     },
     "execution_count": 4,
     "metadata": {},
     "output_type": "execute_result"
    }
   ],
   "source": [
    "# pull out the Asset and CompletionDesc columns, and any rows with nulls in either column\n",
    "CM_nonnull = CM_df[['Asset','CompletionDesc']].dropna()\n",
    "CM_nonnull.head(5)"
   ]
  },
  {
   "cell_type": "markdown",
   "metadata": {},
   "source": [
    "For good measure, we can also look to see how many of the non-null records have an inverter-related asset:"
   ]
  },
  {
   "cell_type": "code",
   "execution_count": 5,
   "metadata": {},
   "outputs": [
    {
     "name": "stdout",
     "output_type": "stream",
     "text": [
      "27/85 records have an inverter-related asset (31.8%).\n"
     ]
    }
   ],
   "source": [
    "count_inverter = CM_nonnull['Asset'].str.contains('Inverter').sum()\n",
    "print(f'{count_inverter}/{len(CM_nonnull)} records have an inverter-related asset ({count_inverter/len(CM_nonnull)*100 :.1f}%).')"
   ]
  },
  {
   "cell_type": "markdown",
   "metadata": {},
   "source": [
    "### Naive approach: keyword method"
   ]
  },
  {
   "cell_type": "markdown",
   "metadata": {},
   "source": [
    "As a first approach, we can perform a simple keyword-based method. We make a prediction of the asset based on whether the word \"inverter\" is present in the description."
   ]
  },
  {
   "cell_type": "code",
   "execution_count": 6,
   "metadata": {},
   "outputs": [
    {
     "name": "stdout",
     "output_type": "stream",
     "text": [
      "65/85 records predicted correctly from keyword search (76.5%).\n"
     ]
    }
   ],
   "source": [
    "# check if the event description contains the word 'inverter'; this is our prediction\n",
    "prediction = CM_nonnull['CompletionDesc'].str.lower().str.contains('inverter')\n",
    "# check if the asset itself contains the word 'inverter'; this is the true label\n",
    "true_label = CM_nonnull['Asset'].str.lower().str.contains('inverter')\n",
    "\n",
    "naive_num_correct = (prediction == true_label).sum()\n",
    "print(f'{naive_num_correct}/{len(CM_nonnull)} records predicted correctly from keyword search '\n",
    "      + f'({naive_num_correct/len(CM_nonnull)*100 :.1f}%).')"
   ]
  },
  {
   "cell_type": "markdown",
   "metadata": {},
   "source": [
    "This already does decently well. Let's see if we can improve our results via a more robust machine learning approach."
   ]
  },
  {
   "cell_type": "markdown",
   "metadata": {},
   "source": [
    "### Prepare data for supervised classification"
   ]
  },
  {
   "cell_type": "markdown",
   "metadata": {},
   "source": [
    "First, we need to clean our text data. We can use `nltk`'s english stopwords list to remove common words that won't have much bearing on the semantic meaning of the records. All we need to do is pass this into the `text_remove_numbers_stopwords()` function from `pvops.text.preprocess`, which will handle all of this for us.\n",
    "\n",
    "From there, we can make everything lowercase, and we're basically done. "
   ]
  },
  {
   "cell_type": "code",
   "execution_count": 7,
   "metadata": {},
   "outputs": [
    {
     "data": {
      "text/html": [
       "<div>\n",
       "<style scoped>\n",
       "    .dataframe tbody tr th:only-of-type {\n",
       "        vertical-align: middle;\n",
       "    }\n",
       "\n",
       "    .dataframe tbody tr th {\n",
       "        vertical-align: top;\n",
       "    }\n",
       "\n",
       "    .dataframe thead th {\n",
       "        text-align: right;\n",
       "    }\n",
       "</style>\n",
       "<table border=\"1\" class=\"dataframe\">\n",
       "  <thead>\n",
       "    <tr style=\"text-align: right;\">\n",
       "      <th></th>\n",
       "      <th>Asset</th>\n",
       "      <th>CompletionDesc</th>\n",
       "      <th>CompletionDescCleaned</th>\n",
       "      <th>CompletionDescLower</th>\n",
       "    </tr>\n",
       "  </thead>\n",
       "  <tbody>\n",
       "    <tr>\n",
       "      <th>0</th>\n",
       "      <td>Combiner</td>\n",
       "      <td>cb 1.18 was found to have contactor issue woul...</td>\n",
       "      <td>cb found contactor issue would close contactor...</td>\n",
       "      <td>cb found contactor issue would close contactor...</td>\n",
       "    </tr>\n",
       "    <tr>\n",
       "      <th>1</th>\n",
       "      <td>Pad</td>\n",
       "      <td>self resolved. techdispatched: no</td>\n",
       "      <td>self resolved techdispatched</td>\n",
       "      <td>self resolved techdispatched</td>\n",
       "    </tr>\n",
       "    <tr>\n",
       "      <th>2</th>\n",
       "      <td>Facility</td>\n",
       "      <td>all module rows washed, waiting for final repo...</td>\n",
       "      <td>module rows washed waiting final report sun power</td>\n",
       "      <td>module rows washed waiting final report sun power</td>\n",
       "    </tr>\n",
       "    <tr>\n",
       "      <th>3</th>\n",
       "      <td>Inverter</td>\n",
       "      <td>14 nov: we were alerted that e-c3-1 had faulte...</td>\n",
       "      <td>nov alerted e c faulted upon investigation not...</td>\n",
       "      <td>nov alerted e c faulted upon investigation not...</td>\n",
       "    </tr>\n",
       "    <tr>\n",
       "      <th>4</th>\n",
       "      <td>Facility</td>\n",
       "      <td>assessed condition filters all inverters. litt...</td>\n",
       "      <td>assessed condition filters inverters little cl...</td>\n",
       "      <td>assessed condition filters inverters little cl...</td>\n",
       "    </tr>\n",
       "  </tbody>\n",
       "</table>\n",
       "</div>"
      ],
      "text/plain": [
       "      Asset                                     CompletionDesc  \\\n",
       "0  Combiner  cb 1.18 was found to have contactor issue woul...   \n",
       "1       Pad                  self resolved. techdispatched: no   \n",
       "2  Facility  all module rows washed, waiting for final repo...   \n",
       "3  Inverter  14 nov: we were alerted that e-c3-1 had faulte...   \n",
       "4  Facility  assessed condition filters all inverters. litt...   \n",
       "\n",
       "                               CompletionDescCleaned  \\\n",
       "0  cb found contactor issue would close contactor...   \n",
       "1                       self resolved techdispatched   \n",
       "2  module rows washed waiting final report sun power   \n",
       "3  nov alerted e c faulted upon investigation not...   \n",
       "4  assessed condition filters inverters little cl...   \n",
       "\n",
       "                                 CompletionDescLower  \n",
       "0  cb found contactor issue would close contactor...  \n",
       "1                       self resolved techdispatched  \n",
       "2  module rows washed waiting final report sun power  \n",
       "3  nov alerted e c faulted upon investigation not...  \n",
       "4  assessed condition filters inverters little cl...  "
      ]
     },
     "execution_count": 7,
     "metadata": {},
     "output_type": "execute_result"
    }
   ],
   "source": [
    "# clean the event description\n",
    "stopwords = corpus.stopwords.words('english')\n",
    "CM_nonnull['CompletionDescCleaned'] = CM_nonnull.apply(lambda x: text_remove_numbers_stopwords(x['CompletionDesc'], stopwords),\n",
    "                                                    axis='columns')\n",
    "\n",
    "# set event description to be lowercase\n",
    "CM_nonnull['CompletionDescLower'] = CM_nonnull['CompletionDescCleaned'].str.lower()\n",
    "\n",
    "CM_nonnull.head(5)"
   ]
  },
  {
   "cell_type": "markdown",
   "metadata": {},
   "source": [
    "Finally, we would like to have our response be a binary value: whether the asset relates to inverters or not. We can use the `remappings_asset.csv` file to help us with this."
   ]
  },
  {
   "cell_type": "code",
   "execution_count": 8,
   "metadata": {},
   "outputs": [
    {
     "data": {
      "text/html": [
       "<div>\n",
       "<style scoped>\n",
       "    .dataframe tbody tr th:only-of-type {\n",
       "        vertical-align: middle;\n",
       "    }\n",
       "\n",
       "    .dataframe tbody tr th {\n",
       "        vertical-align: top;\n",
       "    }\n",
       "\n",
       "    .dataframe thead th {\n",
       "        text-align: right;\n",
       "    }\n",
       "</style>\n",
       "<table border=\"1\" class=\"dataframe\">\n",
       "  <thead>\n",
       "    <tr style=\"text-align: right;\">\n",
       "      <th></th>\n",
       "      <th>in</th>\n",
       "      <th>out_</th>\n",
       "    </tr>\n",
       "  </thead>\n",
       "  <tbody>\n",
       "    <tr>\n",
       "      <th>44</th>\n",
       "      <td>Point of Interconnection</td>\n",
       "      <td>other</td>\n",
       "    </tr>\n",
       "    <tr>\n",
       "      <th>45</th>\n",
       "      <td>Racking/Trackers</td>\n",
       "      <td>tracker</td>\n",
       "    </tr>\n",
       "    <tr>\n",
       "      <th>46</th>\n",
       "      <td>Rooftop PV System</td>\n",
       "      <td>other</td>\n",
       "    </tr>\n",
       "    <tr>\n",
       "      <th>47</th>\n",
       "      <td>Site</td>\n",
       "      <td>other</td>\n",
       "    </tr>\n",
       "    <tr>\n",
       "      <th>48</th>\n",
       "      <td>String</td>\n",
       "      <td>other</td>\n",
       "    </tr>\n",
       "    <tr>\n",
       "      <th>49</th>\n",
       "      <td>String Inverter</td>\n",
       "      <td>inverter</td>\n",
       "    </tr>\n",
       "    <tr>\n",
       "      <th>50</th>\n",
       "      <td>Subarray</td>\n",
       "      <td>other</td>\n",
       "    </tr>\n",
       "    <tr>\n",
       "      <th>51</th>\n",
       "      <td>Summary</td>\n",
       "      <td>other</td>\n",
       "    </tr>\n",
       "    <tr>\n",
       "      <th>52</th>\n",
       "      <td>Tracker control unit</td>\n",
       "      <td>tracker</td>\n",
       "    </tr>\n",
       "    <tr>\n",
       "      <th>53</th>\n",
       "      <td>Tracking System</td>\n",
       "      <td>tracker</td>\n",
       "    </tr>\n",
       "  </tbody>\n",
       "</table>\n",
       "</div>"
      ],
      "text/plain": [
       "                          in      out_\n",
       "44  Point of Interconnection     other\n",
       "45          Racking/Trackers   tracker\n",
       "46         Rooftop PV System     other\n",
       "47                      Site     other\n",
       "48                    String     other\n",
       "49           String Inverter  inverter\n",
       "50                  Subarray     other\n",
       "51                   Summary     other\n",
       "52      Tracker control unit   tracker\n",
       "53           Tracking System   tracker"
      ]
     },
     "execution_count": 8,
     "metadata": {},
     "output_type": "execute_result"
    }
   ],
   "source": [
    "remappings_df = pd.read_csv('example_data/remappings_asset.csv')\n",
    "remappings_df[-10:] # end of the dataframe is more clear on what it is doing"
   ]
  },
  {
   "cell_type": "markdown",
   "metadata": {},
   "source": [
    "All we need to do is put together a dictionary that will let us map the asset in our dataframe to a more general asset description."
   ]
  },
  {
   "cell_type": "code",
   "execution_count": 9,
   "metadata": {},
   "outputs": [],
   "source": [
    "remapping_dict = {row['in'].lower() : row['out_'].lower() for _, row in remappings_df.iterrows()}\n",
    "CM_nonnull['SimpleAsset'] = CM_nonnull['Asset'].apply(lambda x : remapping_dict[x.lower()])\n",
    "\n",
    "# define our x as the general event description, and y as whether the asset is related to inverters\n",
    "x = CM_nonnull['CompletionDescLower']\n",
    "y = CM_nonnull['SimpleAsset'] == 'inverter'"
   ]
  },
  {
   "cell_type": "markdown",
   "metadata": {},
   "source": [
    "### Model training and selection"
   ]
  },
  {
   "cell_type": "markdown",
   "metadata": {},
   "source": [
    "Now, it's time to begin the model training. First, we need to turn our `x` into numerical data, which we can do via tf-idf vectorization. We'd like our vectorization to include the entire corpus of our event descriptions, even those where the asset is null. This is so we can use our exact same pipeline to predict the missing asset labels in the final step."
   ]
  },
  {
   "cell_type": "code",
   "execution_count": 10,
   "metadata": {},
   "outputs": [],
   "source": [
    "# fit the tf-idf vectorizer on the whole corpus, including the rows w/o asset that we plan to gapfill using our model\n",
    "all_descr = CM_df.dropna(subset='CompletionDesc')['CompletionDesc']\n",
    "all_descr = all_descr.str.lower().astype('str')\n",
    "vectorizer = TfidfVectorizer(min_df=1, stop_words=stopwords, ngram_range=(1,2), sublinear_tf=True)\n",
    "vectorizer.fit(all_descr);"
   ]
  },
  {
   "cell_type": "markdown",
   "metadata": {},
   "source": [
    "Now, we can fit models across various parameters using the `classification_deployer()` function from `pvops.text.classify`. All we need to do is define our pipeline, our models, our parameters, and our scoring function.\n",
    "\n",
    "The pipeline and scoring function are easy enough. We can get a good set of model parameters to search over from `pvops.text.defaults`, as shown below:"
   ]
  },
  {
   "cell_type": "code",
   "execution_count": 11,
   "metadata": {},
   "outputs": [],
   "source": [
    "# first do vectorization, then classification\n",
    "pipeline_steps = [('tfidf', vectorizer),\n",
    "                  ('clf', None)]\n",
    "\n",
    "# basic accuracy score metric\n",
    "scorer = make_scorer(accuracy_score)\n",
    "\n",
    "# models that we will use\n",
    "model_names = ['LinearSVC', 'LogisticRegression', 'PassiveAggressiveClassifier']\n",
    "\n",
    "# get the default parameter grid from pvops for these models\n",
    "(params, model_instances) = supervised_classifier_defs('detailed')\n",
    "classifiers = {model_name : model_instances[model_name] for model_name in model_names}\n",
    "param_grid = {model_name : params[model_name] for model_name in model_names}"
   ]
  },
  {
   "cell_type": "markdown",
   "metadata": {},
   "source": [
    "We can see below what the `param_grid` look like:"
   ]
  },
  {
   "cell_type": "code",
   "execution_count": 12,
   "metadata": {},
   "outputs": [
    {
     "name": "stdout",
     "output_type": "stream",
     "text": [
      "LinearSVC\n",
      "clf__C: [0.01, 0.1, 1, 10.0, 100.0, 1000.0]\n",
      "clf__max_iter: [800, 1000, 1200, 1500, 2000]\n",
      "\n",
      "LogisticRegression\n",
      "clf__solver: ['newton-cg', 'lbfgs', 'sag']\n",
      "clf__C: [1.00000000e+00 2.78255940e+00 7.74263683e+00 2.15443469e+01\n",
      " 5.99484250e+01 1.66810054e+02 4.64158883e+02 1.29154967e+03\n",
      " 3.59381366e+03 1.00000000e+04]\n",
      "\n",
      "PassiveAggressiveClassifier\n",
      "clf__C: [0.001, 0.01, 0.1, 1.0]\n",
      "clf__loss: ['hinge', 'squared_hinge']\n",
      "\n"
     ]
    }
   ],
   "source": [
    "for model_name, params in param_grid.items():\n",
    "    print(model_name)\n",
    "    for param_name, param_vals in params.items():\n",
    "        print(f'{param_name}: {param_vals}')\n",
    "    print()"
   ]
  },
  {
   "cell_type": "markdown",
   "metadata": {},
   "source": [
    "Finally, all we need to do is pass everything into `classification_deployer()`:"
   ]
  },
  {
   "cell_type": "code",
   "execution_count": 13,
   "metadata": {},
   "outputs": [
    {
     "name": "stdout",
     "output_type": "stream",
     "text": [
      "Fitting 5 folds for each of 30 candidates, totalling 150 fits\n"
     ]
    },
    {
     "name": "stderr",
     "output_type": "stream",
     "text": [
      "c:\\Users\\agmoore\\AppData\\Local\\anaconda3\\envs\\pvops_bare_with_tweaks\\Lib\\site-packages\\sklearn\\svm\\_base.py:1235: ConvergenceWarning: Liblinear failed to converge, increase the number of iterations.\n",
      "  warnings.warn(\n"
     ]
    },
    {
     "name": "stdout",
     "output_type": "stream",
     "text": [
      "Better score (0.835) found on classifier: LinearSVC\n",
      "Fitting 5 folds for each of 30 candidates, totalling 150 fits\n",
      "Better score (0.847) found on classifier: LogisticRegression\n",
      "Fitting 5 folds for each of 8 candidates, totalling 40 fits\n"
     ]
    }
   ],
   "source": [
    "summary_table, best_model = classification_deployer(x,\n",
    "                                                    y,\n",
    "                                                    n_splits=5,\n",
    "                                                    classifiers=classifiers,\n",
    "                                                    search_space=param_grid,\n",
    "                                                    pipeline_steps=pipeline_steps,\n",
    "                                                    scoring=scorer)"
   ]
  },
  {
   "cell_type": "markdown",
   "metadata": {},
   "source": [
    "And below, we can see a summary of how the models performed."
   ]
  },
  {
   "cell_type": "code",
   "execution_count": 14,
   "metadata": {},
   "outputs": [
    {
     "data": {
      "text/html": [
       "<div>\n",
       "<style scoped>\n",
       "    .dataframe tbody tr th:only-of-type {\n",
       "        vertical-align: middle;\n",
       "    }\n",
       "\n",
       "    .dataframe tbody tr th {\n",
       "        vertical-align: top;\n",
       "    }\n",
       "\n",
       "    .dataframe thead th {\n",
       "        text-align: right;\n",
       "    }\n",
       "</style>\n",
       "<table border=\"1\" class=\"dataframe\">\n",
       "  <thead>\n",
       "    <tr style=\"text-align: right;\">\n",
       "      <th></th>\n",
       "      <th>clf__C</th>\n",
       "      <th>clf__max_iter</th>\n",
       "      <th>mean_fit_time</th>\n",
       "      <th>estimator</th>\n",
       "      <th>min_score</th>\n",
       "      <th>max_score</th>\n",
       "      <th>mean_score</th>\n",
       "      <th>std_score</th>\n",
       "      <th>clf__solver</th>\n",
       "      <th>clf__loss</th>\n",
       "    </tr>\n",
       "  </thead>\n",
       "  <tbody>\n",
       "    <tr>\n",
       "      <th>40</th>\n",
       "      <td>21.544347</td>\n",
       "      <td>NaN</td>\n",
       "      <td>0.049305</td>\n",
       "      <td>LogisticRegression</td>\n",
       "      <td>0.705882</td>\n",
       "      <td>0.941176</td>\n",
       "      <td>0.847059</td>\n",
       "      <td>0.088039</td>\n",
       "      <td>lbfgs</td>\n",
       "      <td>NaN</td>\n",
       "    </tr>\n",
       "    <tr>\n",
       "      <th>39</th>\n",
       "      <td>21.544347</td>\n",
       "      <td>NaN</td>\n",
       "      <td>0.057756</td>\n",
       "      <td>LogisticRegression</td>\n",
       "      <td>0.705882</td>\n",
       "      <td>0.941176</td>\n",
       "      <td>0.847059</td>\n",
       "      <td>0.088039</td>\n",
       "      <td>newton-cg</td>\n",
       "      <td>NaN</td>\n",
       "    </tr>\n",
       "    <tr>\n",
       "      <th>38</th>\n",
       "      <td>7.742637</td>\n",
       "      <td>NaN</td>\n",
       "      <td>0.043245</td>\n",
       "      <td>LogisticRegression</td>\n",
       "      <td>0.705882</td>\n",
       "      <td>0.941176</td>\n",
       "      <td>0.847059</td>\n",
       "      <td>0.088039</td>\n",
       "      <td>sag</td>\n",
       "      <td>NaN</td>\n",
       "    </tr>\n",
       "    <tr>\n",
       "      <th>37</th>\n",
       "      <td>7.742637</td>\n",
       "      <td>NaN</td>\n",
       "      <td>0.039319</td>\n",
       "      <td>LogisticRegression</td>\n",
       "      <td>0.705882</td>\n",
       "      <td>0.941176</td>\n",
       "      <td>0.847059</td>\n",
       "      <td>0.088039</td>\n",
       "      <td>lbfgs</td>\n",
       "      <td>NaN</td>\n",
       "    </tr>\n",
       "    <tr>\n",
       "      <th>36</th>\n",
       "      <td>7.742637</td>\n",
       "      <td>NaN</td>\n",
       "      <td>0.061179</td>\n",
       "      <td>LogisticRegression</td>\n",
       "      <td>0.705882</td>\n",
       "      <td>0.941176</td>\n",
       "      <td>0.847059</td>\n",
       "      <td>0.088039</td>\n",
       "      <td>newton-cg</td>\n",
       "      <td>NaN</td>\n",
       "    </tr>\n",
       "    <tr>\n",
       "      <th>22</th>\n",
       "      <td>100.0</td>\n",
       "      <td>1200</td>\n",
       "      <td>0.060737</td>\n",
       "      <td>LinearSVC</td>\n",
       "      <td>0.705882</td>\n",
       "      <td>0.941176</td>\n",
       "      <td>0.835294</td>\n",
       "      <td>0.094118</td>\n",
       "      <td>NaN</td>\n",
       "      <td>NaN</td>\n",
       "    </tr>\n",
       "    <tr>\n",
       "      <th>26</th>\n",
       "      <td>1000.0</td>\n",
       "      <td>1000</td>\n",
       "      <td>0.057189</td>\n",
       "      <td>LinearSVC</td>\n",
       "      <td>0.705882</td>\n",
       "      <td>0.941176</td>\n",
       "      <td>0.835294</td>\n",
       "      <td>0.094118</td>\n",
       "      <td>NaN</td>\n",
       "      <td>NaN</td>\n",
       "    </tr>\n",
       "    <tr>\n",
       "      <th>52</th>\n",
       "      <td>1291.549665</td>\n",
       "      <td>NaN</td>\n",
       "      <td>0.050588</td>\n",
       "      <td>LogisticRegression</td>\n",
       "      <td>0.705882</td>\n",
       "      <td>0.941176</td>\n",
       "      <td>0.835294</td>\n",
       "      <td>0.094118</td>\n",
       "      <td>lbfgs</td>\n",
       "      <td>NaN</td>\n",
       "    </tr>\n",
       "    <tr>\n",
       "      <th>66</th>\n",
       "      <td>1.0</td>\n",
       "      <td>NaN</td>\n",
       "      <td>0.045288</td>\n",
       "      <td>PassiveAggressiveClassifier</td>\n",
       "      <td>0.705882</td>\n",
       "      <td>0.941176</td>\n",
       "      <td>0.835294</td>\n",
       "      <td>0.094118</td>\n",
       "      <td>NaN</td>\n",
       "      <td>hinge</td>\n",
       "    </tr>\n",
       "    <tr>\n",
       "      <th>67</th>\n",
       "      <td>1.0</td>\n",
       "      <td>NaN</td>\n",
       "      <td>0.025799</td>\n",
       "      <td>PassiveAggressiveClassifier</td>\n",
       "      <td>0.705882</td>\n",
       "      <td>0.941176</td>\n",
       "      <td>0.823529</td>\n",
       "      <td>0.105227</td>\n",
       "      <td>NaN</td>\n",
       "      <td>squared_hinge</td>\n",
       "    </tr>\n",
       "  </tbody>\n",
       "</table>\n",
       "</div>"
      ],
      "text/plain": [
       "         clf__C clf__max_iter mean_fit_time                    estimator  \\\n",
       "40    21.544347           NaN      0.049305           LogisticRegression   \n",
       "39    21.544347           NaN      0.057756           LogisticRegression   \n",
       "38     7.742637           NaN      0.043245           LogisticRegression   \n",
       "37     7.742637           NaN      0.039319           LogisticRegression   \n",
       "36     7.742637           NaN      0.061179           LogisticRegression   \n",
       "22        100.0          1200      0.060737                    LinearSVC   \n",
       "26       1000.0          1000      0.057189                    LinearSVC   \n",
       "52  1291.549665           NaN      0.050588           LogisticRegression   \n",
       "66          1.0           NaN      0.045288  PassiveAggressiveClassifier   \n",
       "67          1.0           NaN      0.025799  PassiveAggressiveClassifier   \n",
       "\n",
       "   min_score max_score mean_score std_score clf__solver      clf__loss  \n",
       "40  0.705882  0.941176   0.847059  0.088039       lbfgs            NaN  \n",
       "39  0.705882  0.941176   0.847059  0.088039   newton-cg            NaN  \n",
       "38  0.705882  0.941176   0.847059  0.088039         sag            NaN  \n",
       "37  0.705882  0.941176   0.847059  0.088039       lbfgs            NaN  \n",
       "36  0.705882  0.941176   0.847059  0.088039   newton-cg            NaN  \n",
       "22  0.705882  0.941176   0.835294  0.094118         NaN            NaN  \n",
       "26  0.705882  0.941176   0.835294  0.094118         NaN            NaN  \n",
       "52  0.705882  0.941176   0.835294  0.094118       lbfgs            NaN  \n",
       "66  0.705882  0.941176   0.835294  0.094118         NaN          hinge  \n",
       "67  0.705882  0.941176   0.823529  0.105227         NaN  squared_hinge  "
      ]
     },
     "execution_count": 14,
     "metadata": {},
     "output_type": "execute_result"
    }
   ],
   "source": [
    "sorted_table = summary_table.sort_values('mean_score').iloc[::-1].head(10)\n",
    "sorted_table"
   ]
  },
  {
   "cell_type": "markdown",
   "metadata": {},
   "source": [
    "Due to the small example dataset, many of the models have the same performance. Still, we can see `LogisticRegression` generally performed the best. Also, note that our best-performing models did perform notably better than our naive approach, so we do gain something by using machine learning methods.\n",
    "\n",
    "`classification_deployer()` only returns the best model, but we can easily refit using just the parameters we want."
   ]
  },
  {
   "cell_type": "code",
   "execution_count": 15,
   "metadata": {},
   "outputs": [
    {
     "data": {
      "text/plain": [
       "({'LogisticRegression': LogisticRegression()},\n",
       " {'LogisticRegression': {'clf__solver': ['newton-cg'],\n",
       "   'clf__C': [21.544346900318832]}})"
      ]
     },
     "execution_count": 15,
     "metadata": {},
     "output_type": "execute_result"
    }
   ],
   "source": [
    "# get the row for the model we want to use\n",
    "model_row = sorted_table.iloc[1,:]\n",
    "\n",
    "# pull out the model name and parameters\n",
    "model_name = model_row['estimator']\n",
    "model_params = model_row[list(param_grid[model_name].keys())].to_dict()\n",
    "\n",
    "# parameter values have to be in a list, even if there is just one\n",
    "model_params = {param_name: [param_val] for param_name, param_val in model_params.items()}\n",
    "\n",
    "# get into the form used by classification_deployer()\n",
    "single_classifier = {model_name : model_instances[model_name]}\n",
    "single_param_grid = {model_name : model_params}\n",
    "single_classifier, single_param_grid"
   ]
  },
  {
   "cell_type": "markdown",
   "metadata": {},
   "source": [
    "Now that we have what we need, we can quickly rerun the fit and save the final model."
   ]
  },
  {
   "cell_type": "code",
   "execution_count": 16,
   "metadata": {},
   "outputs": [
    {
     "name": "stdout",
     "output_type": "stream",
     "text": [
      "Fitting 5 folds for each of 1 candidates, totalling 5 fits\n",
      "Better score (0.847) found on classifier: LogisticRegression\n"
     ]
    }
   ],
   "source": [
    "_, final_model = classification_deployer(x, y,\n",
    "                                            n_splits=5,\n",
    "                                            classifiers=single_classifier,\n",
    "                                            search_space=single_param_grid,\n",
    "                                            pipeline_steps=pipeline_steps,\n",
    "                                            scoring=scorer)"
   ]
  },
  {
   "cell_type": "markdown",
   "metadata": {},
   "source": [
    "### Gap-filling the asset using our final model"
   ]
  },
  {
   "cell_type": "markdown",
   "metadata": {},
   "source": [
    "Now, we can use our model to make predictions on the rows with a missing `Asset` (but with a `GeneralDesc`). First, we can pull out the data we need to feed into the model."
   ]
  },
  {
   "cell_type": "code",
   "execution_count": 17,
   "metadata": {},
   "outputs": [],
   "source": [
    "records_to_gapfill = CM_df[CM_df['Asset'].isnull()\n",
    "                           & ~CM_df['CompletionDesc'].isnull()].copy()\n",
    "# only need to keep around the CompletionDesc field\n",
    "records_to_gapfill = records_to_gapfill['CompletionDesc']"
   ]
  },
  {
   "cell_type": "markdown",
   "metadata": {},
   "source": [
    "Now, we follow the same cleaning procedure as before, and finally use our model to predict the asset."
   ]
  },
  {
   "cell_type": "code",
   "execution_count": 18,
   "metadata": {},
   "outputs": [],
   "source": [
    "records_to_gapfill = records_to_gapfill.apply(lambda x: text_remove_numbers_stopwords(x, stopwords))\n",
    "records_to_gapfill = records_to_gapfill.str.lower()\n",
    "pred_is_inverter = final_model.predict(records_to_gapfill)"
   ]
  },
  {
   "cell_type": "markdown",
   "metadata": {},
   "source": [
    "Now, we can use our prediction as a mask to pull out a list of indices where the asset is predicted to be an inverter."
   ]
  },
  {
   "cell_type": "code",
   "execution_count": 19,
   "metadata": {},
   "outputs": [
    {
     "data": {
      "text/plain": [
       "Index([5, 6, 31, 35, 77], dtype='int64')"
      ]
     },
     "execution_count": 19,
     "metadata": {},
     "output_type": "execute_result"
    }
   ],
   "source": [
    "pred_inverter_indices = records_to_gapfill.index[pred_is_inverter.astype(bool)]\n",
    "pred_inverter_indices"
   ]
  },
  {
   "cell_type": "markdown",
   "metadata": {},
   "source": [
    "We can also construct a mask for the datapoints without null values for the asset. By combining these two masks, we get a final set of inverter-related records that can be used for other analysis."
   ]
  },
  {
   "cell_type": "code",
   "execution_count": 20,
   "metadata": {},
   "outputs": [
    {
     "data": {
      "text/html": [
       "<div>\n",
       "<style scoped>\n",
       "    .dataframe tbody tr th:only-of-type {\n",
       "        vertical-align: middle;\n",
       "    }\n",
       "\n",
       "    .dataframe tbody tr th {\n",
       "        vertical-align: top;\n",
       "    }\n",
       "\n",
       "    .dataframe thead th {\n",
       "        text-align: right;\n",
       "    }\n",
       "</style>\n",
       "<table border=\"1\" class=\"dataframe\">\n",
       "  <thead>\n",
       "    <tr style=\"text-align: right;\">\n",
       "      <th></th>\n",
       "      <th>Unnamed: 0</th>\n",
       "      <th>Date_EventStart</th>\n",
       "      <th>Date_EventEnd</th>\n",
       "      <th>Asset</th>\n",
       "      <th>CompletionDesc</th>\n",
       "      <th>Cause</th>\n",
       "      <th>ImpactLevel</th>\n",
       "      <th>randid</th>\n",
       "    </tr>\n",
       "  </thead>\n",
       "  <tbody>\n",
       "    <tr>\n",
       "      <th>3</th>\n",
       "      <td>3</td>\n",
       "      <td>11/14/2017 7:46</td>\n",
       "      <td>11/14/2017 8:35</td>\n",
       "      <td>Inverter</td>\n",
       "      <td>14 nov: we were alerted that e-c3-1 had faulte...</td>\n",
       "      <td>019 - Unplanned outage/derate.</td>\n",
       "      <td>Underperformance</td>\n",
       "      <td>54</td>\n",
       "    </tr>\n",
       "    <tr>\n",
       "      <th>12</th>\n",
       "      <td>12</td>\n",
       "      <td>7/12/2017 17:01</td>\n",
       "      <td>8/15/2017 16:04</td>\n",
       "      <td>Inverter</td>\n",
       "      <td>self-resolved. techdispatched: no</td>\n",
       "      <td>019 - Unplanned outage/derate.</td>\n",
       "      <td>Underperformance</td>\n",
       "      <td>11</td>\n",
       "    </tr>\n",
       "    <tr>\n",
       "      <th>13</th>\n",
       "      <td>13</td>\n",
       "      <td>8/15/2017 12:01</td>\n",
       "      <td>8/16/2017 8:00</td>\n",
       "      <td>Inverter</td>\n",
       "      <td>we reset communications inverter reset switch ...</td>\n",
       "      <td>020 - Data/Communication System Outage.</td>\n",
       "      <td>Underperformance</td>\n",
       "      <td>55</td>\n",
       "    </tr>\n",
       "    <tr>\n",
       "      <th>16</th>\n",
       "      <td>16</td>\n",
       "      <td>1/18/2018 13:49</td>\n",
       "      <td>1/25/2018 11:30</td>\n",
       "      <td>Inverter</td>\n",
       "      <td>the inverter was taken offline transformer shu...</td>\n",
       "      <td>019 - Unplanned outage/derate.</td>\n",
       "      <td>Underperformance</td>\n",
       "      <td>24</td>\n",
       "    </tr>\n",
       "    <tr>\n",
       "      <th>25</th>\n",
       "      <td>25</td>\n",
       "      <td>12/7/2019 11:55</td>\n",
       "      <td>12/7/2019 17:00</td>\n",
       "      <td>Inverter</td>\n",
       "      <td>c4 performed remote hard reset to faults inver...</td>\n",
       "      <td>019 - Unplanned outage/derate</td>\n",
       "      <td>Underperformance</td>\n",
       "      <td>39</td>\n",
       "    </tr>\n",
       "    <tr>\n",
       "      <th>36</th>\n",
       "      <td>36</td>\n",
       "      <td>6/8/2019 8:45</td>\n",
       "      <td>6/9/2019 11:35</td>\n",
       "      <td>Inverter</td>\n",
       "      <td>6/9/19 - inverter 3 was offline with ground fa...</td>\n",
       "      <td>001 - Ground fault</td>\n",
       "      <td>Underperformance</td>\n",
       "      <td>16</td>\n",
       "    </tr>\n",
       "    <tr>\n",
       "      <th>38</th>\n",
       "      <td>38</td>\n",
       "      <td>6/21/2017 17:25</td>\n",
       "      <td>6/23/2017 12:00</td>\n",
       "      <td>Inverter</td>\n",
       "      <td>confirmed that cb 1.1.6 was turned off. verifi...</td>\n",
       "      <td>019 - Unplanned outage/derate.</td>\n",
       "      <td>Underperformance</td>\n",
       "      <td>34</td>\n",
       "    </tr>\n",
       "    <tr>\n",
       "      <th>41</th>\n",
       "      <td>41</td>\n",
       "      <td>5/28/2019 15:01</td>\n",
       "      <td>6/18/2019 17:00</td>\n",
       "      <td>Inverter</td>\n",
       "      <td>pcb master core were swapped. inverter has bee...</td>\n",
       "      <td>019 - Unplanned outage/derate</td>\n",
       "      <td>Underperformance</td>\n",
       "      <td>18</td>\n",
       "    </tr>\n",
       "    <tr>\n",
       "      <th>43</th>\n",
       "      <td>43</td>\n",
       "      <td>3/23/2017 16:06</td>\n",
       "      <td>3/24/2017 9:58</td>\n",
       "      <td>Inverter</td>\n",
       "      <td>investigate inverter down. inverter 3.5 had re...</td>\n",
       "      <td>.</td>\n",
       "      <td>Underperformance</td>\n",
       "      <td>29</td>\n",
       "    </tr>\n",
       "    <tr>\n",
       "      <th>49</th>\n",
       "      <td>49</td>\n",
       "      <td>3/3/2018 13:44</td>\n",
       "      <td>3/3/2018 15:38</td>\n",
       "      <td>Inverter</td>\n",
       "      <td>[no completion notes were entered servicemax]....</td>\n",
       "      <td>019 - Unplanned outage/derate.</td>\n",
       "      <td>Underperformance</td>\n",
       "      <td>14</td>\n",
       "    </tr>\n",
       "    <tr>\n",
       "      <th>52</th>\n",
       "      <td>52</td>\n",
       "      <td>4/21/2019 9:00</td>\n",
       "      <td>4/21/2019 17:00</td>\n",
       "      <td>Inverter</td>\n",
       "      <td>inverter resolved. techdispatched: no</td>\n",
       "      <td>019 - Unplanned outage/derate.</td>\n",
       "      <td>Underperformance</td>\n",
       "      <td>54</td>\n",
       "    </tr>\n",
       "    <tr>\n",
       "      <th>55</th>\n",
       "      <td>55</td>\n",
       "      <td>8/2/2019 17:15</td>\n",
       "      <td>8/4/2019 7:15</td>\n",
       "      <td>Inverter</td>\n",
       "      <td>8/3/19 cc: c4 reports pv ground overcurrent er...</td>\n",
       "      <td>001 - Ground fault</td>\n",
       "      <td>Underperformance</td>\n",
       "      <td>19</td>\n",
       "    </tr>\n",
       "    <tr>\n",
       "      <th>56</th>\n",
       "      <td>56</td>\n",
       "      <td>9/16/2019 13:30</td>\n",
       "      <td>9/18/2019 0:25</td>\n",
       "      <td>Inverter</td>\n",
       "      <td>inverter displayed ground fault. after resetti...</td>\n",
       "      <td>001 - Ground fault</td>\n",
       "      <td>Underperformance</td>\n",
       "      <td>16</td>\n",
       "    </tr>\n",
       "    <tr>\n",
       "      <th>57</th>\n",
       "      <td>57</td>\n",
       "      <td>1/26/2020 0:45</td>\n",
       "      <td>2/6/2020 15:50</td>\n",
       "      <td>Inverter</td>\n",
       "      <td>switchgear breaker for 2.6 was tripped. breake...</td>\n",
       "      <td>019 - Unplanned outage/derate</td>\n",
       "      <td>Underperformance</td>\n",
       "      <td>32</td>\n",
       "    </tr>\n",
       "    <tr>\n",
       "      <th>62</th>\n",
       "      <td>62</td>\n",
       "      <td>10/12/2017 13:19</td>\n",
       "      <td>10/13/2017 17:00</td>\n",
       "      <td>Inverter</td>\n",
       "      <td>inverter back online. techdispatched: no</td>\n",
       "      <td>019 - Unplanned outage/derate.</td>\n",
       "      <td>Underperformance</td>\n",
       "      <td>55</td>\n",
       "    </tr>\n",
       "    <tr>\n",
       "      <th>63</th>\n",
       "      <td>63</td>\n",
       "      <td>7/20/2019 20:38</td>\n",
       "      <td>7/21/2019 17:00</td>\n",
       "      <td>Inverter</td>\n",
       "      <td>7/21/19 w/o 0287481 w-b10-1 upon arriving foun...</td>\n",
       "      <td>019 - Unplanned outage/derate</td>\n",
       "      <td>Underperformance</td>\n",
       "      <td>54</td>\n",
       "    </tr>\n",
       "    <tr>\n",
       "      <th>71</th>\n",
       "      <td>71</td>\n",
       "      <td>2/6/2019 9:00</td>\n",
       "      <td>4/21/2019 17:00</td>\n",
       "      <td>Inverter</td>\n",
       "      <td>the site had throughout february. closed this ...</td>\n",
       "      <td>023 - Snow.</td>\n",
       "      <td>Underperformance</td>\n",
       "      <td>51</td>\n",
       "    </tr>\n",
       "    <tr>\n",
       "      <th>76</th>\n",
       "      <td>76</td>\n",
       "      <td>7/20/2018 18:00</td>\n",
       "      <td>8/9/2018 10:45</td>\n",
       "      <td>Inverter</td>\n",
       "      <td>this is redundant created by c4. i asked them ...</td>\n",
       "      <td>0000 - Unknown.</td>\n",
       "      <td>Underperformance</td>\n",
       "      <td>53</td>\n",
       "    </tr>\n",
       "    <tr>\n",
       "      <th>80</th>\n",
       "      <td>80</td>\n",
       "      <td>8/1/2018 17:15</td>\n",
       "      <td>8/2/2018 10:10</td>\n",
       "      <td>Inverter</td>\n",
       "      <td>2, august 2018 - upon arrival inverter w-a1-2 ...</td>\n",
       "      <td>020 - Data/Communication System Outage.</td>\n",
       "      <td>Underperformance</td>\n",
       "      <td>55</td>\n",
       "    </tr>\n",
       "    <tr>\n",
       "      <th>82</th>\n",
       "      <td>82</td>\n",
       "      <td>5/29/2019 14:25</td>\n",
       "      <td>5/29/2019 16:05</td>\n",
       "      <td>Inverter</td>\n",
       "      <td>resolved</td>\n",
       "      <td>001 - Ground fault</td>\n",
       "      <td>Underperformance</td>\n",
       "      <td>48</td>\n",
       "    </tr>\n",
       "    <tr>\n",
       "      <th>83</th>\n",
       "      <td>83</td>\n",
       "      <td>6/18/2018 10:55</td>\n",
       "      <td>6/19/2018 19:55</td>\n",
       "      <td>Inverter</td>\n",
       "      <td>resolved.. techdispatched: no</td>\n",
       "      <td>0000 - Unknown.</td>\n",
       "      <td>Underperformance</td>\n",
       "      <td>49</td>\n",
       "    </tr>\n",
       "    <tr>\n",
       "      <th>84</th>\n",
       "      <td>84</td>\n",
       "      <td>6/2/2018 15:50</td>\n",
       "      <td>10/1/2018 17:00</td>\n",
       "      <td>Inverter</td>\n",
       "      <td>fixed by contractor. techdispatched: no</td>\n",
       "      <td>019 - Unplanned outage/derate.</td>\n",
       "      <td>Underperformance</td>\n",
       "      <td>49</td>\n",
       "    </tr>\n",
       "    <tr>\n",
       "      <th>85</th>\n",
       "      <td>85</td>\n",
       "      <td>8/29/2018 13:15</td>\n",
       "      <td>8/30/2018 10:00</td>\n",
       "      <td>Inverter</td>\n",
       "      <td>when i arrived onsite inverter was up running....</td>\n",
       "      <td>0000 - Unknown.</td>\n",
       "      <td>Underperformance</td>\n",
       "      <td>26</td>\n",
       "    </tr>\n",
       "    <tr>\n",
       "      <th>87</th>\n",
       "      <td>87</td>\n",
       "      <td>5/8/2017 14:30</td>\n",
       "      <td>6/30/2017 12:00</td>\n",
       "      <td>Inverter</td>\n",
       "      <td>performed repair for inverters g &amp; h. techdisp...</td>\n",
       "      <td>019 - Unplanned outage/derate.</td>\n",
       "      <td>Underperformance</td>\n",
       "      <td>15</td>\n",
       "    </tr>\n",
       "    <tr>\n",
       "      <th>93</th>\n",
       "      <td>93</td>\n",
       "      <td>6/24/2018 17:10</td>\n",
       "      <td>6/25/2018 11:05</td>\n",
       "      <td>Inverter</td>\n",
       "      <td>c4 was unable to establish comms with site. ch...</td>\n",
       "      <td>0000 - Unknown.</td>\n",
       "      <td>Underperformance</td>\n",
       "      <td>65</td>\n",
       "    </tr>\n",
       "    <tr>\n",
       "      <th>95</th>\n",
       "      <td>95</td>\n",
       "      <td>11/28/2016 9:28</td>\n",
       "      <td>12/17/2017 18:23</td>\n",
       "      <td>Inverter</td>\n",
       "      <td>cleared cleared alert however psi is -3 invert...</td>\n",
       "      <td>.</td>\n",
       "      <td>Underperformance</td>\n",
       "      <td>0</td>\n",
       "    </tr>\n",
       "    <tr>\n",
       "      <th>98</th>\n",
       "      <td>98</td>\n",
       "      <td>5/7/2018 1:47</td>\n",
       "      <td>5/8/2018 13:59</td>\n",
       "      <td>Inverter</td>\n",
       "      <td>checked network connection to rm-1 didn't see ...</td>\n",
       "      <td>020 - Data/Communication System Outage.</td>\n",
       "      <td>Underperformance</td>\n",
       "      <td>23</td>\n",
       "    </tr>\n",
       "    <tr>\n",
       "      <th>5</th>\n",
       "      <td>5</td>\n",
       "      <td>4/25/2018 11:15</td>\n",
       "      <td>4/25/2018 14:15</td>\n",
       "      <td>Inverter</td>\n",
       "      <td>inverter 11 was showing fault 6422 via scada. ...</td>\n",
       "      <td>020 - Data/Communication System Outage.</td>\n",
       "      <td>Underperformance</td>\n",
       "      <td>7</td>\n",
       "    </tr>\n",
       "    <tr>\n",
       "      <th>6</th>\n",
       "      <td>6</td>\n",
       "      <td>5/27/2018 15:39</td>\n",
       "      <td>5/27/2018 15:39</td>\n",
       "      <td>Inverter</td>\n",
       "      <td>[no completion notes were entered servicemax]....</td>\n",
       "      <td>019 - Unplanned outage/derate.</td>\n",
       "      <td>Underperformance</td>\n",
       "      <td>49</td>\n",
       "    </tr>\n",
       "    <tr>\n",
       "      <th>31</th>\n",
       "      <td>31</td>\n",
       "      <td>6/21/2018 18:55</td>\n",
       "      <td>7/3/2018 14:20</td>\n",
       "      <td>Inverter</td>\n",
       "      <td>11,july 2018 -upon arrival w-a6-2, inverter is...</td>\n",
       "      <td>0000 - Unknown.</td>\n",
       "      <td>Underperformance</td>\n",
       "      <td>53</td>\n",
       "    </tr>\n",
       "    <tr>\n",
       "      <th>35</th>\n",
       "      <td>35</td>\n",
       "      <td>12/15/2018 14:36</td>\n",
       "      <td>12/17/2018 20:06</td>\n",
       "      <td>Inverter</td>\n",
       "      <td>2018-12-15, 09:37 ; inverter a2 failed to star...</td>\n",
       "      <td>3502 error, GFDI tripped</td>\n",
       "      <td>Underperformance</td>\n",
       "      <td>68</td>\n",
       "    </tr>\n",
       "    <tr>\n",
       "      <th>77</th>\n",
       "      <td>77</td>\n",
       "      <td>1/16/2018 9:17</td>\n",
       "      <td>1/21/2018 11:33</td>\n",
       "      <td>Inverter</td>\n",
       "      <td>resolved. techdispatched: no</td>\n",
       "      <td>.</td>\n",
       "      <td>NaN</td>\n",
       "      <td>56</td>\n",
       "    </tr>\n",
       "  </tbody>\n",
       "</table>\n",
       "</div>"
      ],
      "text/plain": [
       "    Unnamed: 0   Date_EventStart     Date_EventEnd     Asset  \\\n",
       "3            3   11/14/2017 7:46   11/14/2017 8:35  Inverter   \n",
       "12          12   7/12/2017 17:01   8/15/2017 16:04  Inverter   \n",
       "13          13   8/15/2017 12:01    8/16/2017 8:00  Inverter   \n",
       "16          16   1/18/2018 13:49   1/25/2018 11:30  Inverter   \n",
       "25          25   12/7/2019 11:55   12/7/2019 17:00  Inverter   \n",
       "36          36     6/8/2019 8:45    6/9/2019 11:35  Inverter   \n",
       "38          38   6/21/2017 17:25   6/23/2017 12:00  Inverter   \n",
       "41          41   5/28/2019 15:01   6/18/2019 17:00  Inverter   \n",
       "43          43   3/23/2017 16:06    3/24/2017 9:58  Inverter   \n",
       "49          49    3/3/2018 13:44    3/3/2018 15:38  Inverter   \n",
       "52          52    4/21/2019 9:00   4/21/2019 17:00  Inverter   \n",
       "55          55    8/2/2019 17:15     8/4/2019 7:15  Inverter   \n",
       "56          56   9/16/2019 13:30    9/18/2019 0:25  Inverter   \n",
       "57          57    1/26/2020 0:45    2/6/2020 15:50  Inverter   \n",
       "62          62  10/12/2017 13:19  10/13/2017 17:00  Inverter   \n",
       "63          63   7/20/2019 20:38   7/21/2019 17:00  Inverter   \n",
       "71          71     2/6/2019 9:00   4/21/2019 17:00  Inverter   \n",
       "76          76   7/20/2018 18:00    8/9/2018 10:45  Inverter   \n",
       "80          80    8/1/2018 17:15    8/2/2018 10:10  Inverter   \n",
       "82          82   5/29/2019 14:25   5/29/2019 16:05  Inverter   \n",
       "83          83   6/18/2018 10:55   6/19/2018 19:55  Inverter   \n",
       "84          84    6/2/2018 15:50   10/1/2018 17:00  Inverter   \n",
       "85          85   8/29/2018 13:15   8/30/2018 10:00  Inverter   \n",
       "87          87    5/8/2017 14:30   6/30/2017 12:00  Inverter   \n",
       "93          93   6/24/2018 17:10   6/25/2018 11:05  Inverter   \n",
       "95          95   11/28/2016 9:28  12/17/2017 18:23  Inverter   \n",
       "98          98     5/7/2018 1:47    5/8/2018 13:59  Inverter   \n",
       "5            5   4/25/2018 11:15   4/25/2018 14:15  Inverter   \n",
       "6            6   5/27/2018 15:39   5/27/2018 15:39  Inverter   \n",
       "31          31   6/21/2018 18:55    7/3/2018 14:20  Inverter   \n",
       "35          35  12/15/2018 14:36  12/17/2018 20:06  Inverter   \n",
       "77          77    1/16/2018 9:17   1/21/2018 11:33  Inverter   \n",
       "\n",
       "                                       CompletionDesc  \\\n",
       "3   14 nov: we were alerted that e-c3-1 had faulte...   \n",
       "12                  self-resolved. techdispatched: no   \n",
       "13  we reset communications inverter reset switch ...   \n",
       "16  the inverter was taken offline transformer shu...   \n",
       "25  c4 performed remote hard reset to faults inver...   \n",
       "36  6/9/19 - inverter 3 was offline with ground fa...   \n",
       "38  confirmed that cb 1.1.6 was turned off. verifi...   \n",
       "41  pcb master core were swapped. inverter has bee...   \n",
       "43  investigate inverter down. inverter 3.5 had re...   \n",
       "49  [no completion notes were entered servicemax]....   \n",
       "52              inverter resolved. techdispatched: no   \n",
       "55  8/3/19 cc: c4 reports pv ground overcurrent er...   \n",
       "56  inverter displayed ground fault. after resetti...   \n",
       "57  switchgear breaker for 2.6 was tripped. breake...   \n",
       "62           inverter back online. techdispatched: no   \n",
       "63  7/21/19 w/o 0287481 w-b10-1 upon arriving foun...   \n",
       "71  the site had throughout february. closed this ...   \n",
       "76  this is redundant created by c4. i asked them ...   \n",
       "80  2, august 2018 - upon arrival inverter w-a1-2 ...   \n",
       "82                                           resolved   \n",
       "83                      resolved.. techdispatched: no   \n",
       "84            fixed by contractor. techdispatched: no   \n",
       "85  when i arrived onsite inverter was up running....   \n",
       "87  performed repair for inverters g & h. techdisp...   \n",
       "93  c4 was unable to establish comms with site. ch...   \n",
       "95  cleared cleared alert however psi is -3 invert...   \n",
       "98  checked network connection to rm-1 didn't see ...   \n",
       "5   inverter 11 was showing fault 6422 via scada. ...   \n",
       "6   [no completion notes were entered servicemax]....   \n",
       "31  11,july 2018 -upon arrival w-a6-2, inverter is...   \n",
       "35  2018-12-15, 09:37 ; inverter a2 failed to star...   \n",
       "77                       resolved. techdispatched: no   \n",
       "\n",
       "                                       Cause       ImpactLevel  randid  \n",
       "3            019 - Unplanned outage/derate.   Underperformance      54  \n",
       "12           019 - Unplanned outage/derate.   Underperformance      11  \n",
       "13  020 - Data/Communication System Outage.   Underperformance      55  \n",
       "16           019 - Unplanned outage/derate.   Underperformance      24  \n",
       "25             019 - Unplanned outage/derate  Underperformance      39  \n",
       "36                        001 - Ground fault  Underperformance      16  \n",
       "38           019 - Unplanned outage/derate.   Underperformance      34  \n",
       "41             019 - Unplanned outage/derate  Underperformance      18  \n",
       "43                                        .   Underperformance      29  \n",
       "49           019 - Unplanned outage/derate.   Underperformance      14  \n",
       "52           019 - Unplanned outage/derate.   Underperformance      54  \n",
       "55                        001 - Ground fault  Underperformance      19  \n",
       "56                        001 - Ground fault  Underperformance      16  \n",
       "57             019 - Unplanned outage/derate  Underperformance      32  \n",
       "62           019 - Unplanned outage/derate.   Underperformance      55  \n",
       "63             019 - Unplanned outage/derate  Underperformance      54  \n",
       "71                              023 - Snow.   Underperformance      51  \n",
       "76                          0000 - Unknown.   Underperformance      53  \n",
       "80  020 - Data/Communication System Outage.   Underperformance      55  \n",
       "82                        001 - Ground fault  Underperformance      48  \n",
       "83                          0000 - Unknown.   Underperformance      49  \n",
       "84           019 - Unplanned outage/derate.   Underperformance      49  \n",
       "85                          0000 - Unknown.   Underperformance      26  \n",
       "87           019 - Unplanned outage/derate.   Underperformance      15  \n",
       "93                          0000 - Unknown.   Underperformance      65  \n",
       "95                                        .   Underperformance       0  \n",
       "98  020 - Data/Communication System Outage.   Underperformance      23  \n",
       "5   020 - Data/Communication System Outage.   Underperformance       7  \n",
       "6            019 - Unplanned outage/derate.   Underperformance      49  \n",
       "31                          0000 - Unknown.   Underperformance      53  \n",
       "35                  3502 error, GFDI tripped  Underperformance      68  \n",
       "77                                        .                NaN      56  "
      ]
     },
     "execution_count": 20,
     "metadata": {},
     "output_type": "execute_result"
    }
   ],
   "source": [
    "inverter_indices = CM_df.index[~CM_df['Asset'].isnull()\n",
    "                               & CM_df['Asset'].str.contains('Inverter')]\n",
    "\n",
    "inverter_CM_df = CM_df.loc[list(inverter_indices) + list(pred_inverter_indices), :]\n",
    "inverter_CM_df.loc[pred_inverter_indices, 'Asset'] = 'Inverter'\n",
    "inverter_CM_df"
   ]
  },
  {
   "cell_type": "code",
   "execution_count": 21,
   "metadata": {},
   "outputs": [],
   "source": [
    "inverter_CM_df.to_csv('example_data/example_ML_ticket_data_gapfilled_inverter_records.csv', index=False)"
   ]
  }
 ],
 "metadata": {
  "kernelspec": {
   "display_name": "pvops_bare_with_tweaks",
   "language": "python",
   "name": "python3"
  },
  "language_info": {
   "codemirror_mode": {
    "name": "ipython",
    "version": 3
   },
   "file_extension": ".py",
   "mimetype": "text/x-python",
   "name": "python",
   "nbconvert_exporter": "python",
   "pygments_lexer": "ipython3",
   "version": "3.11.10"
  }
 },
 "nbformat": 4,
 "nbformat_minor": 2
}
