{
 "cells": [
  {
   "cell_type": "code",
   "execution_count": 1,
   "metadata": {},
   "outputs": [],
   "source": [
    "# for reading in data\n",
    "import pandas as pd\n",
    "\n",
    "# data preprocessing\n",
    "from pvops.text.preprocess import text_remove_numbers_stopwords\n",
    "from nltk import corpus\n",
    "\n",
    "# machine learning pipeline: vectorizer, model definitions, and scoring\n",
    "from pvops.text.classify import classification_deployer\n",
    "from pvops.text.defaults import supervised_classifier_defs\n",
    "from sklearn.feature_extraction.text import TfidfVectorizer\n",
    "from sklearn.metrics import accuracy_score, make_scorer"
   ]
  },
  {
   "cell_type": "markdown",
   "metadata": {},
   "source": [
    "### Read in data"
   ]
  },
  {
   "cell_type": "markdown",
   "metadata": {},
   "source": [
    "First, we'll read in the data and take a look at it. We would like to identify inverter-related records, so our column of interest is `Asset`."
   ]
  },
  {
   "cell_type": "code",
   "execution_count": 2,
   "metadata": {},
   "outputs": [
    {
     "data": {
      "text/plain": [
       "0                    Inverter\n",
       "1            Central Inverter\n",
       "2                         NaN\n",
       "3                    Combiner\n",
       "4                       Plant\n",
       "5                    Inverter\n",
       "6                    Combiner\n",
       "7    Inverter/String Inverter\n",
       "8                    Inverter\n",
       "9      Ground-Mount PV System\n",
       "Name: Asset, dtype: object"
      ]
     },
     "execution_count": 2,
     "metadata": {},
     "output_type": "execute_result"
    }
   ],
   "source": [
    "CM_df = pd.read_csv('example_data/example_CM_records.csv')\n",
    "CM_df['Asset'].head(10)"
   ]
  },
  {
   "cell_type": "markdown",
   "metadata": {},
   "source": [
    "We can see that some records have a missing `Asset` field. Let's see how many records are missing it."
   ]
  },
  {
   "cell_type": "code",
   "execution_count": 3,
   "metadata": {},
   "outputs": [
    {
     "name": "stdout",
     "output_type": "stream",
     "text": [
      "39/500 records have a missing asset (7.8%).\n"
     ]
    }
   ],
   "source": [
    "count_null = CM_df['Asset'].isnull().sum()\n",
    "print(f'{count_null}/{len(CM_df)} records have a missing asset ({count_null/len(CM_df)*100 :.1f}%).')"
   ]
  },
  {
   "cell_type": "markdown",
   "metadata": {},
   "source": [
    "We would like to leverage as much of the data as we can for later analysis, so it would help to find a way to gap-fill these records that are missing the asset. We can do so by leveraging the plain-text event description in the `GeneralDesc` column. Let's pull out the data of interest."
   ]
  },
  {
   "cell_type": "code",
   "execution_count": 4,
   "metadata": {},
   "outputs": [
    {
     "data": {
      "text/html": [
       "<div>\n",
       "<style scoped>\n",
       "    .dataframe tbody tr th:only-of-type {\n",
       "        vertical-align: middle;\n",
       "    }\n",
       "\n",
       "    .dataframe tbody tr th {\n",
       "        vertical-align: top;\n",
       "    }\n",
       "\n",
       "    .dataframe thead th {\n",
       "        text-align: right;\n",
       "    }\n",
       "</style>\n",
       "<table border=\"1\" class=\"dataframe\">\n",
       "  <thead>\n",
       "    <tr style=\"text-align: right;\">\n",
       "      <th></th>\n",
       "      <th>Asset</th>\n",
       "      <th>GeneralDesc</th>\n",
       "    </tr>\n",
       "  </thead>\n",
       "  <tbody>\n",
       "    <tr>\n",
       "      <th>0</th>\n",
       "      <td>Inverter</td>\n",
       "      <td>Saint Albans - String inverter 3-1-18 - Forced...</td>\n",
       "    </tr>\n",
       "    <tr>\n",
       "      <th>1</th>\n",
       "      <td>Central Inverter</td>\n",
       "      <td>Mod 1.7 offline Update 10/16: Alarm on AlsoEne...</td>\n",
       "    </tr>\n",
       "    <tr>\n",
       "      <th>3</th>\n",
       "      <td>Combiner</td>\n",
       "      <td>WO-00006820 ; Sunfish ; Combiner Box - Underpe...</td>\n",
       "    </tr>\n",
       "    <tr>\n",
       "      <th>4</th>\n",
       "      <td>Plant</td>\n",
       "      <td>Pearl II - Site - Forced outage. 8:10am 8-Dec ...</td>\n",
       "    </tr>\n",
       "    <tr>\n",
       "      <th>5</th>\n",
       "      <td>Inverter</td>\n",
       "      <td>Adirondack - Inverter 3.10 - Forced Outage. 7/...</td>\n",
       "    </tr>\n",
       "  </tbody>\n",
       "</table>\n",
       "</div>"
      ],
      "text/plain": [
       "              Asset                                        GeneralDesc\n",
       "0          Inverter  Saint Albans - String inverter 3-1-18 - Forced...\n",
       "1  Central Inverter  Mod 1.7 offline Update 10/16: Alarm on AlsoEne...\n",
       "3          Combiner  WO-00006820 ; Sunfish ; Combiner Box - Underpe...\n",
       "4             Plant  Pearl II - Site - Forced outage. 8:10am 8-Dec ...\n",
       "5          Inverter  Adirondack - Inverter 3.10 - Forced Outage. 7/..."
      ]
     },
     "execution_count": 4,
     "metadata": {},
     "output_type": "execute_result"
    }
   ],
   "source": [
    "# pull out the Asset and GeneralDesc columns, and any rows with nulls in either column\n",
    "CM_nonnull = CM_df[['Asset','GeneralDesc']].dropna()\n",
    "CM_nonnull.head(5)"
   ]
  },
  {
   "cell_type": "markdown",
   "metadata": {},
   "source": [
    "For good measure, we can also look to see how many of the non-null records have an inverter-related asset:"
   ]
  },
  {
   "cell_type": "code",
   "execution_count": 5,
   "metadata": {},
   "outputs": [
    {
     "name": "stdout",
     "output_type": "stream",
     "text": [
      "165/461 records have an inverter-related asset (35.8%).\n"
     ]
    }
   ],
   "source": [
    "count_inverter = CM_nonnull['Asset'].str.contains('Inverter').sum()\n",
    "print(f'{count_inverter}/{len(CM_nonnull)} records have an inverter-related asset ({count_inverter/len(CM_nonnull)*100 :.1f}%).')"
   ]
  },
  {
   "cell_type": "markdown",
   "metadata": {},
   "source": [
    "### Naive approach: keyword method"
   ]
  },
  {
   "cell_type": "markdown",
   "metadata": {},
   "source": [
    "As a first approach, we can perform a simple keyword-based method. We make a prediction of the asset based on whether the word \"inverter\" is present in the description."
   ]
  },
  {
   "cell_type": "code",
   "execution_count": 6,
   "metadata": {},
   "outputs": [
    {
     "name": "stdout",
     "output_type": "stream",
     "text": [
      "385/461 records predicted correctly from keyword search (83.5%).\n"
     ]
    }
   ],
   "source": [
    "# check if the event description contains the word 'inverter'; this is our prediction\n",
    "prediction = CM_nonnull['GeneralDesc'].str.lower().str.contains('inverter')\n",
    "# check if the asset itself contains the word 'inverter'; this is the true label\n",
    "true_label = CM_nonnull['Asset'].str.lower().str.contains('inverter')\n",
    "\n",
    "naive_num_correct = (prediction == true_label).sum()\n",
    "print(f'{naive_num_correct}/{len(CM_nonnull)} records predicted correctly from keyword search '\n",
    "      + f'({naive_num_correct/len(CM_nonnull)*100 :.1f}%).')"
   ]
  },
  {
   "cell_type": "markdown",
   "metadata": {},
   "source": [
    "This already does decently well. Let's see if we can improve our results via a more robust machine learning approach."
   ]
  },
  {
   "cell_type": "markdown",
   "metadata": {},
   "source": [
    "### Prepare data for supervised classification"
   ]
  },
  {
   "cell_type": "markdown",
   "metadata": {},
   "source": [
    "First, we need to clean our text data. We can use `nltk`'s english stopwords list to remove common words that won't have much bearing on the true content of the records. All we need to do is pass this into the `text_remove_numbers_stopwords()` function from `pvops.text.preprocess`, which will handle all of this for us.\n",
    "\n",
    "From there, we can make everything lowercase, and we're basically done. "
   ]
  },
  {
   "cell_type": "code",
   "execution_count": 7,
   "metadata": {},
   "outputs": [
    {
     "data": {
      "text/html": [
       "<div>\n",
       "<style scoped>\n",
       "    .dataframe tbody tr th:only-of-type {\n",
       "        vertical-align: middle;\n",
       "    }\n",
       "\n",
       "    .dataframe tbody tr th {\n",
       "        vertical-align: top;\n",
       "    }\n",
       "\n",
       "    .dataframe thead th {\n",
       "        text-align: right;\n",
       "    }\n",
       "</style>\n",
       "<table border=\"1\" class=\"dataframe\">\n",
       "  <thead>\n",
       "    <tr style=\"text-align: right;\">\n",
       "      <th></th>\n",
       "      <th>Asset</th>\n",
       "      <th>GeneralDesc</th>\n",
       "      <th>GeneralDescCleaned</th>\n",
       "      <th>GeneralDescLower</th>\n",
       "    </tr>\n",
       "  </thead>\n",
       "  <tbody>\n",
       "    <tr>\n",
       "      <th>0</th>\n",
       "      <td>Inverter</td>\n",
       "      <td>Saint Albans - String inverter 3-1-18 - Forced...</td>\n",
       "      <td>Saint Albans String inverter Forced outage com...</td>\n",
       "      <td>saint albans string inverter forced outage com...</td>\n",
       "    </tr>\n",
       "    <tr>\n",
       "      <th>1</th>\n",
       "      <td>Central Inverter</td>\n",
       "      <td>Mod 1.7 offline Update 10/16: Alarm on AlsoEne...</td>\n",
       "      <td>Mod offline Update Alarm AlsoEnergy PM indicat...</td>\n",
       "      <td>mod offline update alarm alsoenergy pm indicat...</td>\n",
       "    </tr>\n",
       "    <tr>\n",
       "      <th>3</th>\n",
       "      <td>Combiner</td>\n",
       "      <td>WO-00006820 ; Sunfish ; Combiner Box - Underpe...</td>\n",
       "      <td>WO ; Sunfish ; Combiner Box Underperformance ;...</td>\n",
       "      <td>wo ; sunfish ; combiner box underperformance ;...</td>\n",
       "    </tr>\n",
       "    <tr>\n",
       "      <th>4</th>\n",
       "      <td>Plant</td>\n",
       "      <td>Pearl II - Site - Forced outage. 8:10am 8-Dec ...</td>\n",
       "      <td>Pearl II Site Forced outage Dec Pearl II tripp...</td>\n",
       "      <td>pearl ii site forced outage dec pearl ii tripp...</td>\n",
       "    </tr>\n",
       "    <tr>\n",
       "      <th>5</th>\n",
       "      <td>Inverter</td>\n",
       "      <td>Adirondack - Inverter 3.10 - Forced Outage. 7/...</td>\n",
       "      <td>Adirondack Inverter Forced Outage Adirondack I...</td>\n",
       "      <td>adirondack inverter forced outage adirondack i...</td>\n",
       "    </tr>\n",
       "  </tbody>\n",
       "</table>\n",
       "</div>"
      ],
      "text/plain": [
       "              Asset                                        GeneralDesc  \\\n",
       "0          Inverter  Saint Albans - String inverter 3-1-18 - Forced...   \n",
       "1  Central Inverter  Mod 1.7 offline Update 10/16: Alarm on AlsoEne...   \n",
       "3          Combiner  WO-00006820 ; Sunfish ; Combiner Box - Underpe...   \n",
       "4             Plant  Pearl II - Site - Forced outage. 8:10am 8-Dec ...   \n",
       "5          Inverter  Adirondack - Inverter 3.10 - Forced Outage. 7/...   \n",
       "\n",
       "                                  GeneralDescCleaned  \\\n",
       "0  Saint Albans String inverter Forced outage com...   \n",
       "1  Mod offline Update Alarm AlsoEnergy PM indicat...   \n",
       "3  WO ; Sunfish ; Combiner Box Underperformance ;...   \n",
       "4  Pearl II Site Forced outage Dec Pearl II tripp...   \n",
       "5  Adirondack Inverter Forced Outage Adirondack I...   \n",
       "\n",
       "                                    GeneralDescLower  \n",
       "0  saint albans string inverter forced outage com...  \n",
       "1  mod offline update alarm alsoenergy pm indicat...  \n",
       "3  wo ; sunfish ; combiner box underperformance ;...  \n",
       "4  pearl ii site forced outage dec pearl ii tripp...  \n",
       "5  adirondack inverter forced outage adirondack i...  "
      ]
     },
     "execution_count": 7,
     "metadata": {},
     "output_type": "execute_result"
    }
   ],
   "source": [
    "# clean the event description\n",
    "stopwords = corpus.stopwords.words('english')\n",
    "CM_nonnull['GeneralDescCleaned'] = CM_nonnull.apply(lambda x: text_remove_numbers_stopwords(x['GeneralDesc'], stopwords),\n",
    "                                                    axis='columns')\n",
    "\n",
    "# set event description to be lowercase\n",
    "CM_nonnull['GeneralDescLower'] = CM_nonnull['GeneralDescCleaned'].str.lower()\n",
    "\n",
    "CM_nonnull.head(5)"
   ]
  },
  {
   "cell_type": "markdown",
   "metadata": {},
   "source": [
    "Finally, we would like to have our response be a binary value: whether the asset relates to inverters or not. We can use the `remappings_asset.csv` file to help us with this."
   ]
  },
  {
   "cell_type": "code",
   "execution_count": 8,
   "metadata": {},
   "outputs": [
    {
     "data": {
      "text/html": [
       "<div>\n",
       "<style scoped>\n",
       "    .dataframe tbody tr th:only-of-type {\n",
       "        vertical-align: middle;\n",
       "    }\n",
       "\n",
       "    .dataframe tbody tr th {\n",
       "        vertical-align: top;\n",
       "    }\n",
       "\n",
       "    .dataframe thead th {\n",
       "        text-align: right;\n",
       "    }\n",
       "</style>\n",
       "<table border=\"1\" class=\"dataframe\">\n",
       "  <thead>\n",
       "    <tr style=\"text-align: right;\">\n",
       "      <th></th>\n",
       "      <th>in</th>\n",
       "      <th>out_</th>\n",
       "    </tr>\n",
       "  </thead>\n",
       "  <tbody>\n",
       "    <tr>\n",
       "      <th>44</th>\n",
       "      <td>Point of Interconnection</td>\n",
       "      <td>other</td>\n",
       "    </tr>\n",
       "    <tr>\n",
       "      <th>45</th>\n",
       "      <td>Racking/Trackers</td>\n",
       "      <td>tracker</td>\n",
       "    </tr>\n",
       "    <tr>\n",
       "      <th>46</th>\n",
       "      <td>Rooftop PV System</td>\n",
       "      <td>other</td>\n",
       "    </tr>\n",
       "    <tr>\n",
       "      <th>47</th>\n",
       "      <td>Site</td>\n",
       "      <td>other</td>\n",
       "    </tr>\n",
       "    <tr>\n",
       "      <th>48</th>\n",
       "      <td>String</td>\n",
       "      <td>other</td>\n",
       "    </tr>\n",
       "    <tr>\n",
       "      <th>49</th>\n",
       "      <td>String Inverter</td>\n",
       "      <td>inverter</td>\n",
       "    </tr>\n",
       "    <tr>\n",
       "      <th>50</th>\n",
       "      <td>Subarray</td>\n",
       "      <td>other</td>\n",
       "    </tr>\n",
       "    <tr>\n",
       "      <th>51</th>\n",
       "      <td>Summary</td>\n",
       "      <td>other</td>\n",
       "    </tr>\n",
       "    <tr>\n",
       "      <th>52</th>\n",
       "      <td>Tracker control unit</td>\n",
       "      <td>tracker</td>\n",
       "    </tr>\n",
       "    <tr>\n",
       "      <th>53</th>\n",
       "      <td>Tracking System</td>\n",
       "      <td>tracker</td>\n",
       "    </tr>\n",
       "  </tbody>\n",
       "</table>\n",
       "</div>"
      ],
      "text/plain": [
       "                          in      out_\n",
       "44  Point of Interconnection     other\n",
       "45          Racking/Trackers   tracker\n",
       "46         Rooftop PV System     other\n",
       "47                      Site     other\n",
       "48                    String     other\n",
       "49           String Inverter  inverter\n",
       "50                  Subarray     other\n",
       "51                   Summary     other\n",
       "52      Tracker control unit   tracker\n",
       "53           Tracking System   tracker"
      ]
     },
     "execution_count": 8,
     "metadata": {},
     "output_type": "execute_result"
    }
   ],
   "source": [
    "remappings_df = pd.read_csv('example_data/remappings_asset.csv')\n",
    "remappings_df[-10:] # end of the dataframe is more clear on what it is doing"
   ]
  },
  {
   "cell_type": "markdown",
   "metadata": {},
   "source": [
    "All we need to do is put together a dictionary that will let us map the asset in our dataframe to a more general asset description."
   ]
  },
  {
   "cell_type": "code",
   "execution_count": 9,
   "metadata": {},
   "outputs": [],
   "source": [
    "remapping_dict = {row['in'].lower() : row['out_'].lower() for _, row in remappings_df.iterrows()}\n",
    "CM_nonnull['SimpleAsset'] = CM_nonnull['Asset'].apply(lambda x : remapping_dict[x.lower()])\n",
    "\n",
    "# define our x as the general event description, and y as whether the asset is related to inverters\n",
    "x = CM_nonnull['GeneralDescLower']\n",
    "y = CM_nonnull['SimpleAsset'] == 'inverter'"
   ]
  },
  {
   "cell_type": "markdown",
   "metadata": {},
   "source": [
    "### Model training and selection"
   ]
  },
  {
   "cell_type": "markdown",
   "metadata": {},
   "source": [
    "Now, it's time to begin the model training. First, we need to turn our `x` into numerical data, which we can do via tf-idf vectorization. We'd like our vectorization to include the entire corpus of our event descriptions, even those where the asset is null. This is so we can use our exact same pipeline to predict the missing asset labels in the final step."
   ]
  },
  {
   "cell_type": "code",
   "execution_count": 10,
   "metadata": {},
   "outputs": [],
   "source": [
    "# fit the tf-idf vectorizer on the whole corpus, including the rows w/o asset that we plan to gapfill using our model\n",
    "all_descr = CM_df.dropna(subset='GeneralDesc')['GeneralDesc']\n",
    "all_descr = all_descr.str.lower().astype('str')\n",
    "vectorizer = TfidfVectorizer(min_df=1, stop_words=stopwords, ngram_range=(1,2), sublinear_tf=True)\n",
    "vectorizer.fit(all_descr);"
   ]
  },
  {
   "cell_type": "markdown",
   "metadata": {},
   "source": [
    "Now, we can fit models across various parameters using the `classification_deployer()` function from `pvops.text.classify`. All we need to do is define our pipeline, our models, our parameters, and our scoring function.\n",
    "\n",
    "The pipeline and scoring function are easy enough. We can get a good set of model parameters to search over from `pvops.text.defaults`, as shown below:"
   ]
  },
  {
   "cell_type": "code",
   "execution_count": 11,
   "metadata": {},
   "outputs": [],
   "source": [
    "# first do vectorization, then classification\n",
    "pipeline_steps = [('tfidf', vectorizer),\n",
    "                  ('clf', None)]\n",
    "\n",
    "# basic accuracy score metric\n",
    "scorer = make_scorer(accuracy_score)\n",
    "\n",
    "# models that we will use\n",
    "model_names = ['LinearSVC', 'LogisticRegression', 'PassiveAggressiveClassifier']\n",
    "\n",
    "# get the default parameter grid from pvops for these models\n",
    "(params, model_instances) = supervised_classifier_defs('detailed')\n",
    "classifiers = {model_name : model_instances[model_name] for model_name in model_names}\n",
    "param_grid = {model_name : params[model_name] for model_name in model_names}"
   ]
  },
  {
   "cell_type": "markdown",
   "metadata": {},
   "source": [
    "We can see below what our resulting `classifiers` and `param_grid` variables look like:"
   ]
  },
  {
   "cell_type": "code",
   "execution_count": 12,
   "metadata": {},
   "outputs": [
    {
     "name": "stdout",
     "output_type": "stream",
     "text": [
      "{'LinearSVC': LinearSVC(), 'LogisticRegression': LogisticRegression(), 'PassiveAggressiveClassifier': PassiveAggressiveClassifier()}\n"
     ]
    },
    {
     "data": {
      "text/plain": [
       "{'LinearSVC': {'clf__C': [0.01, 0.1, 1, 10.0, 100.0, 1000.0],\n",
       "  'clf__max_iter': [800, 1000, 1200, 1500, 2000]},\n",
       " 'LogisticRegression': {'clf__solver': ['newton-cg', 'lbfgs', 'sag'],\n",
       "  'clf__C': array([1.00000000e+00, 2.78255940e+00, 7.74263683e+00, 2.15443469e+01,\n",
       "         5.99484250e+01, 1.66810054e+02, 4.64158883e+02, 1.29154967e+03,\n",
       "         3.59381366e+03, 1.00000000e+04])},\n",
       " 'PassiveAggressiveClassifier': {'clf__C': [0.001, 0.01, 0.1, 1.0],\n",
       "  'clf__loss': ['hinge', 'squared_hinge']}}"
      ]
     },
     "execution_count": 12,
     "metadata": {},
     "output_type": "execute_result"
    }
   ],
   "source": [
    "print(classifiers)\n",
    "param_grid"
   ]
  },
  {
   "cell_type": "markdown",
   "metadata": {},
   "source": [
    "Finally, all we need to do is pass everything into `classification_deployer()`:"
   ]
  },
  {
   "cell_type": "code",
   "execution_count": 13,
   "metadata": {},
   "outputs": [
    {
     "name": "stdout",
     "output_type": "stream",
     "text": [
      "Fitting 5 folds for each of 30 candidates, totalling 150 fits\n",
      "Better score (0.894) found on classifier: LinearSVC\n",
      "Fitting 5 folds for each of 30 candidates, totalling 150 fits\n",
      "Fitting 5 folds for each of 8 candidates, totalling 40 fits\n",
      "Better score (0.902) found on classifier: PassiveAggressiveClassifier\n"
     ]
    }
   ],
   "source": [
    "(summary_table, best_model, _) = classification_deployer(x, y,\n",
    "                                                            n_splits=5,\n",
    "                                                            classifiers=classifiers,\n",
    "                                                            search_space=param_grid,\n",
    "                                                            pipeline_steps=pipeline_steps,\n",
    "                                                            scoring=scorer)"
   ]
  },
  {
   "cell_type": "markdown",
   "metadata": {},
   "source": [
    "And below, we can see a summary of how the models performed."
   ]
  },
  {
   "cell_type": "code",
   "execution_count": 14,
   "metadata": {},
   "outputs": [
    {
     "data": {
      "text/html": [
       "<div>\n",
       "<style scoped>\n",
       "    .dataframe tbody tr th:only-of-type {\n",
       "        vertical-align: middle;\n",
       "    }\n",
       "\n",
       "    .dataframe tbody tr th {\n",
       "        vertical-align: top;\n",
       "    }\n",
       "\n",
       "    .dataframe thead th {\n",
       "        text-align: right;\n",
       "    }\n",
       "</style>\n",
       "<table border=\"1\" class=\"dataframe\">\n",
       "  <thead>\n",
       "    <tr style=\"text-align: right;\">\n",
       "      <th></th>\n",
       "      <th>clf__C</th>\n",
       "      <th>clf__max_iter</th>\n",
       "      <th>mean_fit_time</th>\n",
       "      <th>estimator</th>\n",
       "      <th>min_score</th>\n",
       "      <th>max_score</th>\n",
       "      <th>mean_score</th>\n",
       "      <th>std_score</th>\n",
       "      <th>clf__solver</th>\n",
       "      <th>clf__loss</th>\n",
       "    </tr>\n",
       "  </thead>\n",
       "  <tbody>\n",
       "    <tr>\n",
       "      <th>62</th>\n",
       "      <td>0.01</td>\n",
       "      <td>NaN</td>\n",
       "      <td>0.118527</td>\n",
       "      <td>PassiveAggressiveClassifier</td>\n",
       "      <td>0.869565</td>\n",
       "      <td>0.956522</td>\n",
       "      <td>0.902361</td>\n",
       "      <td>0.030812</td>\n",
       "      <td>NaN</td>\n",
       "      <td>hinge</td>\n",
       "    </tr>\n",
       "    <tr>\n",
       "      <th>11</th>\n",
       "      <td>1</td>\n",
       "      <td>1000</td>\n",
       "      <td>0.111411</td>\n",
       "      <td>LinearSVC</td>\n",
       "      <td>0.858696</td>\n",
       "      <td>0.956522</td>\n",
       "      <td>0.893712</td>\n",
       "      <td>0.033946</td>\n",
       "      <td>NaN</td>\n",
       "      <td>NaN</td>\n",
       "    </tr>\n",
       "    <tr>\n",
       "      <th>14</th>\n",
       "      <td>1</td>\n",
       "      <td>2000</td>\n",
       "      <td>0.082835</td>\n",
       "      <td>LinearSVC</td>\n",
       "      <td>0.858696</td>\n",
       "      <td>0.956522</td>\n",
       "      <td>0.893712</td>\n",
       "      <td>0.033946</td>\n",
       "      <td>NaN</td>\n",
       "      <td>NaN</td>\n",
       "    </tr>\n",
       "    <tr>\n",
       "      <th>13</th>\n",
       "      <td>1</td>\n",
       "      <td>1500</td>\n",
       "      <td>0.088053</td>\n",
       "      <td>LinearSVC</td>\n",
       "      <td>0.858696</td>\n",
       "      <td>0.956522</td>\n",
       "      <td>0.893712</td>\n",
       "      <td>0.033946</td>\n",
       "      <td>NaN</td>\n",
       "      <td>NaN</td>\n",
       "    </tr>\n",
       "    <tr>\n",
       "      <th>12</th>\n",
       "      <td>1</td>\n",
       "      <td>1200</td>\n",
       "      <td>0.070389</td>\n",
       "      <td>LinearSVC</td>\n",
       "      <td>0.858696</td>\n",
       "      <td>0.956522</td>\n",
       "      <td>0.893712</td>\n",
       "      <td>0.033946</td>\n",
       "      <td>NaN</td>\n",
       "      <td>NaN</td>\n",
       "    </tr>\n",
       "    <tr>\n",
       "      <th>10</th>\n",
       "      <td>1</td>\n",
       "      <td>800</td>\n",
       "      <td>0.083629</td>\n",
       "      <td>LinearSVC</td>\n",
       "      <td>0.858696</td>\n",
       "      <td>0.956522</td>\n",
       "      <td>0.893712</td>\n",
       "      <td>0.033946</td>\n",
       "      <td>NaN</td>\n",
       "      <td>NaN</td>\n",
       "    </tr>\n",
       "    <tr>\n",
       "      <th>51</th>\n",
       "      <td>1291.549665</td>\n",
       "      <td>NaN</td>\n",
       "      <td>0.120467</td>\n",
       "      <td>LogisticRegression</td>\n",
       "      <td>0.847826</td>\n",
       "      <td>0.956522</td>\n",
       "      <td>0.891585</td>\n",
       "      <td>0.03686</td>\n",
       "      <td>newton-cg</td>\n",
       "      <td>NaN</td>\n",
       "    </tr>\n",
       "    <tr>\n",
       "      <th>45</th>\n",
       "      <td>166.810054</td>\n",
       "      <td>NaN</td>\n",
       "      <td>0.120091</td>\n",
       "      <td>LogisticRegression</td>\n",
       "      <td>0.847826</td>\n",
       "      <td>0.956522</td>\n",
       "      <td>0.891561</td>\n",
       "      <td>0.036948</td>\n",
       "      <td>newton-cg</td>\n",
       "      <td>NaN</td>\n",
       "    </tr>\n",
       "    <tr>\n",
       "      <th>48</th>\n",
       "      <td>464.158883</td>\n",
       "      <td>NaN</td>\n",
       "      <td>0.120651</td>\n",
       "      <td>LogisticRegression</td>\n",
       "      <td>0.847826</td>\n",
       "      <td>0.956522</td>\n",
       "      <td>0.891561</td>\n",
       "      <td>0.035646</td>\n",
       "      <td>newton-cg</td>\n",
       "      <td>NaN</td>\n",
       "    </tr>\n",
       "    <tr>\n",
       "      <th>61</th>\n",
       "      <td>0.001</td>\n",
       "      <td>NaN</td>\n",
       "      <td>0.15885</td>\n",
       "      <td>PassiveAggressiveClassifier</td>\n",
       "      <td>0.858696</td>\n",
       "      <td>0.934783</td>\n",
       "      <td>0.891561</td>\n",
       "      <td>0.025618</td>\n",
       "      <td>NaN</td>\n",
       "      <td>squared_hinge</td>\n",
       "    </tr>\n",
       "  </tbody>\n",
       "</table>\n",
       "</div>"
      ],
      "text/plain": [
       "         clf__C clf__max_iter mean_fit_time                    estimator  \\\n",
       "62         0.01           NaN      0.118527  PassiveAggressiveClassifier   \n",
       "11            1          1000      0.111411                    LinearSVC   \n",
       "14            1          2000      0.082835                    LinearSVC   \n",
       "13            1          1500      0.088053                    LinearSVC   \n",
       "12            1          1200      0.070389                    LinearSVC   \n",
       "10            1           800      0.083629                    LinearSVC   \n",
       "51  1291.549665           NaN      0.120467           LogisticRegression   \n",
       "45   166.810054           NaN      0.120091           LogisticRegression   \n",
       "48   464.158883           NaN      0.120651           LogisticRegression   \n",
       "61        0.001           NaN       0.15885  PassiveAggressiveClassifier   \n",
       "\n",
       "   min_score max_score mean_score std_score clf__solver      clf__loss  \n",
       "62  0.869565  0.956522   0.902361  0.030812         NaN          hinge  \n",
       "11  0.858696  0.956522   0.893712  0.033946         NaN            NaN  \n",
       "14  0.858696  0.956522   0.893712  0.033946         NaN            NaN  \n",
       "13  0.858696  0.956522   0.893712  0.033946         NaN            NaN  \n",
       "12  0.858696  0.956522   0.893712  0.033946         NaN            NaN  \n",
       "10  0.858696  0.956522   0.893712  0.033946         NaN            NaN  \n",
       "51  0.847826  0.956522   0.891585   0.03686   newton-cg            NaN  \n",
       "45  0.847826  0.956522   0.891561  0.036948   newton-cg            NaN  \n",
       "48  0.847826  0.956522   0.891561  0.035646   newton-cg            NaN  \n",
       "61  0.858696  0.934783   0.891561  0.025618         NaN  squared_hinge  "
      ]
     },
     "execution_count": 14,
     "metadata": {},
     "output_type": "execute_result"
    }
   ],
   "source": [
    "sorted_table = summary_table.sort_values('mean_score').iloc[::-1].head(10)\n",
    "sorted_table"
   ]
  },
  {
   "cell_type": "markdown",
   "metadata": {},
   "source": [
    "So we got that a `PassiveAggressiveClassifier` did the best, although many models seemed to have performed about the same, around 90% accuracy. It could be argued then that the increased complexity of a `PassiveAggressiveClassifier` isn't worth the very small model improvement over the far simpler `LinearSVC` (a basic support vector machine).\n",
    "\n",
    "Note that our best-performing models did perform notably better than our naive approach, so we do gain something by using machine learning methods.\n",
    "\n",
    "`classification_deployer()` only returns the best model, but we can easily refit using just the parameters we want."
   ]
  },
  {
   "cell_type": "code",
   "execution_count": 15,
   "metadata": {},
   "outputs": [
    {
     "data": {
      "text/plain": [
       "({'LinearSVC': LinearSVC()},\n",
       " {'LinearSVC': {'clf__C': [1], 'clf__max_iter': [1000]}})"
      ]
     },
     "execution_count": 15,
     "metadata": {},
     "output_type": "execute_result"
    }
   ],
   "source": [
    "# get the row for the model we want to use\n",
    "model_row = sorted_table.iloc[1,:]\n",
    "\n",
    "# pull out the model name and parameters\n",
    "model_name = model_row['estimator']\n",
    "model_params = model_row[['clf__C', 'clf__max_iter']].to_dict()\n",
    "\n",
    "# parameter values have to be in a list, even if there is just one\n",
    "model_params = {param_name: [param_val] for param_name, param_val in model_params.items()}\n",
    "\n",
    "# get into the form used by classification_deployer()\n",
    "single_classifier = {model_name : model_instances[model_name]}\n",
    "single_param_grid = {model_name : model_params}\n",
    "single_classifier, single_param_grid"
   ]
  },
  {
   "cell_type": "markdown",
   "metadata": {},
   "source": [
    "Now that we have what we need, we can quickly rerun the fit and save the final model."
   ]
  },
  {
   "cell_type": "code",
   "execution_count": 16,
   "metadata": {},
   "outputs": [
    {
     "name": "stdout",
     "output_type": "stream",
     "text": [
      "Fitting 5 folds for each of 1 candidates, totalling 5 fits\n"
     ]
    },
    {
     "name": "stdout",
     "output_type": "stream",
     "text": [
      "Better score (0.894) found on classifier: LinearSVC\n"
     ]
    }
   ],
   "source": [
    "(_, final_model, _) = classification_deployer(x, y,\n",
    "                                                n_splits=5,\n",
    "                                                classifiers=single_classifier,\n",
    "                                                search_space=single_param_grid,\n",
    "                                                pipeline_steps=pipeline_steps,\n",
    "                                                scoring=scorer)"
   ]
  },
  {
   "cell_type": "markdown",
   "metadata": {},
   "source": [
    "### Gap-filling the asset using our final model"
   ]
  },
  {
   "cell_type": "markdown",
   "metadata": {},
   "source": [
    "Now, we can use our model to make predictions on the rows with a missing `Asset` (but with a `GeneralDesc`). First, we can pull out the data we need to feed into the model."
   ]
  },
  {
   "cell_type": "code",
   "execution_count": 17,
   "metadata": {},
   "outputs": [],
   "source": [
    "records_to_gapfill = CM_df[CM_df['Asset'].isnull()\n",
    "                           & ~CM_df['GeneralDesc'].isnull()].copy()\n",
    "# only need to keep around the GeneralDesc field\n",
    "records_to_gapfill = records_to_gapfill['GeneralDesc']"
   ]
  },
  {
   "cell_type": "markdown",
   "metadata": {},
   "source": [
    "Now, we follow the same cleaning procedure as before, and finally use our model to predict the asset."
   ]
  },
  {
   "cell_type": "code",
   "execution_count": 18,
   "metadata": {},
   "outputs": [],
   "source": [
    "records_to_gapfill = records_to_gapfill.apply(lambda x: text_remove_numbers_stopwords(x, stopwords))\n",
    "records_to_gapfill = records_to_gapfill.str.lower()\n",
    "pred_is_inverter = final_model.predict(records_to_gapfill)"
   ]
  },
  {
   "cell_type": "markdown",
   "metadata": {},
   "source": [
    "Now, we can use our prediction as a mask to pull out a list of indices where the asset is predicted to be an inverter."
   ]
  },
  {
   "cell_type": "code",
   "execution_count": 19,
   "metadata": {},
   "outputs": [
    {
     "data": {
      "text/plain": [
       "Index([2, 18, 93, 98, 124, 254, 304, 332, 342, 418, 426], dtype='int64')"
      ]
     },
     "execution_count": 19,
     "metadata": {},
     "output_type": "execute_result"
    }
   ],
   "source": [
    "pred_inverter_indices = records_to_gapfill.index[pred_is_inverter.astype(bool)]\n",
    "pred_inverter_indices"
   ]
  },
  {
   "cell_type": "markdown",
   "metadata": {},
   "source": [
    "We can also construct a mask for the datapoints without null values for the asset. By combining these two masks, we get a final set of inverter-related records that can be used for other analysis."
   ]
  },
  {
   "cell_type": "code",
   "execution_count": 20,
   "metadata": {},
   "outputs": [
    {
     "data": {
      "text/html": [
       "<div>\n",
       "<style scoped>\n",
       "    .dataframe tbody tr th:only-of-type {\n",
       "        vertical-align: middle;\n",
       "    }\n",
       "\n",
       "    .dataframe tbody tr th {\n",
       "        vertical-align: top;\n",
       "    }\n",
       "\n",
       "    .dataframe thead th {\n",
       "        text-align: right;\n",
       "    }\n",
       "</style>\n",
       "<table border=\"1\" class=\"dataframe\">\n",
       "  <thead>\n",
       "    <tr style=\"text-align: right;\">\n",
       "      <th></th>\n",
       "      <th>randid</th>\n",
       "      <th>WONumber</th>\n",
       "      <th>WOStatus</th>\n",
       "      <th>WOType</th>\n",
       "      <th>Date_EventStart</th>\n",
       "      <th>Date_EventEnd</th>\n",
       "      <th>GeneralDesc</th>\n",
       "      <th>CompletionDesc</th>\n",
       "      <th>ProductionImpact_kWh</th>\n",
       "      <th>WarrantyClaim</th>\n",
       "      <th>...</th>\n",
       "      <th>CompletionActivity</th>\n",
       "      <th>FailureCategories</th>\n",
       "      <th>ImpactLevel</th>\n",
       "      <th>WarrantyType</th>\n",
       "      <th>InsuranceClaim</th>\n",
       "      <th>LaborEffort_Hrs</th>\n",
       "      <th>Cause</th>\n",
       "      <th>OpEventID</th>\n",
       "      <th>states</th>\n",
       "      <th>Commissioning_Date</th>\n",
       "    </tr>\n",
       "  </thead>\n",
       "  <tbody>\n",
       "    <tr>\n",
       "      <th>0</th>\n",
       "      <td>C3S399</td>\n",
       "      <td>WO-0240712</td>\n",
       "      <td>Completed</td>\n",
       "      <td>Corrective</td>\n",
       "      <td>2018-12-31 07:25:00</td>\n",
       "      <td>2019-01-01 08:25:00</td>\n",
       "      <td>Saint Albans - String inverter 3-1-18 - Forced...</td>\n",
       "      <td>Issue self resolved on 01/01/19. TechDispatche...</td>\n",
       "      <td>NaN</td>\n",
       "      <td>No</td>\n",
       "      <td>...</td>\n",
       "      <td>14 - Self Resolved</td>\n",
       "      <td>Failure Class 5 - combiner(s) off-line</td>\n",
       "      <td>Underperformance</td>\n",
       "      <td>NaN</td>\n",
       "      <td>NaN</td>\n",
       "      <td>0.0000</td>\n",
       "      <td>019 - Unplanned outage/derate.</td>\n",
       "      <td>OE-13999474</td>\n",
       "      <td>VT</td>\n",
       "      <td>2018-09-21</td>\n",
       "    </tr>\n",
       "    <tr>\n",
       "      <th>1</th>\n",
       "      <td>C3S177</td>\n",
       "      <td>WO-00007036</td>\n",
       "      <td>Closed</td>\n",
       "      <td>Corrective Maintenance</td>\n",
       "      <td>2017-10-16 10:40:00</td>\n",
       "      <td>2017-10-17 10:01:00</td>\n",
       "      <td>Mod 1.7 offline Update 10/16: Alarm on AlsoEne...</td>\n",
       "      <td>Upon arrival I was greeted by autumn landis wi...</td>\n",
       "      <td>NaN</td>\n",
       "      <td>NaN</td>\n",
       "      <td>...</td>\n",
       "      <td>Other</td>\n",
       "      <td>Production Outage</td>\n",
       "      <td>Production Outage</td>\n",
       "      <td>NaN</td>\n",
       "      <td>NaN</td>\n",
       "      <td>0.7956</td>\n",
       "      <td>NaN</td>\n",
       "      <td>NaN</td>\n",
       "      <td>NC</td>\n",
       "      <td>2017-07-20</td>\n",
       "    </tr>\n",
       "    <tr>\n",
       "      <th>5</th>\n",
       "      <td>C3S289</td>\n",
       "      <td>WO-1068074</td>\n",
       "      <td>Completed</td>\n",
       "      <td>Corrective</td>\n",
       "      <td>NaN</td>\n",
       "      <td>NaN</td>\n",
       "      <td>Adirondack - Inverter 3.10 - Forced Outage. 7/...</td>\n",
       "      <td>7/18/2019 Tim Chaput - Verified tripped AC bre...</td>\n",
       "      <td>NaN</td>\n",
       "      <td>NaN</td>\n",
       "      <td>...</td>\n",
       "      <td>01 - Replace</td>\n",
       "      <td>Failure Class 3 - single inverter off-line</td>\n",
       "      <td>Underperformance</td>\n",
       "      <td>NaN</td>\n",
       "      <td>NaN</td>\n",
       "      <td>7.6500</td>\n",
       "      <td>010 - Over temperature</td>\n",
       "      <td>NaN</td>\n",
       "      <td>NY</td>\n",
       "      <td>2018-07-25</td>\n",
       "    </tr>\n",
       "    <tr>\n",
       "      <th>7</th>\n",
       "      <td>C5S153</td>\n",
       "      <td>5921</td>\n",
       "      <td>Closed</td>\n",
       "      <td>Corrective</td>\n",
       "      <td>2018-11-02 14:25:23</td>\n",
       "      <td>2018-11-05 18:30:39</td>\n",
       "      <td>McKenzie - Inverter C2 - Offline (Hurricane Fl...</td>\n",
       "      <td>S. Hanrahan 2018-11-02 10:26\\nInverter is offl...</td>\n",
       "      <td>NaN</td>\n",
       "      <td>NaN</td>\n",
       "      <td>...</td>\n",
       "      <td>NaN</td>\n",
       "      <td>AC Issues</td>\n",
       "      <td>Underperformance</td>\n",
       "      <td>NaN</td>\n",
       "      <td>NaN</td>\n",
       "      <td>7.5000</td>\n",
       "      <td>NaN</td>\n",
       "      <td>NaN</td>\n",
       "      <td>NC</td>\n",
       "      <td>2013-12-23</td>\n",
       "    </tr>\n",
       "    <tr>\n",
       "      <th>8</th>\n",
       "      <td>C3S66</td>\n",
       "      <td>WO-1070705</td>\n",
       "      <td>Completed</td>\n",
       "      <td>Corrective</td>\n",
       "      <td>NaN</td>\n",
       "      <td>NaN</td>\n",
       "      <td>IS 46 - Inv W_B3_1 - SMPS Fail Alarm. 8-Nov SC...</td>\n",
       "      <td>11/11: Inspection shows no issues with the inv...</td>\n",
       "      <td>NaN</td>\n",
       "      <td>NaN</td>\n",
       "      <td>...</td>\n",
       "      <td>09 - Inspection</td>\n",
       "      <td>Failure Class 10 - equipment not off-line, no ...</td>\n",
       "      <td>Underperformance</td>\n",
       "      <td>NaN</td>\n",
       "      <td>NaN</td>\n",
       "      <td>2.0000</td>\n",
       "      <td>0000 - Unknown</td>\n",
       "      <td>NaN</td>\n",
       "      <td>NC</td>\n",
       "      <td>2016-12-15</td>\n",
       "    </tr>\n",
       "    <tr>\n",
       "      <th>...</th>\n",
       "      <td>...</td>\n",
       "      <td>...</td>\n",
       "      <td>...</td>\n",
       "      <td>...</td>\n",
       "      <td>...</td>\n",
       "      <td>...</td>\n",
       "      <td>...</td>\n",
       "      <td>...</td>\n",
       "      <td>...</td>\n",
       "      <td>...</td>\n",
       "      <td>...</td>\n",
       "      <td>...</td>\n",
       "      <td>...</td>\n",
       "      <td>...</td>\n",
       "      <td>...</td>\n",
       "      <td>...</td>\n",
       "      <td>...</td>\n",
       "      <td>...</td>\n",
       "      <td>...</td>\n",
       "      <td>...</td>\n",
       "      <td>...</td>\n",
       "    </tr>\n",
       "    <tr>\n",
       "      <th>304</th>\n",
       "      <td>C1S72</td>\n",
       "      <td>T3-963</td>\n",
       "      <td>Resolved</td>\n",
       "      <td>Corrective</td>\n",
       "      <td>2018-08-13</td>\n",
       "      <td>NaN</td>\n",
       "      <td>8/13  14kW inverter stopped producing with fau...</td>\n",
       "      <td>8/16 Ben found 30A fuse in disconnect blown.  ...</td>\n",
       "      <td>NaN</td>\n",
       "      <td>NaN</td>\n",
       "      <td>...</td>\n",
       "      <td>NaN</td>\n",
       "      <td>NaN</td>\n",
       "      <td>NaN</td>\n",
       "      <td>NaN</td>\n",
       "      <td>NaN</td>\n",
       "      <td>NaN</td>\n",
       "      <td>NaN</td>\n",
       "      <td>NaN</td>\n",
       "      <td>HI</td>\n",
       "      <td>2015-03-05</td>\n",
       "    </tr>\n",
       "    <tr>\n",
       "      <th>332</th>\n",
       "      <td>C3S43</td>\n",
       "      <td>WO-00003900</td>\n",
       "      <td>Closed</td>\n",
       "      <td>Corrective Maintenance</td>\n",
       "      <td>2017-05-05</td>\n",
       "      <td>2017-05-09 18:15:00</td>\n",
       "      <td>Inverter 5 Faulted State = 0x5500: Stop due to...</td>\n",
       "      <td>Inverter came back online 05/09.</td>\n",
       "      <td>NaN</td>\n",
       "      <td>NaN</td>\n",
       "      <td>...</td>\n",
       "      <td>NaN</td>\n",
       "      <td>NaN</td>\n",
       "      <td>NaN</td>\n",
       "      <td>NaN</td>\n",
       "      <td>NaN</td>\n",
       "      <td>0.0000</td>\n",
       "      <td>NaN</td>\n",
       "      <td>NaN</td>\n",
       "      <td>MN</td>\n",
       "      <td>2016-12-15</td>\n",
       "    </tr>\n",
       "    <tr>\n",
       "      <th>342</th>\n",
       "      <td>C2S130</td>\n",
       "      <td>16_001439</td>\n",
       "      <td>Closed</td>\n",
       "      <td>Corrective</td>\n",
       "      <td>2015-06-12 17:10:00</td>\n",
       "      <td>2015-06-13 09:25:00</td>\n",
       "      <td>Plant offline due to grid disturbance</td>\n",
       "      <td>Reclose. Hardware Replaced:</td>\n",
       "      <td>3136.0</td>\n",
       "      <td>No</td>\n",
       "      <td>...</td>\n",
       "      <td>Reclose</td>\n",
       "      <td>Grid-induced Failure/Suspension</td>\n",
       "      <td>Full</td>\n",
       "      <td>NaN</td>\n",
       "      <td>NaN</td>\n",
       "      <td>NaN</td>\n",
       "      <td>NaN</td>\n",
       "      <td>NaN</td>\n",
       "      <td>CA</td>\n",
       "      <td>2014-07-10</td>\n",
       "    </tr>\n",
       "    <tr>\n",
       "      <th>418</th>\n",
       "      <td>C3S311</td>\n",
       "      <td>WO-00003541</td>\n",
       "      <td>Closed</td>\n",
       "      <td>Corrective Maintenance</td>\n",
       "      <td>2017-04-17</td>\n",
       "      <td>2017-04-17 13:40:00</td>\n",
       "      <td>Inverter is down and not communicating.. 6422</td>\n",
       "      <td>Power cycled inverter 1.</td>\n",
       "      <td>NaN</td>\n",
       "      <td>NaN</td>\n",
       "      <td>...</td>\n",
       "      <td>NaN</td>\n",
       "      <td>NaN</td>\n",
       "      <td>NaN</td>\n",
       "      <td>NaN</td>\n",
       "      <td>NaN</td>\n",
       "      <td>0.0000</td>\n",
       "      <td>NaN</td>\n",
       "      <td>NaN</td>\n",
       "      <td>OR</td>\n",
       "      <td>2016-10-12</td>\n",
       "    </tr>\n",
       "    <tr>\n",
       "      <th>426</th>\n",
       "      <td>C2S106</td>\n",
       "      <td>17_015858</td>\n",
       "      <td>Closed</td>\n",
       "      <td>Corrective</td>\n",
       "      <td>2017-06-16 14:50:00</td>\n",
       "      <td>2017-06-17 14:30:00</td>\n",
       "      <td>Plant trip due to VCM fault</td>\n",
       "      <td>Reclose. Hardware Replaced:</td>\n",
       "      <td>170957.0</td>\n",
       "      <td>Yes - Equipment</td>\n",
       "      <td>...</td>\n",
       "      <td>Reclose</td>\n",
       "      <td>Hardware Malfunction</td>\n",
       "      <td>Full</td>\n",
       "      <td>NaN</td>\n",
       "      <td>NaN</td>\n",
       "      <td>NaN</td>\n",
       "      <td>NaN</td>\n",
       "      <td>NaN</td>\n",
       "      <td>CA</td>\n",
       "      <td>2015-10-30</td>\n",
       "    </tr>\n",
       "  </tbody>\n",
       "</table>\n",
       "<p>176 rows × 25 columns</p>\n",
       "</div>"
      ],
      "text/plain": [
       "     randid     WONumber   WOStatus                  WOType  \\\n",
       "0    C3S399   WO-0240712  Completed              Corrective   \n",
       "1    C3S177  WO-00007036     Closed  Corrective Maintenance   \n",
       "5    C3S289   WO-1068074  Completed              Corrective   \n",
       "7    C5S153         5921     Closed              Corrective   \n",
       "8     C3S66   WO-1070705  Completed              Corrective   \n",
       "..      ...          ...        ...                     ...   \n",
       "304   C1S72       T3-963   Resolved              Corrective   \n",
       "332   C3S43  WO-00003900     Closed  Corrective Maintenance   \n",
       "342  C2S130    16_001439     Closed              Corrective   \n",
       "418  C3S311  WO-00003541     Closed  Corrective Maintenance   \n",
       "426  C2S106    17_015858     Closed              Corrective   \n",
       "\n",
       "         Date_EventStart        Date_EventEnd  \\\n",
       "0    2018-12-31 07:25:00  2019-01-01 08:25:00   \n",
       "1    2017-10-16 10:40:00  2017-10-17 10:01:00   \n",
       "5                    NaN                  NaN   \n",
       "7    2018-11-02 14:25:23  2018-11-05 18:30:39   \n",
       "8                    NaN                  NaN   \n",
       "..                   ...                  ...   \n",
       "304           2018-08-13                  NaN   \n",
       "332           2017-05-05  2017-05-09 18:15:00   \n",
       "342  2015-06-12 17:10:00  2015-06-13 09:25:00   \n",
       "418           2017-04-17  2017-04-17 13:40:00   \n",
       "426  2017-06-16 14:50:00  2017-06-17 14:30:00   \n",
       "\n",
       "                                           GeneralDesc  \\\n",
       "0    Saint Albans - String inverter 3-1-18 - Forced...   \n",
       "1    Mod 1.7 offline Update 10/16: Alarm on AlsoEne...   \n",
       "5    Adirondack - Inverter 3.10 - Forced Outage. 7/...   \n",
       "7    McKenzie - Inverter C2 - Offline (Hurricane Fl...   \n",
       "8    IS 46 - Inv W_B3_1 - SMPS Fail Alarm. 8-Nov SC...   \n",
       "..                                                 ...   \n",
       "304  8/13  14kW inverter stopped producing with fau...   \n",
       "332  Inverter 5 Faulted State = 0x5500: Stop due to...   \n",
       "342              Plant offline due to grid disturbance   \n",
       "418      Inverter is down and not communicating.. 6422   \n",
       "426                        Plant trip due to VCM fault   \n",
       "\n",
       "                                        CompletionDesc  ProductionImpact_kWh  \\\n",
       "0    Issue self resolved on 01/01/19. TechDispatche...                   NaN   \n",
       "1    Upon arrival I was greeted by autumn landis wi...                   NaN   \n",
       "5    7/18/2019 Tim Chaput - Verified tripped AC bre...                   NaN   \n",
       "7    S. Hanrahan 2018-11-02 10:26\\nInverter is offl...                   NaN   \n",
       "8    11/11: Inspection shows no issues with the inv...                   NaN   \n",
       "..                                                 ...                   ...   \n",
       "304  8/16 Ben found 30A fuse in disconnect blown.  ...                   NaN   \n",
       "332                  Inverter came back online 05/09.                    NaN   \n",
       "342                       Reclose. Hardware Replaced:                 3136.0   \n",
       "418                          Power cycled inverter 1.                    NaN   \n",
       "426                       Reclose. Hardware Replaced:               170957.0   \n",
       "\n",
       "       WarrantyClaim  ...  CompletionActivity  \\\n",
       "0                 No  ...  14 - Self Resolved   \n",
       "1                NaN  ...               Other   \n",
       "5                NaN  ...        01 - Replace   \n",
       "7                NaN  ...                 NaN   \n",
       "8                NaN  ...     09 - Inspection   \n",
       "..               ...  ...                 ...   \n",
       "304              NaN  ...                 NaN   \n",
       "332              NaN  ...                 NaN   \n",
       "342               No  ...             Reclose   \n",
       "418              NaN  ...                 NaN   \n",
       "426  Yes - Equipment  ...             Reclose   \n",
       "\n",
       "                                     FailureCategories        ImpactLevel  \\\n",
       "0               Failure Class 5 - combiner(s) off-line   Underperformance   \n",
       "1                                    Production Outage  Production Outage   \n",
       "5           Failure Class 3 - single inverter off-line   Underperformance   \n",
       "7                                            AC Issues   Underperformance   \n",
       "8    Failure Class 10 - equipment not off-line, no ...   Underperformance   \n",
       "..                                                 ...                ...   \n",
       "304                                                NaN                NaN   \n",
       "332                                                NaN                NaN   \n",
       "342                    Grid-induced Failure/Suspension               Full   \n",
       "418                                                NaN                NaN   \n",
       "426                               Hardware Malfunction               Full   \n",
       "\n",
       "    WarrantyType InsuranceClaim LaborEffort_Hrs  \\\n",
       "0            NaN            NaN          0.0000   \n",
       "1            NaN            NaN          0.7956   \n",
       "5            NaN            NaN          7.6500   \n",
       "7            NaN            NaN          7.5000   \n",
       "8            NaN            NaN          2.0000   \n",
       "..           ...            ...             ...   \n",
       "304          NaN            NaN             NaN   \n",
       "332          NaN            NaN          0.0000   \n",
       "342          NaN            NaN             NaN   \n",
       "418          NaN            NaN          0.0000   \n",
       "426          NaN            NaN             NaN   \n",
       "\n",
       "                               Cause    OpEventID states Commissioning_Date  \n",
       "0    019 - Unplanned outage/derate.   OE-13999474     VT         2018-09-21  \n",
       "1                                NaN          NaN     NC         2017-07-20  \n",
       "5             010 - Over temperature          NaN     NY         2018-07-25  \n",
       "7                                NaN          NaN     NC         2013-12-23  \n",
       "8                     0000 - Unknown          NaN     NC         2016-12-15  \n",
       "..                               ...          ...    ...                ...  \n",
       "304                              NaN          NaN     HI         2015-03-05  \n",
       "332                              NaN          NaN     MN         2016-12-15  \n",
       "342                              NaN          NaN     CA         2014-07-10  \n",
       "418                              NaN          NaN     OR         2016-10-12  \n",
       "426                              NaN          NaN     CA         2015-10-30  \n",
       "\n",
       "[176 rows x 25 columns]"
      ]
     },
     "execution_count": 20,
     "metadata": {},
     "output_type": "execute_result"
    }
   ],
   "source": [
    "inverter_indices = CM_df.index[~CM_df['Asset'].isnull()\n",
    "                               & CM_df['Asset'].str.contains('Inverter')]\n",
    "inverter_indices = list(inverter_indices) + list(pred_inverter_indices)\n",
    "\n",
    "inverter_CM_df = CM_df.loc[inverter_indices, :]\n",
    "inverter_CM_df"
   ]
  },
  {
   "cell_type": "code",
   "execution_count": 21,
   "metadata": {},
   "outputs": [],
   "source": [
    "inverter_CM_df.to_csv('example_data/example_CM_inverter_records.csv', index=False)"
   ]
  }
 ],
 "metadata": {
  "kernelspec": {
   "display_name": "pvops",
   "language": "python",
   "name": "python3"
  },
  "language_info": {
   "codemirror_mode": {
    "name": "ipython",
    "version": 3
   },
   "file_extension": ".py",
   "mimetype": "text/x-python",
   "name": "python",
   "nbconvert_exporter": "python",
   "pygments_lexer": "ipython3",
   "version": "3.12.4"
  }
 },
 "nbformat": 4,
 "nbformat_minor": 2
}
