{
 "cells": [
  {
   "cell_type": "markdown",
   "metadata": {},
   "source": [
    "#### Survival analysis"
   ]
  },
  {
   "cell_type": "code",
   "execution_count": null,
   "metadata": {},
   "outputs": [],
   "source": [
    "!pip install scikit-survival"
   ]
  },
  {
   "cell_type": "code",
   "execution_count": 49,
   "metadata": {},
   "outputs": [],
   "source": [
    "from sksurv.nonparametric import kaplan_meier_estimator"
   ]
  },
  {
   "cell_type": "code",
   "execution_count": 58,
   "metadata": {},
   "outputs": [
    {
     "data": {
      "text/plain": [
       "Asset\n",
       "Inverter                    142\n",
       "Central Inverter             17\n",
       "Inverter/String Inverter      2\n",
       "String Inverter               1\n",
       "Inverter module               1\n",
       "Name: count, dtype: int64"
      ]
     },
     "execution_count": 58,
     "metadata": {},
     "output_type": "execute_result"
    }
   ],
   "source": [
    "CM_df['Asset'].value_counts()"
   ]
  },
  {
   "cell_type": "code",
   "execution_count": 51,
   "metadata": {},
   "outputs": [
    {
     "name": "stdout",
     "output_type": "stream",
     "text": [
      "Help on function kaplan_meier_estimator in module sksurv.nonparametric:\n",
      "\n",
      "kaplan_meier_estimator(event, time_exit, time_enter=None, time_min=None, reverse=False, conf_level=0.95, conf_type=None)\n",
      "    Kaplan-Meier estimator of survival function.\n",
      "    \n",
      "    See [1]_ for further description.\n",
      "    \n",
      "    Parameters\n",
      "    ----------\n",
      "    event : array-like, shape = (n_samples,)\n",
      "        Contains binary event indicators.\n",
      "    \n",
      "    time_exit : array-like, shape = (n_samples,)\n",
      "        Contains event/censoring times.\n",
      "    \n",
      "    time_enter : array-like, shape = (n_samples,), optional\n",
      "        Contains time when each individual entered the study for\n",
      "        left truncated survival data.\n",
      "    \n",
      "    time_min : float, optional\n",
      "        Compute estimator conditional on survival at least up to\n",
      "        the specified time.\n",
      "    \n",
      "    reverse : bool, optional, default: False\n",
      "        Whether to estimate the censoring distribution.\n",
      "        When there are ties between times at which events are observed,\n",
      "        then events come first and are subtracted from the denominator.\n",
      "        Only available for right-censored data, i.e. `time_enter` must\n",
      "        be None.\n",
      "    \n",
      "    conf_level : float, optional, default: 0.95\n",
      "        The level for a two-sided confidence interval on the survival curves.\n",
      "    \n",
      "    conf_type : None or {'log-log'}, optional, default: None.\n",
      "        The type of confidence intervals to estimate.\n",
      "        If `None`, no confidence intervals are estimated.\n",
      "        If \"log-log\", estimate confidence intervals using\n",
      "        the log hazard or :math:`log(-log(S(t)))` as described in [2]_.\n",
      "    \n",
      "    Returns\n",
      "    -------\n",
      "    time : array, shape = (n_times,)\n",
      "        Unique times.\n",
      "    \n",
      "    prob_survival : array, shape = (n_times,)\n",
      "        Survival probability at each unique time point.\n",
      "        If `time_enter` is provided, estimates are conditional probabilities.\n",
      "    \n",
      "    conf_int : array, shape = (2, n_times)\n",
      "        Pointwise confidence interval of the Kaplan-Meier estimator\n",
      "        at each unique time point.\n",
      "        Only provided if `conf_type` is not None.\n",
      "    \n",
      "    Examples\n",
      "    --------\n",
      "    Creating a Kaplan-Meier curve:\n",
      "    \n",
      "    >>> x, y, conf_int = kaplan_meier_estimator(event, time, conf_type=\"log-log\")\n",
      "    >>> plt.step(x, y, where=\"post\")\n",
      "    >>> plt.fill_between(x, conf_int[0], conf_int[1], alpha=0.25, step=\"post\")\n",
      "    >>> plt.ylim(0, 1)\n",
      "    >>> plt.show()\n",
      "    \n",
      "    See also\n",
      "    --------\n",
      "    sksurv.nonparametric.SurvivalFunctionEstimator\n",
      "        Estimator API of the Kaplan-Meier estimator.\n",
      "    \n",
      "    References\n",
      "    ----------\n",
      "    .. [1] Kaplan, E. L. and Meier, P., \"Nonparametric estimation from incomplete observations\",\n",
      "           Journal of The American Statistical Association, vol. 53, pp. 457-481, 1958.\n",
      "    .. [2] Borgan Ø. and Liestøl K., \"A Note on Confidence Intervals and Bands for the\n",
      "           Survival Function Based on Transformations\", Scandinavian Journal of\n",
      "           Statistics. 1990;17(1):35–41.\n",
      "\n"
     ]
    }
   ],
   "source": [
    "help(kaplan_meier_estimator)"
   ]
  }
 ],
 "metadata": {
  "kernelspec": {
   "display_name": "pvops_bare_with_tweaks",
   "language": "python",
   "name": "python3"
  },
  "language_info": {
   "codemirror_mode": {
    "name": "ipython",
    "version": 3
   },
   "file_extension": ".py",
   "mimetype": "text/x-python",
   "name": "python",
   "nbconvert_exporter": "python",
   "pygments_lexer": "ipython3",
   "version": "3.11.10"
  }
 },
 "nbformat": 4,
 "nbformat_minor": 2
}
