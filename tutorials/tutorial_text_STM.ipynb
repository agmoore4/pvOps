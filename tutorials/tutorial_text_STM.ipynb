{
 "cells": [
  {
   "cell_type": "code",
   "execution_count": 1,
   "metadata": {},
   "outputs": [],
   "source": [
    "import pandas as pd\n",
    "import numpy as np\n",
    "from pvops.text.preprocess import text_remove_numbers_stopwords\n",
    "from pvops.text.nlp_utils import create_stopwords\n",
    "# from nltk import corpus\n",
    "from nltk.tokenize import word_tokenize\n",
    "from gensim.models import LdaModel\n",
    "from gensim.models.coherencemodel import CoherenceModel\n",
    "import matplotlib.pyplot as plt\n",
    "from tqdm.notebook import tqdm\n",
    "# import pickle"
   ]
  },
  {
   "cell_type": "markdown",
   "metadata": {},
   "source": [
    "### Overview"
   ]
  },
  {
   "cell_type": "markdown",
   "metadata": {},
   "source": [
    "This notebook walks through how to use Subject Topic Modeling (STM) methods to analyze text data. STM methods aim to cluster documents and/or terms into \"topics\" to gain insight into the content of a set of documents.\n",
    "\n",
    "In particular, we will clean some data before performing Latent Dirichlet Allocation (LDA). blah blah"
   ]
  },
  {
   "cell_type": "markdown",
   "metadata": {},
   "source": [
    "### Read in and clean data"
   ]
  },
  {
   "cell_type": "markdown",
   "metadata": {},
   "source": [
    "Read in the asset-related inverter records. Make a combined `'FullDesc'` column that contains all the text data associated with that record."
   ]
  },
  {
   "cell_type": "code",
   "execution_count": null,
   "metadata": {},
   "outputs": [],
   "source": [
    "CM_df = pd.read_csv('example_data/example_ML_ticket_data.csv')\n",
    "CM_df['FullDesc'] = CM_df['GeneralDesc'].astype(str) + ' ' + CM_df['CompletionDesc'].astype(str)"
   ]
  },
  {
   "cell_type": "markdown",
   "metadata": {},
   "source": [
    "Drop the rows that don't have all the data we need. Then we can take a look at the dataframe."
   ]
  },
  {
   "cell_type": "code",
   "execution_count": 3,
   "metadata": {},
   "outputs": [
    {
     "data": {
      "text/html": [
       "<div>\n",
       "<style scoped>\n",
       "    .dataframe tbody tr th:only-of-type {\n",
       "        vertical-align: middle;\n",
       "    }\n",
       "\n",
       "    .dataframe tbody tr th {\n",
       "        vertical-align: top;\n",
       "    }\n",
       "\n",
       "    .dataframe thead th {\n",
       "        text-align: right;\n",
       "    }\n",
       "</style>\n",
       "<table border=\"1\" class=\"dataframe\">\n",
       "  <thead>\n",
       "    <tr style=\"text-align: right;\">\n",
       "      <th></th>\n",
       "      <th>randid</th>\n",
       "      <th>Date_EventStart_Consistent</th>\n",
       "      <th>Date_EventEnd_Consistent</th>\n",
       "      <th>GeneralDesc</th>\n",
       "      <th>CompletionDesc</th>\n",
       "      <th>Asset</th>\n",
       "      <th>states</th>\n",
       "      <th>Commissioning_Date</th>\n",
       "      <th>DC_Size_kW</th>\n",
       "      <th>AC_Size_kW</th>\n",
       "      <th>PlantType</th>\n",
       "      <th>ArrayType</th>\n",
       "      <th>InverterType</th>\n",
       "      <th>InverterOEM</th>\n",
       "      <th>FullDesc</th>\n",
       "    </tr>\n",
       "  </thead>\n",
       "  <tbody>\n",
       "    <tr>\n",
       "      <th>0</th>\n",
       "      <td>C2S54</td>\n",
       "      <td>2018-03-16 11:55:00</td>\n",
       "      <td>2018-03-29 13:40:00</td>\n",
       "      <td>Inverter underperforming due to unknown</td>\n",
       "      <td>Power Cycle. Hardware Replaced:</td>\n",
       "      <td>Inverter</td>\n",
       "      <td>CA</td>\n",
       "      <td>2012-07-23</td>\n",
       "      <td>181.0</td>\n",
       "      <td>250.0</td>\n",
       "      <td>Distributed Generation</td>\n",
       "      <td>NaN</td>\n",
       "      <td>central</td>\n",
       "      <td>NaN</td>\n",
       "      <td>Inverter underperforming due to unknown Power ...</td>\n",
       "    </tr>\n",
       "    <tr>\n",
       "      <th>1</th>\n",
       "      <td>C2S54</td>\n",
       "      <td>2017-09-22 14:40:00</td>\n",
       "      <td>2017-09-26 10:30:00</td>\n",
       "      <td>Inverter not producing due to Unknown</td>\n",
       "      <td>Field Wiring Repair. Hardware Replaced:</td>\n",
       "      <td>Inverter</td>\n",
       "      <td>CA</td>\n",
       "      <td>2012-07-23</td>\n",
       "      <td>181.0</td>\n",
       "      <td>250.0</td>\n",
       "      <td>Distributed Generation</td>\n",
       "      <td>NaN</td>\n",
       "      <td>central</td>\n",
       "      <td>NaN</td>\n",
       "      <td>Inverter not producing due to Unknown Field Wi...</td>\n",
       "    </tr>\n",
       "    <tr>\n",
       "      <th>2</th>\n",
       "      <td>C2S54</td>\n",
       "      <td>2017-02-01 08:00:00</td>\n",
       "      <td>2017-02-10 14:25:00</td>\n",
       "      <td>Inverter Faulted Due Hardware Malfunction</td>\n",
       "      <td>Power Cycle. Hardware Replaced:</td>\n",
       "      <td>Inverter</td>\n",
       "      <td>CA</td>\n",
       "      <td>2012-07-23</td>\n",
       "      <td>181.0</td>\n",
       "      <td>250.0</td>\n",
       "      <td>Distributed Generation</td>\n",
       "      <td>NaN</td>\n",
       "      <td>central</td>\n",
       "      <td>NaN</td>\n",
       "      <td>Inverter Faulted Due Hardware Malfunction Powe...</td>\n",
       "    </tr>\n",
       "    <tr>\n",
       "      <th>3</th>\n",
       "      <td>C3S300</td>\n",
       "      <td>2017-07-25 09:00:00</td>\n",
       "      <td>2017-07-25 15:01:00</td>\n",
       "      <td>All inverters not communcating but still produ...</td>\n",
       "      <td>SOLV remotely fixed comms.</td>\n",
       "      <td>Central Inverter</td>\n",
       "      <td>OR</td>\n",
       "      <td>2016-12-03</td>\n",
       "      <td>5891.0</td>\n",
       "      <td>6600.0</td>\n",
       "      <td>Utility-scale</td>\n",
       "      <td>Tracker</td>\n",
       "      <td>NaN</td>\n",
       "      <td>SMA America</td>\n",
       "      <td>All inverters not communcating but still produ...</td>\n",
       "    </tr>\n",
       "    <tr>\n",
       "      <th>4</th>\n",
       "      <td>C3S300</td>\n",
       "      <td>2018-06-04 09:00:00</td>\n",
       "      <td>2018-06-05 00:45:00</td>\n",
       "      <td>WO created for support on retrofit for SMA inv...</td>\n",
       "      <td>Displays replaced on all inverters on site.</td>\n",
       "      <td>Central Inverter</td>\n",
       "      <td>OR</td>\n",
       "      <td>2016-12-03</td>\n",
       "      <td>5891.0</td>\n",
       "      <td>6600.0</td>\n",
       "      <td>Utility-scale</td>\n",
       "      <td>Tracker</td>\n",
       "      <td>NaN</td>\n",
       "      <td>SMA America</td>\n",
       "      <td>WO created for support on retrofit for SMA inv...</td>\n",
       "    </tr>\n",
       "  </tbody>\n",
       "</table>\n",
       "</div>"
      ],
      "text/plain": [
       "   randid Date_EventStart_Consistent Date_EventEnd_Consistent  \\\n",
       "0   C2S54        2018-03-16 11:55:00      2018-03-29 13:40:00   \n",
       "1   C2S54        2017-09-22 14:40:00      2017-09-26 10:30:00   \n",
       "2   C2S54        2017-02-01 08:00:00      2017-02-10 14:25:00   \n",
       "3  C3S300        2017-07-25 09:00:00      2017-07-25 15:01:00   \n",
       "4  C3S300        2018-06-04 09:00:00      2018-06-05 00:45:00   \n",
       "\n",
       "                                         GeneralDesc  \\\n",
       "0            Inverter underperforming due to unknown   \n",
       "1              Inverter not producing due to Unknown   \n",
       "2          Inverter Faulted Due Hardware Malfunction   \n",
       "3  All inverters not communcating but still produ...   \n",
       "4  WO created for support on retrofit for SMA inv...   \n",
       "\n",
       "                                 CompletionDesc             Asset states  \\\n",
       "0              Power Cycle. Hardware Replaced:           Inverter     CA   \n",
       "1      Field Wiring Repair. Hardware Replaced:           Inverter     CA   \n",
       "2              Power Cycle. Hardware Replaced:           Inverter     CA   \n",
       "3                   SOLV remotely fixed comms.   Central Inverter     OR   \n",
       "4  Displays replaced on all inverters on site.   Central Inverter     OR   \n",
       "\n",
       "  Commissioning_Date  DC_Size_kW  AC_Size_kW               PlantType  \\\n",
       "0         2012-07-23       181.0       250.0  Distributed Generation   \n",
       "1         2012-07-23       181.0       250.0  Distributed Generation   \n",
       "2         2012-07-23       181.0       250.0  Distributed Generation   \n",
       "3         2016-12-03      5891.0      6600.0           Utility-scale   \n",
       "4         2016-12-03      5891.0      6600.0           Utility-scale   \n",
       "\n",
       "  ArrayType InverterType  InverterOEM  \\\n",
       "0       NaN      central          NaN   \n",
       "1       NaN      central          NaN   \n",
       "2       NaN      central          NaN   \n",
       "3   Tracker          NaN  SMA America   \n",
       "4   Tracker          NaN  SMA America   \n",
       "\n",
       "                                            FullDesc  \n",
       "0  Inverter underperforming due to unknown Power ...  \n",
       "1  Inverter not producing due to Unknown Field Wi...  \n",
       "2  Inverter Faulted Due Hardware Malfunction Powe...  \n",
       "3  All inverters not communcating but still produ...  \n",
       "4  WO created for support on retrofit for SMA inv...  "
      ]
     },
     "execution_count": 3,
     "metadata": {},
     "output_type": "execute_result"
    }
   ],
   "source": [
    "CM_nonnull_df = CM_df.dropna(subset=['Date_EventStart_Consistent', 'randid', 'states', 'Commissioning_Date']).copy()\n",
    "CM_nonnull_df.head(5)"
   ]
  },
  {
   "cell_type": "markdown",
   "metadata": {},
   "source": [
    "Clean up the description by shifting to lowercase, removing stopwords, tokenizing, and transforming to a bag-of-words representation."
   ]
  },
  {
   "cell_type": "code",
   "execution_count": 11,
   "metadata": {},
   "outputs": [],
   "source": [
    "import sys\n",
    "sys.path.append('../pvops/text')\n",
    "from preprocess import get_bag_of_words_with_corpus_dictionary\n",
    "\n",
    "# set to lowercase\n",
    "CM_nonnull_df['FullDescCleaned'] = CM_nonnull_df['FullDesc'].str.lower()\n",
    "\n",
    "# remove stopwords.\n",
    "# note text_remove_numbers_stopwords() removes numbers and punctuation in addition to nltk stopwords,\n",
    "# but doesn't include ';', so we add it below.\n",
    "stopwords = create_stopwords(lst_add_words=[';'])\n",
    "cleaning_func = lambda row : text_remove_numbers_stopwords(row['FullDescCleaned'], stopwords)\n",
    "CM_nonnull_df['FullDescCleaned'] = CM_nonnull_df.apply(cleaning_func, axis='columns')\n",
    "\n",
    "# tokenize and transform to bag-of-words\n",
    "CM_nonnull_df['FullDescTokenized'] = [word_tokenize(desc) for desc in (CM_nonnull_df['FullDescCleaned'])]\n",
    "bow_docs, dictionary = get_bag_of_words_with_corpus_dictionary(CM_nonnull_df['FullDescTokenized'])"
   ]
  },
  {
   "cell_type": "markdown",
   "metadata": {},
   "source": [
    "We can take a look at an example to see how the data is transformed:"
   ]
  },
  {
   "cell_type": "code",
   "execution_count": 41,
   "metadata": {},
   "outputs": [
    {
     "name": "stdout",
     "output_type": "stream",
     "text": [
      "Raw:\t\t\t Inverter underperforming due to unknown Power Cycle. Hardware Replaced: \n",
      "Cleaned, tokenized:\t ['inverter', 'underperforming', 'due', 'unknown', 'power', 'cycle', 'hardware', 'replaced']\n",
      "Bag-of-words:\t\t [(0, 1), (1, 1), (2, 1), (3, 1), (4, 1), (5, 1), (6, 1)]\n"
     ]
    }
   ],
   "source": [
    "print('Raw:\\t\\t\\t', CM_nonnull_df['FullDesc'][0])\n",
    "print('Cleaned, tokenized:\\t', CM_nonnull_df['FullDescTokenized'][0])\n",
    "print('Bag-of-words:\\t\\t', bow_docs[0])"
   ]
  },
  {
   "cell_type": "markdown",
   "metadata": {},
   "source": [
    "Now we can run Latend Dirichlet Allocation (LDA).\n",
    "\n",
    " and compute the coherence values.LDA is inherently random, so we run the process five times to get an idea of the spread across multiple iterations. It's also good to try several different numbers of topics to see what is most appropriate."
   ]
  },
  {
   "cell_type": "code",
   "execution_count": 62,
   "metadata": {},
   "outputs": [
    {
     "data": {
      "application/vnd.jupyter.widget-view+json": {
       "model_id": "7a1ee7fe90174149970045343e792afb",
       "version_major": 2,
       "version_minor": 0
      },
      "text/plain": [
       "Iterating through topic counts:   0%|          | 0/46 [00:00<?, ?it/s]"
      ]
     },
     "metadata": {},
     "output_type": "display_data"
    }
   ],
   "source": [
    "from nlp_utils import fit_lda\n",
    "\n",
    "num_iter = 10\n",
    "kvals = np.arange(5,51) # number of topics\n",
    "lda_models = {}\n",
    "coherence_values = {}\n",
    "\n",
    "for num_topics in tqdm(kvals, desc='Iterating through topic counts'):\n",
    "    result = fit_lda(dictionary, bow_docs, num_topics, num_iter=num_iter, random_state=num_topics*100)\n",
    "    lda_models[num_topics], coherence_values[num_topics] = result"
   ]
  },
  {
   "cell_type": "markdown",
   "metadata": {},
   "source": [
    "Below, we summarize the results in a plot with mean and standard deviation for each topic count:"
   ]
  },
  {
   "cell_type": "code",
   "execution_count": 64,
   "metadata": {},
   "outputs": [
    {
     "data": {
      "image/png": "[encoded data removed]",
      "text/plain": [
       "<Figure size 1000x500 with 1 Axes>"
      ]
     },
     "metadata": {},
     "output_type": "display_data"
    }
   ],
   "source": [
    "# Get the mean and standard deviation across multiple model runs\n",
    "mean_coherence = np.array([coherence_values[kval] for kval in kvals]).mean(axis=1)\n",
    "std_mean_coherence = np.array([coherence_values[kval] for kval in kvals]).std(axis=1)\n",
    "\n",
    "# Plot coherence values\n",
    "fig, ax = plt.subplots(figsize=(10,5))\n",
    "ax.errorbar(kvals, mean_coherence, std_mean_coherence, fmt='o', capsize=3)\n",
    "ax.set_xlabel('Number of topics')\n",
    "ax.set_ylabel('Coherence score')\n",
    "ax.set_xlim((min(kvals)-5, max(kvals)+5))\n",
    "ax.grid();"
   ]
  },
  {
   "cell_type": "markdown",
   "metadata": {},
   "source": [
    "From this information, we could select a smaller set of k-values to use for further analysis. We'll just go ahead and use all the ones we tried, since there weren't that many of them to begin with.\n",
    "<br><br>\n",
    "Once we're happy with our selection of k-values, we can rerun the model one more time (with a new seed) for each k and write to file."
   ]
  },
  {
   "cell_type": "code",
   "execution_count": null,
   "metadata": {},
   "outputs": [
    {
     "data": {
      "application/vnd.jupyter.widget-view+json": {
       "model_id": "24c3fd0a61774854852735d485536904",
       "version_major": 2,
       "version_minor": 0
      },
      "text/plain": [
       "  0%|          | 0/6 [00:00<?, ?it/s]"
      ]
     },
     "metadata": {},
     "output_type": "display_data"
    },
    {
     "name": "stdout",
     "output_type": "stream",
     "text": [
      "5 topics: 0.351\n",
      "10 topics: 0.415\n",
      "15 topics: 0.423\n",
      "20 topics: 0.423\n",
      "25 topics: 0.409\n",
      "30 topics: 0.385\n"
     ]
    }
   ],
   "source": [
    "for k, model, coherence in zip(kvals, models, coherences):\n",
    "    print(f'{k} topics: {coherence[0] :.3f}')\n",
    "    with open(f'fitted_models/stm_lda_model_k{k}.pkl', 'wb') as file:\n",
    "        pickle.dump(model[0], file)"
   ]
  },
  {
   "cell_type": "markdown",
   "metadata": {},
   "source": [
    "Finally, we also write our dictionary and dataframe with embeddings to file."
   ]
  },
  {
   "cell_type": "code",
   "execution_count": 16,
   "metadata": {},
   "outputs": [],
   "source": [
    "with open('fitted_models/corpus_dictionary.pkl', 'wb') as file:\n",
    "    pickle.dump(dictionary, file)\n",
    "\n",
    "CM_nonnull_df.to_csv('example_data/example_CM_inverter_records_with_embeddings.csv', index=False)"
   ]
  }
 ],
 "metadata": {
  "kernelspec": {
   "display_name": "pvops_bare_with_tweaks",
   "language": "python",
   "name": "python3"
  },
  "language_info": {
   "codemirror_mode": {
    "name": "ipython",
    "version": 3
   },
   "file_extension": ".py",
   "mimetype": "text/x-python",
   "name": "python",
   "nbconvert_exporter": "python",
   "pygments_lexer": "ipython3",
   "version": "3.11.10"
  }
 },
 "nbformat": 4,
 "nbformat_minor": 2
}
