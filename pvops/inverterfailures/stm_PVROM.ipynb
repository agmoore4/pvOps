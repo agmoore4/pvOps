{
 "cells": [
  {
   "cell_type": "code",
   "execution_count": 1,
   "metadata": {},
   "outputs": [],
   "source": [
    "import pandas as pd\n",
    "from pvops.text.preprocess import text_remove_numbers_stopwords\n",
    "from nltk import corpus\n",
    "from nltk.tokenize import word_tokenize\n",
    "from gensim import corpora\n",
    "from gensim.models import LdaModel\n",
    "from gensim.models.coherencemodel import CoherenceModel\n",
    "import matplotlib.pyplot as plt\n",
    "from tqdm.notebook import tqdm\n",
    "\n",
    "stopwords = corpus.stopwords.words('english')"
   ]
  },
  {
   "cell_type": "markdown",
   "metadata": {},
   "source": [
    "Read in the asset-related inverter records. Make a combined `'FullDesc'` column that contains all the text data associated with that record."
   ]
  },
  {
   "cell_type": "code",
   "execution_count": 2,
   "metadata": {},
   "outputs": [],
   "source": [
    "OM_df = pd.read_csv('inverter_OM_records.csv')\n",
    "OM_df['FullDesc'] = OM_df['GeneralDesc'].astype(str) + '; ' + OM_df['CompletionDesc'].astype(str)"
   ]
  },
  {
   "cell_type": "markdown",
   "metadata": {},
   "source": [
    "Drop the rows that don't have all the data we need. Also, only interested in the CM (corrective maintenance) records."
   ]
  },
  {
   "cell_type": "code",
   "execution_count": 3,
   "metadata": {},
   "outputs": [],
   "source": [
    "OM_nonnull_df = OM_df.dropna(subset=['Date_EventStart_Consistent', 'randid', 'states', 'Commissioning_Date', 'WOType'])\n",
    "OM_nonnull_df = OM_nonnull_df[OM_nonnull_df['WOType'].str.contains('Corrective')]"
   ]
  },
  {
   "cell_type": "markdown",
   "metadata": {},
   "source": [
    "Define a function to tokenize the text fields"
   ]
  },
  {
   "cell_type": "code",
   "execution_count": 4,
   "metadata": {},
   "outputs": [],
   "source": [
    "def prep_documents(documents, lower_thresh=0, verbose=True):\n",
    "    # Create a dictionary representation of the documents\n",
    "    dictionary = corpora.Dictionary(documents)\n",
    "    \n",
    "    # Filter out tokens that appear in less than `lower_thresh` documents\n",
    "    if lower_thresh > 0:\n",
    "        dictionary.filter_extremes(no_below=lower_thresh)\n",
    "    \n",
    "    # Convert documents to bag-of-words format\n",
    "    corpus = [dictionary.doc2bow(doc) for doc in documents]\n",
    "    \n",
    "    if verbose:\n",
    "        print(f\"Number of unique tokens: {len(dictionary)}\")\n",
    "        print(f\"Number of documents: {len(corpus)}\")\n",
    "    \n",
    "    return corpus, dictionary"
   ]
  },
  {
   "cell_type": "markdown",
   "metadata": {},
   "source": [
    "Clean up the description by shifting to lowercase, removing stopwords, tokenizing, and finally using the function above"
   ]
  },
  {
   "cell_type": "code",
   "execution_count": 5,
   "metadata": {},
   "outputs": [
    {
     "name": "stdout",
     "output_type": "stream",
     "text": [
      "Number of unique tokens: 8486\n",
      "Number of documents: 15411\n"
     ]
    }
   ],
   "source": [
    "# Process the documents\n",
    "OM_nonnull_df['FullDescCleaned'] = OM_nonnull_df['FullDesc'].str.lower()\n",
    "OM_nonnull_df['FullDescCleaned'] = OM_nonnull_df.apply(lambda x : text_remove_numbers_stopwords(x['FullDescCleaned'],\n",
    "                                                                                                stopwords + ['nan']), axis='columns')\n",
    "OM_nonnull_df['FullDescTokenized'] = [word_tokenize(desc) for desc in (OM_nonnull_df['FullDescCleaned'])]\n",
    "my_corpus, dictionary = prep_documents(OM_nonnull_df['FullDescTokenized'])"
   ]
  },
  {
   "cell_type": "markdown",
   "metadata": {},
   "source": [
    "Define function to get the coherence values"
   ]
  },
  {
   "cell_type": "code",
   "execution_count": 6,
   "metadata": {},
   "outputs": [],
   "source": [
    "def compute_coherence_values(dictionary, corpus, documents, start, limit, step, random_state=42):\n",
    "    coherence_values = []\n",
    "    model_list = []\n",
    "    for num_topics in tqdm(range(start, limit, step)):\n",
    "        model = LdaModel(corpus, num_topics=num_topics, id2word=dictionary, random_state=random_state)\n",
    "        model_list.append(model)\n",
    "        coherencemodel = CoherenceModel(model=model, texts=documents, dictionary=dictionary, coherence='c_v')\n",
    "        coherence_values.append(coherencemodel.get_coherence())\n",
    "    return model_list, coherence_values"
   ]
  },
  {
   "cell_type": "code",
   "execution_count": 7,
   "metadata": {},
   "outputs": [
    {
     "data": {
      "application/vnd.jupyter.widget-view+json": {
       "model_id": "3801ed4fb98c42229f3a0bfd5277ac23",
       "version_major": 2,
       "version_minor": 0
      },
      "text/plain": [
       "  0%|          | 0/99 [00:00<?, ?it/s]"
      ]
     },
     "metadata": {},
     "output_type": "display_data"
    },
    {
     "name": "stdout",
     "output_type": "stream",
     "text": [
      "Num Topics = 2, Coherence Value = 0.4465\n",
      "Num Topics = 3, Coherence Value = 0.4404\n",
      "Num Topics = 4, Coherence Value = 0.4056\n",
      "Num Topics = 5, Coherence Value = 0.4171\n",
      "Num Topics = 6, Coherence Value = 0.4117\n",
      "Num Topics = 7, Coherence Value = 0.3899\n",
      "Num Topics = 8, Coherence Value = 0.3993\n",
      "Num Topics = 9, Coherence Value = 0.3880\n",
      "Num Topics = 10, Coherence Value = 0.3398\n",
      "Num Topics = 11, Coherence Value = 0.3592\n",
      "Num Topics = 12, Coherence Value = 0.3630\n",
      "Num Topics = 13, Coherence Value = 0.3555\n",
      "Num Topics = 14, Coherence Value = 0.3298\n",
      "Num Topics = 15, Coherence Value = 0.3328\n",
      "Num Topics = 16, Coherence Value = 0.3290\n",
      "Num Topics = 17, Coherence Value = 0.3326\n",
      "Num Topics = 18, Coherence Value = 0.3298\n",
      "Num Topics = 19, Coherence Value = 0.3340\n",
      "Num Topics = 20, Coherence Value = 0.3267\n",
      "Num Topics = 21, Coherence Value = 0.3166\n",
      "Num Topics = 22, Coherence Value = 0.3262\n",
      "Num Topics = 23, Coherence Value = 0.3326\n",
      "Num Topics = 24, Coherence Value = 0.3287\n",
      "Num Topics = 25, Coherence Value = 0.3261\n",
      "Num Topics = 26, Coherence Value = 0.3064\n",
      "Num Topics = 27, Coherence Value = 0.3111\n",
      "Num Topics = 28, Coherence Value = 0.3267\n",
      "Num Topics = 29, Coherence Value = 0.3114\n",
      "Num Topics = 30, Coherence Value = 0.3311\n",
      "Num Topics = 31, Coherence Value = 0.3247\n",
      "Num Topics = 32, Coherence Value = 0.3394\n",
      "Num Topics = 33, Coherence Value = 0.3203\n",
      "Num Topics = 34, Coherence Value = 0.3040\n",
      "Num Topics = 35, Coherence Value = 0.3126\n",
      "Num Topics = 36, Coherence Value = 0.3097\n",
      "Num Topics = 37, Coherence Value = 0.3156\n",
      "Num Topics = 38, Coherence Value = 0.3149\n",
      "Num Topics = 39, Coherence Value = 0.3155\n",
      "Num Topics = 40, Coherence Value = 0.3099\n",
      "Num Topics = 41, Coherence Value = 0.3092\n",
      "Num Topics = 42, Coherence Value = 0.3069\n",
      "Num Topics = 43, Coherence Value = 0.3192\n",
      "Num Topics = 44, Coherence Value = 0.3027\n",
      "Num Topics = 45, Coherence Value = 0.3151\n",
      "Num Topics = 46, Coherence Value = 0.3116\n",
      "Num Topics = 47, Coherence Value = 0.3116\n",
      "Num Topics = 48, Coherence Value = 0.3032\n",
      "Num Topics = 49, Coherence Value = 0.3126\n",
      "Num Topics = 50, Coherence Value = 0.3093\n",
      "Num Topics = 51, Coherence Value = 0.3163\n",
      "Num Topics = 52, Coherence Value = 0.3109\n",
      "Num Topics = 53, Coherence Value = 0.3041\n",
      "Num Topics = 54, Coherence Value = 0.3133\n",
      "Num Topics = 55, Coherence Value = 0.3031\n",
      "Num Topics = 56, Coherence Value = 0.3089\n",
      "Num Topics = 57, Coherence Value = 0.3235\n",
      "Num Topics = 58, Coherence Value = 0.3286\n",
      "Num Topics = 59, Coherence Value = 0.3118\n",
      "Num Topics = 60, Coherence Value = 0.3021\n",
      "Num Topics = 61, Coherence Value = 0.3102\n",
      "Num Topics = 62, Coherence Value = 0.3080\n",
      "Num Topics = 63, Coherence Value = 0.3115\n",
      "Num Topics = 64, Coherence Value = 0.3084\n",
      "Num Topics = 65, Coherence Value = 0.2981\n",
      "Num Topics = 66, Coherence Value = 0.3115\n",
      "Num Topics = 67, Coherence Value = 0.3119\n",
      "Num Topics = 68, Coherence Value = 0.3111\n",
      "Num Topics = 69, Coherence Value = 0.3114\n",
      "Num Topics = 70, Coherence Value = 0.3100\n",
      "Num Topics = 71, Coherence Value = 0.3159\n",
      "Num Topics = 72, Coherence Value = 0.3096\n",
      "Num Topics = 73, Coherence Value = 0.3152\n",
      "Num Topics = 74, Coherence Value = 0.3083\n",
      "Num Topics = 75, Coherence Value = 0.3081\n",
      "Num Topics = 76, Coherence Value = 0.3110\n",
      "Num Topics = 77, Coherence Value = 0.3062\n",
      "Num Topics = 78, Coherence Value = 0.3075\n",
      "Num Topics = 79, Coherence Value = 0.3194\n",
      "Num Topics = 80, Coherence Value = 0.3101\n",
      "Num Topics = 81, Coherence Value = 0.3086\n",
      "Num Topics = 82, Coherence Value = 0.3136\n",
      "Num Topics = 83, Coherence Value = 0.2979\n",
      "Num Topics = 84, Coherence Value = 0.3016\n",
      "Num Topics = 85, Coherence Value = 0.3066\n",
      "Num Topics = 86, Coherence Value = 0.3027\n",
      "Num Topics = 87, Coherence Value = 0.3113\n",
      "Num Topics = 88, Coherence Value = 0.3070\n",
      "Num Topics = 89, Coherence Value = 0.3005\n",
      "Num Topics = 90, Coherence Value = 0.3079\n",
      "Num Topics = 91, Coherence Value = 0.3088\n",
      "Num Topics = 92, Coherence Value = 0.3026\n",
      "Num Topics = 93, Coherence Value = 0.3088\n",
      "Num Topics = 94, Coherence Value = 0.3026\n",
      "Num Topics = 95, Coherence Value = 0.3010\n",
      "Num Topics = 96, Coherence Value = 0.2970\n",
      "Num Topics = 97, Coherence Value = 0.3055\n",
      "Num Topics = 98, Coherence Value = 0.3094\n",
      "Num Topics = 99, Coherence Value = 0.3025\n",
      "Num Topics = 100, Coherence Value = 0.3069\n"
     ]
    }
   ],
   "source": [
    "# Compute coherence values for different numbers of topics\n",
    "start, limit, step = 2, 101, 1\n",
    "model_list, coherence_values = compute_coherence_values(dictionary, my_corpus, OM_nonnull_df['FullDescTokenized'],\n",
    "                                                        start, limit, step)\n",
    "\n",
    "# Print the coherence values\n",
    "for m, cv in zip(range(start, limit, step), coherence_values):\n",
    "    print(f\"Num Topics = {m}, Coherence Value = {cv:.4f}\")"
   ]
  },
  {
   "cell_type": "code",
   "execution_count": 9,
   "metadata": {},
   "outputs": [
    {
     "data": {
      "image/png": "[encoded data removed]",
      "text/plain": [
       "<Figure size 640x480 with 1 Axes>"
      ]
     },
     "metadata": {},
     "output_type": "display_data"
    }
   ],
   "source": [
    "# Plot coherence values\n",
    "x = range(start, limit, step)\n",
    "plt.plot(x, coherence_values)\n",
    "plt.xlabel(\"Number of Topics\")\n",
    "plt.ylabel(\"Coherence Score\")\n",
    "plt.title(\"Coherence Scores by Number of Topics\")\n",
    "plt.show()"
   ]
  },
  {
   "cell_type": "code",
   "execution_count": 17,
   "metadata": {},
   "outputs": [
    {
     "name": "stdout",
     "output_type": "stream",
     "text": [
      "2 0.44651479609677003\n",
      "32 0.33936627299426525\n",
      "58 0.3286207253464865\n",
      "79 0.31944181289181334\n"
     ]
    }
   ],
   "source": [
    "radius = 15\n",
    "for i, (k, coherence) in enumerate(zip(range(start, limit, step), coherence_values)):\n",
    "    range_min = max(0, i-radius)\n",
    "    range_max = min(len(coherence_values)-1, i+radius)\n",
    "    if coherence == max(coherence_values[range_min : range_max+1]):\n",
    "        print(k, coherence)"
   ]
  },
  {
   "cell_type": "markdown",
   "metadata": {},
   "source": [
    "32, 58, or 79 seem like good picks for the number of topics to use"
   ]
  }
 ],
 "metadata": {
  "kernelspec": {
   "display_name": "pvops",
   "language": "python",
   "name": "python3"
  },
  "language_info": {
   "codemirror_mode": {
    "name": "ipython",
    "version": 3
   },
   "file_extension": ".py",
   "mimetype": "text/x-python",
   "name": "python",
   "nbconvert_exporter": "python",
   "pygments_lexer": "ipython3",
   "version": "3.12.4"
  }
 },
 "nbformat": 4,
 "nbformat_minor": 2
}
