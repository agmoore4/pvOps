{
 "cells": [
  {
   "cell_type": "code",
   "execution_count": 1,
   "metadata": {},
   "outputs": [],
   "source": [
    "import sqlite3\n",
    "import pandas as pd\n",
    "import numpy as np\n",
    "from pvops.text.preprocess import text_remove_numbers_stopwords"
   ]
  },
  {
   "cell_type": "markdown",
   "metadata": {},
   "source": [
    "Read in O&M data"
   ]
  },
  {
   "cell_type": "code",
   "execution_count": 2,
   "metadata": {},
   "outputs": [],
   "source": [
    "PATH_TO_PVROM = '../../../pvrom-dtb/PVROM/PVROM.db'\n",
    "con = sqlite3.connect(PATH_TO_PVROM)\n",
    "cur = con.cursor() #instantiate a cursor obj\n",
    "cur.execute(\"SELECT name FROM sqlite_master WHERE type='table';\") # get all tables in dtb\n",
    "OM_df = pd.read_sql_query(\"SELECT * FROM OM\", con)"
   ]
  },
  {
   "cell_type": "markdown",
   "metadata": {},
   "source": [
    "#### Initial exploration"
   ]
  },
  {
   "cell_type": "markdown",
   "metadata": {},
   "source": [
    "Look at data: how many tickets identify an asset? How many don't?"
   ]
  },
  {
   "cell_type": "code",
   "execution_count": 3,
   "metadata": {},
   "outputs": [
    {
     "name": "stdout",
     "output_type": "stream",
     "text": [
      "4688 / 52838 are null (8.9%)\n"
     ]
    }
   ],
   "source": [
    "asset_is_null_mask = OM_df['Asset'].isnull()\n",
    "desc_is_null_mask = OM_df['GeneralDesc'].isnull()\n",
    "print(f'{asset_is_null_mask.sum()} / {len(OM_df)} are null ({asset_is_null_mask.mean().round(3) * 100}%)')"
   ]
  },
  {
   "cell_type": "code",
   "execution_count": 4,
   "metadata": {},
   "outputs": [],
   "source": [
    "# make new dataframe with info we want\n",
    "simple_asset_df = OM_df.loc[~np.bitwise_or(asset_is_null_mask, desc_is_null_mask), ['GeneralDesc','Asset']]\n",
    "\n",
    "# use asset mapping to simplify\n",
    "simple_asset_df['Asset'] = simple_asset_df['Asset'].str.lower()\n",
    "\n",
    "# boolean to describe if it's an inverter asset\n",
    "simple_asset_df['IsInverter'] = simple_asset_df['Asset'].str.contains('inverter')\n",
    "simple_asset_df = simple_asset_df.drop(columns=['Asset'])\n",
    "\n",
    "# \n",
    "simple_asset_df['DescContainsInverter'] = simple_asset_df['GeneralDesc'].str.lower().str.contains('inverter')"
   ]
  },
  {
   "cell_type": "code",
   "execution_count": 5,
   "metadata": {},
   "outputs": [
    {
     "name": "stdout",
     "output_type": "stream",
     "text": [
      "15430 datapoints are truly inverters\n",
      "14333 of those datapoints were predicted correctly (92.9%).\n",
      "32691 datapoints are truly not inverters\n",
      "27994 of those datapoints were predicted correctly (85.6%).\n",
      "Overall accuracy: 88.0%\n"
     ]
    }
   ],
   "source": [
    "true_inverters = simple_asset_df[simple_asset_df['IsInverter']]\n",
    "pred_inverters = true_inverters[true_inverters['DescContainsInverter']]\n",
    "\n",
    "print('%d datapoints are truly inverters' % len(true_inverters))\n",
    "print('%d of those datapoints were predicted correctly (%.1f%%).' % (len(pred_inverters),\n",
    "                                                                     len(pred_inverters) / len(true_inverters) * 100))\n",
    "\n",
    "true_not_inverters = simple_asset_df[~simple_asset_df['IsInverter']]\n",
    "pred_not_inverters = true_not_inverters[~true_not_inverters['DescContainsInverter']]\n",
    "print('%d datapoints are truly not inverters' % len(true_not_inverters))\n",
    "print('%d of those datapoints were predicted correctly (%.1f%%).' % (len(pred_not_inverters),\n",
    "                                                                     len(pred_not_inverters) / len(true_not_inverters) * 100))\n",
    "\n",
    "print('Overall accuracy: %.1f%%' % ((len(pred_inverters) + len(pred_not_inverters)) / len(simple_asset_df) * 100))"
   ]
  },
  {
   "cell_type": "markdown",
   "metadata": {},
   "source": [
    "A \"good\" machine learning model would need to perform better than this naive approach (better than 88%)."
   ]
  },
  {
   "cell_type": "markdown",
   "metadata": {},
   "source": [
    "#### Reproducing SVM method from paper"
   ]
  },
  {
   "cell_type": "markdown",
   "metadata": {},
   "source": [
    "Clean the data"
   ]
  },
  {
   "cell_type": "code",
   "execution_count": 6,
   "metadata": {},
   "outputs": [
    {
     "name": "stderr",
     "output_type": "stream",
     "text": [
      "[nltk_data] Downloading package wordnet to\n",
      "[nltk_data]     C:\\Users\\agmoore\\AppData\\Roaming\\nltk_data...\n",
      "[nltk_data]   Package wordnet is already up-to-date!\n",
      "[nltk_data] Downloading package punkt_tab to\n",
      "[nltk_data]     C:\\Users\\agmoore\\AppData\\Roaming\\nltk_data...\n",
      "[nltk_data]   Package punkt_tab is already up-to-date!\n"
     ]
    }
   ],
   "source": [
    "from nltk import corpus\n",
    "from nltk.stem import WordNetLemmatizer\n",
    "\n",
    "from nltk import download\n",
    "download('wordnet')\n",
    "download('punkt_tab')\n",
    "\n",
    "stopwords = corpus.stopwords.words('english')\n",
    "lemmatizer = WordNetLemmatizer()"
   ]
  },
  {
   "cell_type": "code",
   "execution_count": 7,
   "metadata": {},
   "outputs": [],
   "source": [
    "# keep only the rows where the asset and general description is listed\n",
    "OM_nonnull = OM_df.dropna(subset=['Asset','GeneralDesc']).copy()\n",
    "all_descr = OM_df.dropna(subset='GeneralDesc')['GeneralDesc'].str.lower().astype('str')\n",
    "\n",
    "# clean the asset label, make it lowercase\n",
    "OM_nonnull['AssetCleaned'] = OM_nonnull.apply(lambda x: text_remove_numbers_stopwords(x['Asset'], stopwords), axis='columns')\n",
    "OM_nonnull['AssetCleaned'] = OM_nonnull['AssetCleaned'].str.lower()\n",
    "\n",
    "# get the event description to be lowercase\n",
    "OM_nonnull['GeneralDescLower'] = OM_nonnull['GeneralDesc'].str.lower()"
   ]
  },
  {
   "cell_type": "code",
   "execution_count": 8,
   "metadata": {},
   "outputs": [],
   "source": [
    "x = OM_nonnull['GeneralDescLower'].copy()\n",
    "y = OM_nonnull['AssetCleaned'].copy()"
   ]
  },
  {
   "cell_type": "markdown",
   "metadata": {},
   "source": [
    "SVM"
   ]
  },
  {
   "cell_type": "code",
   "execution_count": 98,
   "metadata": {},
   "outputs": [],
   "source": [
    "from sklearn.model_selection import train_test_split\n",
    "from sklearn.feature_extraction.text import TfidfVectorizer\n",
    "\n",
    "from sklearn.naive_bayes import MultinomialNB\n",
    "from sklearn.linear_model import LogisticRegression\n",
    "from sklearn.svm import LinearSVC\n",
    "from sklearn.ensemble import RandomForestClassifier\n",
    "\n",
    "from sklearn.metrics import accuracy_score, make_scorer\n",
    "\n",
    "from scipy.sparse import vstack\n",
    "\n",
    "import matplotlib.pyplot as plt"
   ]
  },
  {
   "cell_type": "code",
   "execution_count": 28,
   "metadata": {},
   "outputs": [],
   "source": [
    "#train/test splits\n",
    "x_train, x_test, y_train, y_test = train_test_split(x, y, test_size=0.2, random_state=24)\n",
    "\n",
    "#Transform text data into numerical values\n",
    "tf_idf_vectorizer = TfidfVectorizer(min_df=1, stop_words=stopwords, ngram_range=(1,2), sublinear_tf=True)\n",
    "\n",
    "# alldata = pd.Series(OM_nonnull[\"GeneralDescLower\"].astype(str))\n",
    "\n",
    "#fit cv to all data so that all vocab is represented\n",
    "tf_idf_vectorizer.fit(all_descr)\n",
    "\n",
    "x_train_vectorized = tf_idf_vectorizer.transform(x_train) #transform the training set\n",
    "x_test_vectorized = tf_idf_vectorizer.transform(x_test) #transform the testing set"
   ]
  },
  {
   "cell_type": "markdown",
   "metadata": {},
   "source": [
    "Try out various models:"
   ]
  },
  {
   "cell_type": "code",
   "execution_count": 11,
   "metadata": {},
   "outputs": [],
   "source": [
    "verbose = False\n",
    "dataset_sizes = [10, 30, 100, 300, 1000, 3000]#, 10000, len(y_train)]\n",
    "model_types = [MultinomialNB, LinearSVC, LogisticRegression]\n",
    "\n",
    "models_summary = {}\n",
    "for dataset_size in dataset_sizes:\n",
    "    print('Using dataset of size', dataset_size) if verbose else None\n",
    "    indices = np.random.choice(np.arange(len(y_train)), size=dataset_size, replace=False)\n",
    "    np.random.shuffle(indices)\n",
    "\n",
    "    x_train_subset = vstack([x_train_vectorized.getrow(idx) for idx in indices])\n",
    "    y_train_subset = y_train[y_train.index[indices]]\n",
    "\n",
    "    models_summary[dataset_size] = {}\n",
    "\n",
    "    for model_type in model_types:\n",
    "        model = model_type()\n",
    "        model_name = model.__class__.__name__\n",
    "        print('Training', model_name) if verbose else None\n",
    "\n",
    "        model.fit(x_train_subset, y_train_subset)\n",
    "        # train_score = model.score(x_train_subset, y_train_subset)\n",
    "        test_score = model.score(x_test_vectorized, y_test)\n",
    "        print('Test Accuracy: %.3f' % test_score) if verbose else None\n",
    "\n",
    "        model_dict = {'model' : model,\n",
    "                    # 'train score' : train_score,\n",
    "                    'test score' : test_score}\n",
    "        models_summary[dataset_size][model_name] = model_dict\n",
    "    \n",
    "    print() if verbose else None"
   ]
  },
  {
   "cell_type": "code",
   "execution_count": 12,
   "metadata": {},
   "outputs": [
    {
     "data": {
      "image/png": "[encoded data removed]",
      "text/plain": [
       "<Figure size 600x600 with 1 Axes>"
      ]
     },
     "metadata": {},
     "output_type": "display_data"
    }
   ],
   "source": [
    "fig, ax = plt.subplots(figsize=(6,6))\n",
    "\n",
    "for model_name in models_summary[dataset_sizes[0]].keys():\n",
    "    scores = [models_summary[dataset_size][model_name]['test score'] for dataset_size in models_summary.keys()]\n",
    "    ax.plot(dataset_sizes, scores, label=model_name)\n",
    "    ax.set_xlabel('Dataset Size')\n",
    "    ax.set_ylabel('Accuracy')\n",
    "    ax.set_xscale('log')\n",
    "    ax.set_ylim([0,1])\n",
    "ax.legend()\n",
    "ax.grid();"
   ]
  },
  {
   "cell_type": "markdown",
   "metadata": {},
   "source": [
    "Look more into: was the final accuracy figure on these 50-ish classes? Or on some simplified version? If all we're trying to do is identify inverter-related records, could probably simplify this a lot. -> i.e. just a binary classification problem (whether record is about inverters or not)"
   ]
  },
  {
   "cell_type": "markdown",
   "metadata": {},
   "source": [
    "There was a stat in the paper: 33% of records are inverter-related. I'm guessing this accounts for multiple classes?"
   ]
  },
  {
   "cell_type": "markdown",
   "metadata": {},
   "source": [
    "#### Same thing, but binary classification"
   ]
  },
  {
   "cell_type": "code",
   "execution_count": 13,
   "metadata": {},
   "outputs": [],
   "source": [
    "y_train_binary = y_train.str.contains('inv').astype(int)\n",
    "y_test_binary = y_test.str.contains('inv').astype(int)"
   ]
  },
  {
   "cell_type": "code",
   "execution_count": 14,
   "metadata": {},
   "outputs": [],
   "source": [
    "verbose = False\n",
    "dataset_sizes = [10, 30, 100, 300, 1000, 3000, 10000, len(y_train)]\n",
    "model_types = [MultinomialNB, LinearSVC, LogisticRegression]\n",
    "\n",
    "binary_models_summary = {}\n",
    "for dataset_size in dataset_sizes:\n",
    "    print('Using dataset of size', dataset_size) if verbose else None\n",
    "    indices = np.random.choice(np.arange(len(y_train)), size=dataset_size, replace=False)\n",
    "    np.random.shuffle(indices)\n",
    "\n",
    "    x_train_subset = vstack([x_train_vectorized.getrow(idx) for idx in indices])\n",
    "    y_train_binary_subset = y_train_binary[y_train_binary.index[indices]]\n",
    "\n",
    "    binary_models_summary[dataset_size] = {}\n",
    "\n",
    "    for model_type in model_types:\n",
    "        model = model_type()\n",
    "        model_name = model.__class__.__name__\n",
    "        print('Training', model_name) if verbose else None\n",
    "\n",
    "        model.fit(x_train_subset, y_train_binary_subset)\n",
    "        # train_score = model.score(x_train_subset, y_train_subset)\n",
    "        test_score = model.score(x_test_vectorized, y_test_binary)\n",
    "        print('Test Accuracy: %.3f' % test_score) if verbose else None\n",
    "\n",
    "        model_dict = {'model' : model,\n",
    "                    # 'train score' : train_score,\n",
    "                    'test score' : test_score}\n",
    "        binary_models_summary[dataset_size][model_name] = model_dict\n",
    "    \n",
    "    print() if verbose else None"
   ]
  },
  {
   "cell_type": "code",
   "execution_count": 15,
   "metadata": {},
   "outputs": [
    {
     "data": {
      "image/png": "[encoded data removed]",
      "text/plain": [
       "<Figure size 600x600 with 1 Axes>"
      ]
     },
     "metadata": {},
     "output_type": "display_data"
    }
   ],
   "source": [
    "fig, ax = plt.subplots(figsize=(6,6))\n",
    "\n",
    "for model_name in binary_models_summary[dataset_sizes[0]].keys():\n",
    "    scores = [binary_models_summary[dataset_size][model_name]['test score'] for dataset_size in binary_models_summary.keys()]\n",
    "    ax.plot(dataset_sizes, scores, label=model_name)\n",
    "    ax.set_xlabel('Dataset Size')\n",
    "    ax.set_ylabel('Accuracy')\n",
    "    ax.set_xscale('log')\n",
    "    ax.set_ylim([0,1])\n",
    "ax.legend()\n",
    "ax.grid();"
   ]
  },
  {
   "cell_type": "code",
   "execution_count": 16,
   "metadata": {},
   "outputs": [
    {
     "data": {
      "text/plain": [
       "{'MultinomialNB': {'model': MultinomialNB(), 'test score': 0.9435844155844156},\n",
       " 'LinearSVC': {'model': LinearSVC(), 'test score': 0.964051948051948},\n",
       " 'LogisticRegression': {'model': LogisticRegression(),\n",
       "  'test score': 0.9503376623376624}}"
      ]
     },
     "execution_count": 16,
     "metadata": {},
     "output_type": "execute_result"
    }
   ],
   "source": [
    "binary_models_summary[38496]"
   ]
  },
  {
   "cell_type": "code",
   "execution_count": 17,
   "metadata": {},
   "outputs": [
    {
     "data": {
      "text/plain": [
       "0.32065002805427983"
      ]
     },
     "execution_count": 17,
     "metadata": {},
     "output_type": "execute_result"
    }
   ],
   "source": [
    "(y_train_binary.sum() + y_test_binary.sum()) / len(y)"
   ]
  },
  {
   "cell_type": "markdown",
   "metadata": {},
   "source": [
    "So we do see that 32% of records are inverter-related.\n",
    "\n",
    "Furthermore, we get a much better accuracy with all three models using a binary response. The model also trains much faster. I have a feeling this is what was ultimately done in the paper, even though I don't see the code for it. The accuracy is much closer, and the short runtime also more accurately reflects what they reported. Finally, LinearSVC seems to perform consistently the best (although this is without any hyperparameter tuning)"
   ]
  },
  {
   "cell_type": "markdown",
   "metadata": {},
   "source": [
    "#### For now, let's go forward with LinearSVC"
   ]
  },
  {
   "cell_type": "code",
   "execution_count": 116,
   "metadata": {},
   "outputs": [],
   "source": [
    "import sys\n",
    "sys.path.append('../text')\n",
    "import defaults, classify\n",
    "from sklearn.model_selection import GridSearchCV"
   ]
  },
  {
   "cell_type": "code",
   "execution_count": 120,
   "metadata": {},
   "outputs": [
    {
     "data": {
      "text/html": [
       "<style>#sk-container-id-4 {\n",
       "  /* Definition of color scheme common for light and dark mode */\n",
       "  --sklearn-color-text: black;\n",
       "  --sklearn-color-line: gray;\n",
       "  /* Definition of color scheme for unfitted estimators */\n",
       "  --sklearn-color-unfitted-level-0: #fff5e6;\n",
       "  --sklearn-color-unfitted-level-1: #f6e4d2;\n",
       "  --sklearn-color-unfitted-level-2: #ffe0b3;\n",
       "  --sklearn-color-unfitted-level-3: chocolate;\n",
       "  /* Definition of color scheme for fitted estimators */\n",
       "  --sklearn-color-fitted-level-0: #f0f8ff;\n",
       "  --sklearn-color-fitted-level-1: #d4ebff;\n",
       "  --sklearn-color-fitted-level-2: #b3dbfd;\n",
       "  --sklearn-color-fitted-level-3: cornflowerblue;\n",
       "\n",
       "  /* Specific color for light theme */\n",
       "  --sklearn-color-text-on-default-background: var(--sg-text-color, var(--theme-code-foreground, var(--jp-content-font-color1, black)));\n",
       "  --sklearn-color-background: var(--sg-background-color, var(--theme-background, var(--jp-layout-color0, white)));\n",
       "  --sklearn-color-border-box: var(--sg-text-color, var(--theme-code-foreground, var(--jp-content-font-color1, black)));\n",
       "  --sklearn-color-icon: #696969;\n",
       "\n",
       "  @media (prefers-color-scheme: dark) {\n",
       "    /* Redefinition of color scheme for dark theme */\n",
       "    --sklearn-color-text-on-default-background: var(--sg-text-color, var(--theme-code-foreground, var(--jp-content-font-color1, white)));\n",
       "    --sklearn-color-background: var(--sg-background-color, var(--theme-background, var(--jp-layout-color0, #111)));\n",
       "    --sklearn-color-border-box: var(--sg-text-color, var(--theme-code-foreground, var(--jp-content-font-color1, white)));\n",
       "    --sklearn-color-icon: #878787;\n",
       "  }\n",
       "}\n",
       "\n",
       "#sk-container-id-4 {\n",
       "  color: var(--sklearn-color-text);\n",
       "}\n",
       "\n",
       "#sk-container-id-4 pre {\n",
       "  padding: 0;\n",
       "}\n",
       "\n",
       "#sk-container-id-4 input.sk-hidden--visually {\n",
       "  border: 0;\n",
       "  clip: rect(1px 1px 1px 1px);\n",
       "  clip: rect(1px, 1px, 1px, 1px);\n",
       "  height: 1px;\n",
       "  margin: -1px;\n",
       "  overflow: hidden;\n",
       "  padding: 0;\n",
       "  position: absolute;\n",
       "  width: 1px;\n",
       "}\n",
       "\n",
       "#sk-container-id-4 div.sk-dashed-wrapped {\n",
       "  border: 1px dashed var(--sklearn-color-line);\n",
       "  margin: 0 0.4em 0.5em 0.4em;\n",
       "  box-sizing: border-box;\n",
       "  padding-bottom: 0.4em;\n",
       "  background-color: var(--sklearn-color-background);\n",
       "}\n",
       "\n",
       "#sk-container-id-4 div.sk-container {\n",
       "  /* jupyter's `normalize.less` sets `[hidden] { display: none; }`\n",
       "     but bootstrap.min.css set `[hidden] { display: none !important; }`\n",
       "     so we also need the `!important` here to be able to override the\n",
       "     default hidden behavior on the sphinx rendered scikit-learn.org.\n",
       "     See: https://github.com/scikit-learn/scikit-learn/issues/21755 */\n",
       "  display: inline-block !important;\n",
       "  position: relative;\n",
       "}\n",
       "\n",
       "#sk-container-id-4 div.sk-text-repr-fallback {\n",
       "  display: none;\n",
       "}\n",
       "\n",
       "div.sk-parallel-item,\n",
       "div.sk-serial,\n",
       "div.sk-item {\n",
       "  /* draw centered vertical line to link estimators */\n",
       "  background-image: linear-gradient(var(--sklearn-color-text-on-default-background), var(--sklearn-color-text-on-default-background));\n",
       "  background-size: 2px 100%;\n",
       "  background-repeat: no-repeat;\n",
       "  background-position: center center;\n",
       "}\n",
       "\n",
       "/* Parallel-specific style estimator block */\n",
       "\n",
       "#sk-container-id-4 div.sk-parallel-item::after {\n",
       "  content: \"\";\n",
       "  width: 100%;\n",
       "  border-bottom: 2px solid var(--sklearn-color-text-on-default-background);\n",
       "  flex-grow: 1;\n",
       "}\n",
       "\n",
       "#sk-container-id-4 div.sk-parallel {\n",
       "  display: flex;\n",
       "  align-items: stretch;\n",
       "  justify-content: center;\n",
       "  background-color: var(--sklearn-color-background);\n",
       "  position: relative;\n",
       "}\n",
       "\n",
       "#sk-container-id-4 div.sk-parallel-item {\n",
       "  display: flex;\n",
       "  flex-direction: column;\n",
       "}\n",
       "\n",
       "#sk-container-id-4 div.sk-parallel-item:first-child::after {\n",
       "  align-self: flex-end;\n",
       "  width: 50%;\n",
       "}\n",
       "\n",
       "#sk-container-id-4 div.sk-parallel-item:last-child::after {\n",
       "  align-self: flex-start;\n",
       "  width: 50%;\n",
       "}\n",
       "\n",
       "#sk-container-id-4 div.sk-parallel-item:only-child::after {\n",
       "  width: 0;\n",
       "}\n",
       "\n",
       "/* Serial-specific style estimator block */\n",
       "\n",
       "#sk-container-id-4 div.sk-serial {\n",
       "  display: flex;\n",
       "  flex-direction: column;\n",
       "  align-items: center;\n",
       "  background-color: var(--sklearn-color-background);\n",
       "  padding-right: 1em;\n",
       "  padding-left: 1em;\n",
       "}\n",
       "\n",
       "\n",
       "/* Toggleable style: style used for estimator/Pipeline/ColumnTransformer box that is\n",
       "clickable and can be expanded/collapsed.\n",
       "- Pipeline and ColumnTransformer use this feature and define the default style\n",
       "- Estimators will overwrite some part of the style using the `sk-estimator` class\n",
       "*/\n",
       "\n",
       "/* Pipeline and ColumnTransformer style (default) */\n",
       "\n",
       "#sk-container-id-4 div.sk-toggleable {\n",
       "  /* Default theme specific background. It is overwritten whether we have a\n",
       "  specific estimator or a Pipeline/ColumnTransformer */\n",
       "  background-color: var(--sklearn-color-background);\n",
       "}\n",
       "\n",
       "/* Toggleable label */\n",
       "#sk-container-id-4 label.sk-toggleable__label {\n",
       "  cursor: pointer;\n",
       "  display: block;\n",
       "  width: 100%;\n",
       "  margin-bottom: 0;\n",
       "  padding: 0.5em;\n",
       "  box-sizing: border-box;\n",
       "  text-align: center;\n",
       "}\n",
       "\n",
       "#sk-container-id-4 label.sk-toggleable__label-arrow:before {\n",
       "  /* Arrow on the left of the label */\n",
       "  content: \"▸\";\n",
       "  float: left;\n",
       "  margin-right: 0.25em;\n",
       "  color: var(--sklearn-color-icon);\n",
       "}\n",
       "\n",
       "#sk-container-id-4 label.sk-toggleable__label-arrow:hover:before {\n",
       "  color: var(--sklearn-color-text);\n",
       "}\n",
       "\n",
       "/* Toggleable content - dropdown */\n",
       "\n",
       "#sk-container-id-4 div.sk-toggleable__content {\n",
       "  max-height: 0;\n",
       "  max-width: 0;\n",
       "  overflow: hidden;\n",
       "  text-align: left;\n",
       "  /* unfitted */\n",
       "  background-color: var(--sklearn-color-unfitted-level-0);\n",
       "}\n",
       "\n",
       "#sk-container-id-4 div.sk-toggleable__content.fitted {\n",
       "  /* fitted */\n",
       "  background-color: var(--sklearn-color-fitted-level-0);\n",
       "}\n",
       "\n",
       "#sk-container-id-4 div.sk-toggleable__content pre {\n",
       "  margin: 0.2em;\n",
       "  border-radius: 0.25em;\n",
       "  color: var(--sklearn-color-text);\n",
       "  /* unfitted */\n",
       "  background-color: var(--sklearn-color-unfitted-level-0);\n",
       "}\n",
       "\n",
       "#sk-container-id-4 div.sk-toggleable__content.fitted pre {\n",
       "  /* unfitted */\n",
       "  background-color: var(--sklearn-color-fitted-level-0);\n",
       "}\n",
       "\n",
       "#sk-container-id-4 input.sk-toggleable__control:checked~div.sk-toggleable__content {\n",
       "  /* Expand drop-down */\n",
       "  max-height: 200px;\n",
       "  max-width: 100%;\n",
       "  overflow: auto;\n",
       "}\n",
       "\n",
       "#sk-container-id-4 input.sk-toggleable__control:checked~label.sk-toggleable__label-arrow:before {\n",
       "  content: \"▾\";\n",
       "}\n",
       "\n",
       "/* Pipeline/ColumnTransformer-specific style */\n",
       "\n",
       "#sk-container-id-4 div.sk-label input.sk-toggleable__control:checked~label.sk-toggleable__label {\n",
       "  color: var(--sklearn-color-text);\n",
       "  background-color: var(--sklearn-color-unfitted-level-2);\n",
       "}\n",
       "\n",
       "#sk-container-id-4 div.sk-label.fitted input.sk-toggleable__control:checked~label.sk-toggleable__label {\n",
       "  background-color: var(--sklearn-color-fitted-level-2);\n",
       "}\n",
       "\n",
       "/* Estimator-specific style */\n",
       "\n",
       "/* Colorize estimator box */\n",
       "#sk-container-id-4 div.sk-estimator input.sk-toggleable__control:checked~label.sk-toggleable__label {\n",
       "  /* unfitted */\n",
       "  background-color: var(--sklearn-color-unfitted-level-2);\n",
       "}\n",
       "\n",
       "#sk-container-id-4 div.sk-estimator.fitted input.sk-toggleable__control:checked~label.sk-toggleable__label {\n",
       "  /* fitted */\n",
       "  background-color: var(--sklearn-color-fitted-level-2);\n",
       "}\n",
       "\n",
       "#sk-container-id-4 div.sk-label label.sk-toggleable__label,\n",
       "#sk-container-id-4 div.sk-label label {\n",
       "  /* The background is the default theme color */\n",
       "  color: var(--sklearn-color-text-on-default-background);\n",
       "}\n",
       "\n",
       "/* On hover, darken the color of the background */\n",
       "#sk-container-id-4 div.sk-label:hover label.sk-toggleable__label {\n",
       "  color: var(--sklearn-color-text);\n",
       "  background-color: var(--sklearn-color-unfitted-level-2);\n",
       "}\n",
       "\n",
       "/* Label box, darken color on hover, fitted */\n",
       "#sk-container-id-4 div.sk-label.fitted:hover label.sk-toggleable__label.fitted {\n",
       "  color: var(--sklearn-color-text);\n",
       "  background-color: var(--sklearn-color-fitted-level-2);\n",
       "}\n",
       "\n",
       "/* Estimator label */\n",
       "\n",
       "#sk-container-id-4 div.sk-label label {\n",
       "  font-family: monospace;\n",
       "  font-weight: bold;\n",
       "  display: inline-block;\n",
       "  line-height: 1.2em;\n",
       "}\n",
       "\n",
       "#sk-container-id-4 div.sk-label-container {\n",
       "  text-align: center;\n",
       "}\n",
       "\n",
       "/* Estimator-specific */\n",
       "#sk-container-id-4 div.sk-estimator {\n",
       "  font-family: monospace;\n",
       "  border: 1px dotted var(--sklearn-color-border-box);\n",
       "  border-radius: 0.25em;\n",
       "  box-sizing: border-box;\n",
       "  margin-bottom: 0.5em;\n",
       "  /* unfitted */\n",
       "  background-color: var(--sklearn-color-unfitted-level-0);\n",
       "}\n",
       "\n",
       "#sk-container-id-4 div.sk-estimator.fitted {\n",
       "  /* fitted */\n",
       "  background-color: var(--sklearn-color-fitted-level-0);\n",
       "}\n",
       "\n",
       "/* on hover */\n",
       "#sk-container-id-4 div.sk-estimator:hover {\n",
       "  /* unfitted */\n",
       "  background-color: var(--sklearn-color-unfitted-level-2);\n",
       "}\n",
       "\n",
       "#sk-container-id-4 div.sk-estimator.fitted:hover {\n",
       "  /* fitted */\n",
       "  background-color: var(--sklearn-color-fitted-level-2);\n",
       "}\n",
       "\n",
       "/* Specification for estimator info (e.g. \"i\" and \"?\") */\n",
       "\n",
       "/* Common style for \"i\" and \"?\" */\n",
       "\n",
       ".sk-estimator-doc-link,\n",
       "a:link.sk-estimator-doc-link,\n",
       "a:visited.sk-estimator-doc-link {\n",
       "  float: right;\n",
       "  font-size: smaller;\n",
       "  line-height: 1em;\n",
       "  font-family: monospace;\n",
       "  background-color: var(--sklearn-color-background);\n",
       "  border-radius: 1em;\n",
       "  height: 1em;\n",
       "  width: 1em;\n",
       "  text-decoration: none !important;\n",
       "  margin-left: 1ex;\n",
       "  /* unfitted */\n",
       "  border: var(--sklearn-color-unfitted-level-1) 1pt solid;\n",
       "  color: var(--sklearn-color-unfitted-level-1);\n",
       "}\n",
       "\n",
       ".sk-estimator-doc-link.fitted,\n",
       "a:link.sk-estimator-doc-link.fitted,\n",
       "a:visited.sk-estimator-doc-link.fitted {\n",
       "  /* fitted */\n",
       "  border: var(--sklearn-color-fitted-level-1) 1pt solid;\n",
       "  color: var(--sklearn-color-fitted-level-1);\n",
       "}\n",
       "\n",
       "/* On hover */\n",
       "div.sk-estimator:hover .sk-estimator-doc-link:hover,\n",
       ".sk-estimator-doc-link:hover,\n",
       "div.sk-label-container:hover .sk-estimator-doc-link:hover,\n",
       ".sk-estimator-doc-link:hover {\n",
       "  /* unfitted */\n",
       "  background-color: var(--sklearn-color-unfitted-level-3);\n",
       "  color: var(--sklearn-color-background);\n",
       "  text-decoration: none;\n",
       "}\n",
       "\n",
       "div.sk-estimator.fitted:hover .sk-estimator-doc-link.fitted:hover,\n",
       ".sk-estimator-doc-link.fitted:hover,\n",
       "div.sk-label-container:hover .sk-estimator-doc-link.fitted:hover,\n",
       ".sk-estimator-doc-link.fitted:hover {\n",
       "  /* fitted */\n",
       "  background-color: var(--sklearn-color-fitted-level-3);\n",
       "  color: var(--sklearn-color-background);\n",
       "  text-decoration: none;\n",
       "}\n",
       "\n",
       "/* Span, style for the box shown on hovering the info icon */\n",
       ".sk-estimator-doc-link span {\n",
       "  display: none;\n",
       "  z-index: 9999;\n",
       "  position: relative;\n",
       "  font-weight: normal;\n",
       "  right: .2ex;\n",
       "  padding: .5ex;\n",
       "  margin: .5ex;\n",
       "  width: min-content;\n",
       "  min-width: 20ex;\n",
       "  max-width: 50ex;\n",
       "  color: var(--sklearn-color-text);\n",
       "  box-shadow: 2pt 2pt 4pt #999;\n",
       "  /* unfitted */\n",
       "  background: var(--sklearn-color-unfitted-level-0);\n",
       "  border: .5pt solid var(--sklearn-color-unfitted-level-3);\n",
       "}\n",
       "\n",
       ".sk-estimator-doc-link.fitted span {\n",
       "  /* fitted */\n",
       "  background: var(--sklearn-color-fitted-level-0);\n",
       "  border: var(--sklearn-color-fitted-level-3);\n",
       "}\n",
       "\n",
       ".sk-estimator-doc-link:hover span {\n",
       "  display: block;\n",
       "}\n",
       "\n",
       "/* \"?\"-specific style due to the `<a>` HTML tag */\n",
       "\n",
       "#sk-container-id-4 a.estimator_doc_link {\n",
       "  float: right;\n",
       "  font-size: 1rem;\n",
       "  line-height: 1em;\n",
       "  font-family: monospace;\n",
       "  background-color: var(--sklearn-color-background);\n",
       "  border-radius: 1rem;\n",
       "  height: 1rem;\n",
       "  width: 1rem;\n",
       "  text-decoration: none;\n",
       "  /* unfitted */\n",
       "  color: var(--sklearn-color-unfitted-level-1);\n",
       "  border: var(--sklearn-color-unfitted-level-1) 1pt solid;\n",
       "}\n",
       "\n",
       "#sk-container-id-4 a.estimator_doc_link.fitted {\n",
       "  /* fitted */\n",
       "  border: var(--sklearn-color-fitted-level-1) 1pt solid;\n",
       "  color: var(--sklearn-color-fitted-level-1);\n",
       "}\n",
       "\n",
       "/* On hover */\n",
       "#sk-container-id-4 a.estimator_doc_link:hover {\n",
       "  /* unfitted */\n",
       "  background-color: var(--sklearn-color-unfitted-level-3);\n",
       "  color: var(--sklearn-color-background);\n",
       "  text-decoration: none;\n",
       "}\n",
       "\n",
       "#sk-container-id-4 a.estimator_doc_link.fitted:hover {\n",
       "  /* fitted */\n",
       "  background-color: var(--sklearn-color-fitted-level-3);\n",
       "}\n",
       "</style><div id=\"sk-container-id-4\" class=\"sk-top-container\"><div class=\"sk-text-repr-fallback\"><pre>GridSearchCV(estimator=LinearSVC(), n_jobs=-1,\n",
       "             param_grid={&#x27;C&#x27;: [0.01, 0.1, 1, 10.0, 100.0, 1000.0]})</pre><b>In a Jupyter environment, please rerun this cell to show the HTML representation or trust the notebook. <br />On GitHub, the HTML representation is unable to render, please try loading this page with nbviewer.org.</b></div><div class=\"sk-container\" hidden><div class=\"sk-item sk-dashed-wrapped\"><div class=\"sk-label-container\"><div class=\"sk-label fitted sk-toggleable\"><input class=\"sk-toggleable__control sk-hidden--visually\" id=\"sk-estimator-id-10\" type=\"checkbox\" ><label for=\"sk-estimator-id-10\" class=\"sk-toggleable__label fitted sk-toggleable__label-arrow fitted\">&nbsp;&nbsp;GridSearchCV<a class=\"sk-estimator-doc-link fitted\" rel=\"noreferrer\" target=\"_blank\" href=\"https://scikit-learn.org/1.5/modules/generated/sklearn.model_selection.GridSearchCV.html\">?<span>Documentation for GridSearchCV</span></a><span class=\"sk-estimator-doc-link fitted\">i<span>Fitted</span></span></label><div class=\"sk-toggleable__content fitted\"><pre>GridSearchCV(estimator=LinearSVC(), n_jobs=-1,\n",
       "             param_grid={&#x27;C&#x27;: [0.01, 0.1, 1, 10.0, 100.0, 1000.0]})</pre></div> </div></div><div class=\"sk-parallel\"><div class=\"sk-parallel-item\"><div class=\"sk-item\"><div class=\"sk-label-container\"><div class=\"sk-label fitted sk-toggleable\"><input class=\"sk-toggleable__control sk-hidden--visually\" id=\"sk-estimator-id-11\" type=\"checkbox\" ><label for=\"sk-estimator-id-11\" class=\"sk-toggleable__label fitted sk-toggleable__label-arrow fitted\">best_estimator_: LinearSVC</label><div class=\"sk-toggleable__content fitted\"><pre>LinearSVC(C=0.1)</pre></div> </div></div><div class=\"sk-serial\"><div class=\"sk-item\"><div class=\"sk-estimator fitted sk-toggleable\"><input class=\"sk-toggleable__control sk-hidden--visually\" id=\"sk-estimator-id-12\" type=\"checkbox\" ><label for=\"sk-estimator-id-12\" class=\"sk-toggleable__label fitted sk-toggleable__label-arrow fitted\">&nbsp;LinearSVC<a class=\"sk-estimator-doc-link fitted\" rel=\"noreferrer\" target=\"_blank\" href=\"https://scikit-learn.org/1.5/modules/generated/sklearn.svm.LinearSVC.html\">?<span>Documentation for LinearSVC</span></a></label><div class=\"sk-toggleable__content fitted\"><pre>LinearSVC(C=0.1)</pre></div> </div></div></div></div></div></div></div></div></div>"
      ],
      "text/plain": [
       "GridSearchCV(estimator=LinearSVC(), n_jobs=-1,\n",
       "             param_grid={'C': [0.01, 0.1, 1, 10.0, 100.0, 1000.0]})"
      ]
     },
     "execution_count": 120,
     "metadata": {},
     "output_type": "execute_result"
    }
   ],
   "source": [
    "param_grid = defaults.supervised_classifier_defs('detailed')[0]['LinearSVC']\n",
    "param_grid = {param.split('__')[-1]: vals for  param, vals in param_grid.items()}\n",
    "param_grid = {'C':param_grid['C']} # experimentation showed max_iter didn't do much\n",
    "gridsearch = GridSearchCV(LinearSVC(), param_grid, n_jobs=-1)\n",
    "gridsearch.fit(full_x_vectorized, full_y_binary)"
   ]
  },
  {
   "cell_type": "code",
   "execution_count": 122,
   "metadata": {},
   "outputs": [
    {
     "name": "stdout",
     "output_type": "stream",
     "text": [
      "Params: {'C': 0.01}:\t 0.880+-0.042 (took 2.5 seconds to fit)\n",
      "Params: {'C': 0.1}:\t 0.904+-0.055 (took 1.6 seconds to fit)\n",
      "Params: {'C': 1}:\t 0.901+-0.055 (took 3.4 seconds to fit)\n",
      "Params: {'C': 10.0}:\t 0.890+-0.053 (took 24.8 seconds to fit)\n",
      "Params: {'C': 100.0}:\t 0.881+-0.050 (took 50.2 seconds to fit)\n",
      "Params: {'C': 1000.0}:\t 0.879+-0.050 (took 48.9 seconds to fit)\n"
     ]
    }
   ],
   "source": [
    "for params, mean_test_score, std_test_score, time in zip(gridsearch.cv_results_['params'],\n",
    "                                                            gridsearch.cv_results_['mean_test_score'],\n",
    "                                                            gridsearch.cv_results_['std_test_score'],\n",
    "                                                            gridsearch.cv_results_['mean_fit_time']):\n",
    "    print('Params: %s:\\t %.3f+-%.3f (took %.1f seconds to fit)'%(params, mean_test_score, std_test_score, time))"
   ]
  },
  {
   "cell_type": "markdown",
   "metadata": {},
   "source": [
    "After all that, the best parameter choice is `C=1`... the default (and what we were already using). Oh well, good to be thorough."
   ]
  },
  {
   "cell_type": "markdown",
   "metadata": {},
   "source": [
    "#### Label datapoints with asset missing"
   ]
  },
  {
   "cell_type": "code",
   "execution_count": 23,
   "metadata": {},
   "outputs": [],
   "source": [
    "full_x_vectorized = tf_idf_vectorizer.transform(x)\n",
    "full_y_binary = y.str.contains('inv').astype(int)\n",
    "final_model = LinearSVC().fit(full_x_vectorized, full_y_binary)\n",
    "\n",
    "x_to_predict = OM_df[asset_is_null_mask & ~desc_is_null_mask]['GeneralDesc']\n",
    "x_to_predict_vectorized = tf_idf_vectorizer.transform(x_to_predict)\n",
    "asset_gap_fills = final_model.predict(x_to_predict_vectorized)"
   ]
  },
  {
   "cell_type": "markdown",
   "metadata": {},
   "source": [
    "Now, let's gapfill everything, and then save the inverter records"
   ]
  },
  {
   "cell_type": "code",
   "execution_count": 24,
   "metadata": {},
   "outputs": [],
   "source": [
    "OM_gapfilled_df = OM_df.copy()\n",
    "OM_gapfilled_df['AssetIsInverter'] = OM_gapfilled_df['Asset'].str.lower().str.contains('inv')\n",
    "OM_gapfilled_df.loc[asset_is_null_mask,'AssetIsInverter'] = asset_gap_fills.astype(bool)\n",
    "OM_inverter_df = OM_gapfilled_df[OM_gapfilled_df['AssetIsInverter']].drop(columns=['AssetIsInverter'])"
   ]
  },
  {
   "cell_type": "markdown",
   "metadata": {},
   "source": [
    "Let's also grab the relevant metadata and add to our dataframe"
   ]
  },
  {
   "cell_type": "code",
   "execution_count": 25,
   "metadata": {},
   "outputs": [],
   "source": [
    "meta_df = pd.read_sql_query(\"SELECT * FROM METADATA\", con)[['randid','states','Commissioning_Date']]\n",
    "final_df = OM_inverter_df.merge(meta_df, on='randid', how='left')"
   ]
  },
  {
   "cell_type": "code",
   "execution_count": 26,
   "metadata": {},
   "outputs": [],
   "source": [
    "final_df.to_csv('inverter_OM_records.csv', index=False)"
   ]
  },
  {
   "cell_type": "markdown",
   "metadata": {},
   "source": [
    "#### Redo last part, but using pvops functions"
   ]
  },
  {
   "cell_type": "code",
   "execution_count": 124,
   "metadata": {},
   "outputs": [
    {
     "name": "stdout",
     "output_type": "stream",
     "text": [
      "Fitting 5 folds for each of 5 candidates, totalling 25 fits\n",
      "Better score (0.905) found on classifier: LinearSVC\n",
      "Fitting 5 folds for each of 5 candidates, totalling 25 fits\n",
      "Fitting 5 folds for each of 18 candidates, totalling 90 fits\n",
      "Fitting 5 folds for each of 5 candidates, totalling 25 fits\n"
     ]
    }
   ],
   "source": [
    "pipeline_steps = [('tfidf', tf_idf_vectorizer),\n",
    "                  ('clf', None)]\n",
    "\n",
    "classifiers = {'LinearSVC' : LinearSVC(),\n",
    "               'LogisticRegression' : LogisticRegression(),\n",
    "               'RandomForestClassifier' : RandomForestClassifier(),\n",
    "               'MultinomialNB' : MultinomialNB()}\n",
    "\n",
    "param_grid = {'LinearSVC' : {'clf__C': [0.01, 0.1, 1, 10, 100]},\n",
    "              'LogisticRegression' : {'clf__C' : [0.01, 0.1, 1, 10, 100]},\n",
    "              'RandomForestClassifier' : {'clf__n_estimators': [4, 16, 64],\n",
    "                                          'clf__criterion': ['gini', 'entropy'],\n",
    "                                          'clf__max_depth': [1, 2, 4]},\n",
    "              'MultinomialNB' : {'clf__alpha' : [0.01, 0.1, 1, 10, 100]}}\n",
    "\n",
    "results = classify.classification_deployer(x, full_y_binary.astype(bool),\n",
    "                                            n_splits=5,\n",
    "                                            classifiers=classifiers,\n",
    "                                            search_space=param_grid,\n",
    "                                            pipeline_steps=pipeline_steps,\n",
    "                                            scoring=make_scorer(accuracy_score),\n",
    "                                            verbose=10)"
   ]
  },
  {
   "cell_type": "code",
   "execution_count": 131,
   "metadata": {},
   "outputs": [],
   "source": [
    "x_to_predict = OM_df[asset_is_null_mask & ~desc_is_null_mask]['GeneralDesc']\n",
    "asset_gap_fills = results[1].predict(x_to_predict)"
   ]
  },
  {
   "cell_type": "code",
   "execution_count": 137,
   "metadata": {},
   "outputs": [],
   "source": [
    "OM_gapfilled_df = OM_df.copy()\n",
    "OM_gapfilled_df['AssetIsInverter'] = OM_gapfilled_df['Asset'].str.lower().str.contains('inv')\n",
    "OM_gapfilled_df.loc[asset_is_null_mask,'AssetIsInverter'] = asset_gap_fills\n",
    "OM_inverter_df = OM_gapfilled_df[OM_gapfilled_df['AssetIsInverter']].drop(columns=['AssetIsInverter'])"
   ]
  },
  {
   "cell_type": "markdown",
   "metadata": {},
   "source": [
    "Let's also grab the relevant metadata and add to our dataframe"
   ]
  },
  {
   "cell_type": "code",
   "execution_count": 139,
   "metadata": {},
   "outputs": [],
   "source": [
    "meta_df = pd.read_sql_query(\"SELECT * FROM METADATA\", con)[['randid','states','Commissioning_Date']]\n",
    "final_df = OM_inverter_df.merge(meta_df, on='randid', how='left')"
   ]
  },
  {
   "cell_type": "code",
   "execution_count": 140,
   "metadata": {},
   "outputs": [],
   "source": [
    "final_df.to_csv('inverter_OM_records.csv', index=False)"
   ]
  }
 ],
 "metadata": {
  "kernelspec": {
   "display_name": "pvops",
   "language": "python",
   "name": "python3"
  },
  "language_info": {
   "codemirror_mode": {
    "name": "ipython",
    "version": 3
   },
   "file_extension": ".py",
   "mimetype": "text/x-python",
   "name": "python",
   "nbconvert_exporter": "python",
   "pygments_lexer": "ipython3",
   "version": "3.12.4"
  }
 },
 "nbformat": 4,
 "nbformat_minor": 2
}
